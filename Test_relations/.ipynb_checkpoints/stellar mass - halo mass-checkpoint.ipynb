{
 "cells": [
  {
   "cell_type": "code",
   "execution_count": 2,
   "id": "b5def0ff",
   "metadata": {},
   "outputs": [],
   "source": [
    "import numpy as np\n",
    "import matplotlib.pyplot as plt\n",
    "from illustris_python import illustris_python as il"
   ]
  },
  {
   "cell_type": "code",
   "execution_count": 3,
   "id": "4c858b65",
   "metadata": {},
   "outputs": [],
   "source": [
    "basePath = '/x/Physics/AstroPhysics/Shared-New/DATA/IllustrisTNG/TNG100-1/output'"
   ]
  },
  {
   "cell_type": "code",
   "execution_count": 4,
   "id": "43fe9576",
   "metadata": {},
   "outputs": [],
   "source": [
    "groupFirstSub = il.groupcat.loadHalos(basePath, 50, fields = ['GroupFirstSub'])"
   ]
  },
  {
   "cell_type": "code",
   "execution_count": 5,
   "id": "ed83ccf6",
   "metadata": {},
   "outputs": [
    {
     "data": {
      "text/plain": [
       "array([   0, 4949, 9957, ...,   -1,   -1,   -1], dtype=int32)"
      ]
     },
     "execution_count": 5,
     "metadata": {},
     "output_type": "execute_result"
    }
   ],
   "source": [
    "groupFirstSub"
   ]
  },
  {
   "cell_type": "code",
   "execution_count": 6,
   "id": "93c602e7",
   "metadata": {},
   "outputs": [],
   "source": [
    "subHaloData = il.groupcat.loadSubhalos(basePath, 50, fields = ['SubhaloFlag', 'SubhaloMassType', 'SubhaloMass'])"
   ]
  },
  {
   "cell_type": "code",
   "execution_count": 7,
   "id": "aff611ad",
   "metadata": {},
   "outputs": [],
   "source": [
    "sh_flag = subHaloData['SubhaloFlag']"
   ]
  },
  {
   "cell_type": "code",
   "execution_count": 8,
   "id": "6aa5ddd2",
   "metadata": {},
   "outputs": [],
   "source": [
    "sh_mstar = subHaloData['SubhaloMassType'][:,il.util.partTypeNum('stars')]\n",
    "sh_mDM = subHaloData['SubhaloMassType'][:,il.util.partTypeNum('dm')]"
   ]
  },
  {
   "cell_type": "code",
   "execution_count": 9,
   "id": "8840d9e5",
   "metadata": {},
   "outputs": [
    {
     "ename": "IndexError",
     "evalue": "too many indices for array: array is 1-dimensional, but 2 were indexed",
     "output_type": "error",
     "traceback": [
      "\u001b[0;31m---------------------------------------------------------------------------\u001b[0m",
      "\u001b[0;31mIndexError\u001b[0m                                Traceback (most recent call last)",
      "Input \u001b[0;32mIn [9]\u001b[0m, in \u001b[0;36m<cell line: 1>\u001b[0;34m()\u001b[0m\n\u001b[0;32m----> 1\u001b[0m \u001b[43msh_mstar\u001b[49m\u001b[43m[\u001b[49m\u001b[43m:\u001b[49m\u001b[43m,\u001b[49m\u001b[43mil\u001b[49m\u001b[38;5;241;43m.\u001b[39;49m\u001b[43mutil\u001b[49m\u001b[38;5;241;43m.\u001b[39;49m\u001b[43mpartTypeNum\u001b[49m\u001b[43m(\u001b[49m\u001b[38;5;124;43m'\u001b[39;49m\u001b[38;5;124;43mstars\u001b[39;49m\u001b[38;5;124;43m'\u001b[39;49m\u001b[43m)\u001b[49m\u001b[43m]\u001b[49m\n",
      "\u001b[0;31mIndexError\u001b[0m: too many indices for array: array is 1-dimensional, but 2 were indexed"
     ]
    }
   ],
   "source": [
    "sh_mstar[:,il.util.partTypeNum('stars')]"
   ]
  },
  {
   "cell_type": "code",
   "execution_count": 10,
   "id": "cd54c0b8",
   "metadata": {},
   "outputs": [
    {
     "name": "stderr",
     "output_type": "stream",
     "text": [
      "/tmp/ipykernel_5070/2506854795.py:5: RuntimeWarning: divide by zero encountered in log10\n",
      "  sh_mstar = np.log10(sh_mstar) + 10\n",
      "/tmp/ipykernel_5070/2506854795.py:6: RuntimeWarning: divide by zero encountered in log10\n",
      "  sh_mDM = np.log10(sh_mDM) + 10\n"
     ]
    }
   ],
   "source": [
    "good_cen_idx = np.intersect1d(groupFirstSub, np.where(sh_flag==1)[0])\n",
    "\n",
    "sh_mstar = subHaloData['SubhaloMassType'][good_cen_idx,il.util.partTypeNum('stars')]\n",
    "sh_mDM = subHaloData['SubhaloMassType'][good_cen_idx,il.util.partTypeNum('dm')]\n",
    "sh_mstar = np.log10(sh_mstar) + 10\n",
    "sh_mDM = np.log10(sh_mDM) + 10"
   ]
  },
  {
   "cell_type": "code",
   "execution_count": 1,
   "id": "e99d9e1d",
   "metadata": {},
   "outputs": [
    {
     "ename": "NameError",
     "evalue": "name 'plt' is not defined",
     "output_type": "error",
     "traceback": [
      "\u001b[0;31m---------------------------------------------------------------------------\u001b[0m",
      "\u001b[0;31mNameError\u001b[0m                                 Traceback (most recent call last)",
      "Input \u001b[0;32mIn [1]\u001b[0m, in \u001b[0;36m<cell line: 1>\u001b[0;34m()\u001b[0m\n\u001b[0;32m----> 1\u001b[0m fig \u001b[38;5;241m=\u001b[39m \u001b[43mplt\u001b[49m\u001b[38;5;241m.\u001b[39mfigure(figsize \u001b[38;5;241m=\u001b[39m [\u001b[38;5;241m10\u001b[39m,\u001b[38;5;241m6\u001b[39m])\n\u001b[1;32m      2\u001b[0m ax \u001b[38;5;241m=\u001b[39m fig\u001b[38;5;241m.\u001b[39msubplots(nrows\u001b[38;5;241m=\u001b[39m\u001b[38;5;241m1\u001b[39m,ncols\u001b[38;5;241m=\u001b[39m\u001b[38;5;241m1\u001b[39m)\n\u001b[1;32m      4\u001b[0m ax\u001b[38;5;241m.\u001b[39mhist2d(sh_VelDisp, sh_BHmass, [np\u001b[38;5;241m.\u001b[39mlinspace(\u001b[38;5;241m30\u001b[39m,\u001b[38;5;241m400\u001b[39m,num\u001b[38;5;241m=\u001b[39m\u001b[38;5;241m100\u001b[39m),np\u001b[38;5;241m.\u001b[39mlinspace(\u001b[38;5;241m1e5\u001b[39m,\u001b[38;5;241m1e10\u001b[39m,num\u001b[38;5;241m=\u001b[39m\u001b[38;5;241m100\u001b[39m)])\n",
      "\u001b[0;31mNameError\u001b[0m: name 'plt' is not defined"
     ]
    }
   ],
   "source": [
    "fig = plt.figure(figsize = [10,6])\n",
    "ax = fig.subplots(nrows=1,ncols=1)\n",
    "\n",
    "ax.hist2d(sh_mDM, sh_mstar, [np.linspace(30,400,num=100),np.linspace(1e5,1e10,num=100)])"
   ]
  },
  {
   "cell_type": "code",
   "execution_count": null,
   "id": "2131b60a",
   "metadata": {},
   "outputs": [],
   "source": []
  }
 ],
 "metadata": {
  "kernelspec": {
   "display_name": "Python 3 (ipykernel)",
   "language": "python",
   "name": "python3"
  },
  "language_info": {
   "codemirror_mode": {
    "name": "ipython",
    "version": 3
   },
   "file_extension": ".py",
   "mimetype": "text/x-python",
   "name": "python",
   "nbconvert_exporter": "python",
   "pygments_lexer": "ipython3",
   "version": "3.9.12"
  }
 },
 "nbformat": 4,
 "nbformat_minor": 5
}
