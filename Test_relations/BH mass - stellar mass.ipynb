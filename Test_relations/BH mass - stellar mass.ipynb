{
 "cells": [
  {
   "cell_type": "code",
   "execution_count": 1,
   "id": "b3afcaaa",
   "metadata": {},
   "outputs": [],
   "source": [
    "import numpy as np\n",
    "import matplotlib.pyplot as plt\n",
    "from illustris_python import illustris_python as il"
   ]
  },
  {
   "cell_type": "code",
   "execution_count": 2,
   "id": "9597e5cf",
   "metadata": {},
   "outputs": [],
   "source": [
    "basePath = '/x/Physics/AstroPhysics/Shared-New/DATA/IllustrisTNG/TNG100-1/output'"
   ]
  },
  {
   "cell_type": "code",
   "execution_count": 3,
   "id": "ed0409df",
   "metadata": {},
   "outputs": [],
   "source": [
    "import numpy as np    \n",
    "f1 = il.groupcat.gcPath(basePath,1)   "
   ]
  },
  {
   "cell_type": "code",
   "execution_count": 4,
   "id": "20813272",
   "metadata": {},
   "outputs": [
    {
     "ename": "NameError",
     "evalue": "name 'h5py' is not defined",
     "output_type": "error",
     "traceback": [
      "\u001b[0;31m---------------------------------------------------------------------------\u001b[0m",
      "\u001b[0;31mNameError\u001b[0m                                 Traceback (most recent call last)",
      "Input \u001b[0;32mIn [4]\u001b[0m, in \u001b[0;36m<cell line: 1>\u001b[0;34m()\u001b[0m\n\u001b[0;32m----> 1\u001b[0m f \u001b[38;5;241m=\u001b[39m \u001b[43mh5py\u001b[49m\u001b[38;5;241m.\u001b[39mFile(f1, \u001b[38;5;124m'\u001b[39m\u001b[38;5;124mr+\u001b[39m\u001b[38;5;124m'\u001b[39m)\n",
      "\u001b[0;31mNameError\u001b[0m: name 'h5py' is not defined"
     ]
    }
   ],
   "source": [
    "f = h5py.File(f1, 'r+')"
   ]
  },
  {
   "cell_type": "code",
   "execution_count": null,
   "id": "a5f3a9a7",
   "metadata": {},
   "outputs": [],
   "source": [
    "for key in f.keys():\n",
    "    print(key) #Names of the root level object names in HDF5 file - can be groups or datasets.\n",
    "    print(type(f[key])) # get the object type: usually group or dataset"
   ]
  },
  {
   "cell_type": "code",
   "execution_count": null,
   "id": "6732e949",
   "metadata": {},
   "outputs": [],
   "source": [
    "f"
   ]
  },
  {
   "cell_type": "code",
   "execution_count": 5,
   "id": "f259fa92",
   "metadata": {},
   "outputs": [],
   "source": [
    "groupFirstSub = il.groupcat.loadHalos(basePath, 99, fields = ['GroupFirstSub'])"
   ]
  },
  {
   "cell_type": "code",
   "execution_count": 6,
   "id": "0532c586",
   "metadata": {},
   "outputs": [
    {
     "data": {
      "text/plain": [
       "array([    0, 17185, 31342, ...,    -1,    -1,    -1], dtype=int32)"
      ]
     },
     "execution_count": 6,
     "metadata": {},
     "output_type": "execute_result"
    }
   ],
   "source": [
    "groupFirstSub"
   ]
  },
  {
   "cell_type": "code",
   "execution_count": 7,
   "id": "0a57469c",
   "metadata": {},
   "outputs": [],
   "source": [
    "subhalo_data = il.groupcat.loadSubhalos(basePath, 99, fields=['SubhaloFlag','SubhaloBHMass','SubhaloMassType'])\n",
    "subhalo_flag = subhalo_data['SubhaloFlag']"
   ]
  },
  {
   "cell_type": "code",
   "execution_count": 8,
   "id": "a883590d",
   "metadata": {},
   "outputs": [],
   "source": [
    "good_cen_idx = np.intersect1d(groupFirstSub, np.where(subhalo_flag==1)[0]) # 'good' centrals\n",
    "good_idx = subhalo_flag == 1                  # all 'good' galaxies, centrals and satellites"
   ]
  },
  {
   "cell_type": "code",
   "execution_count": 9,
   "id": "b84bcacc",
   "metadata": {},
   "outputs": [],
   "source": [
    "subhalo_BHMass = subhalo_data['SubhaloBHMass'][good_cen_idx]\n",
    "subhalo_mstar = subhalo_mstar = subhalo_data['SubhaloMassType'][good_cen_idx,il.util.partTypeNum('stars')]"
   ]
  },
  {
   "cell_type": "code",
   "execution_count": null,
   "id": "a6f9ddac",
   "metadata": {},
   "outputs": [],
   "source": []
  },
  {
   "cell_type": "code",
   "execution_count": 10,
   "id": "cfca5d2f",
   "metadata": {},
   "outputs": [
    {
     "data": {
      "image/png": "[encoded data removed]",
      "text/plain": [
       "<Figure size 432x432 with 1 Axes>"
      ]
     },
     "metadata": {
      "needs_background": "light"
     },
     "output_type": "display_data"
    }
   ],
   "source": [
    "fig = plt.figure(figsize=(6,6))\n",
    "ax = fig.subplots(nrows=1, ncols=1)"
   ]
  },
  {
   "cell_type": "code",
   "execution_count": 11,
   "id": "fed847ef",
   "metadata": {},
   "outputs": [
    {
     "data": {
      "text/plain": [
       "<matplotlib.collections.PathCollection at 0x7fb677d1be50>"
      ]
     },
     "execution_count": 11,
     "metadata": {},
     "output_type": "execute_result"
    },
    {
     "data": {
      "image/png": "[encoded data removed]",
      "text/plain": [
       "<Figure size 432x288 with 1 Axes>"
      ]
     },
     "metadata": {
      "needs_background": "light"
     },
     "output_type": "display_data"
    }
   ],
   "source": [
    "plt.scatter(subhalo_BHMass,subhalo_mstar, color = 'k')"
   ]
  },
  {
   "cell_type": "code",
   "execution_count": 12,
   "id": "e9d397f1",
   "metadata": {},
   "outputs": [
    {
     "data": {
      "image/png": "[encoded data removed]",
      "text/plain": [
       "<Figure size 432x432 with 1 Axes>"
      ]
     },
     "metadata": {
      "needs_background": "light"
     },
     "output_type": "display_data"
    }
   ],
   "source": [
    "plt.figure(figsize=(6,6))\n",
    "plt.title('Galaxy Stellar Mass / BH Mass at z=0', size=20)\n",
    "plt.yscale('log')\n",
    "plt.xscale('log')\n",
    "plt.xlabel(r'$\\log(M_{\\ast}/M_{\\odot})$', size=16)\n",
    "plt.ylabel(r'$N_{\\mathrm{gal})}$', size=16)\n",
    "plt.tight_layout()"
   ]
  },
  {
   "cell_type": "code",
   "execution_count": 16,
   "id": "83c693c4",
   "metadata": {},
   "outputs": [
    {
     "data": {
      "text/plain": [
       "<matplotlib.collections.PathCollection at 0x7fb66d645a30>"
      ]
     },
     "execution_count": 16,
     "metadata": {},
     "output_type": "execute_result"
    },
    {
     "data": {
      "image/png": "[encoded data removed]",
      "text/plain": [
       "<Figure size 432x432 with 1 Axes>"
      ]
     },
     "metadata": {
      "needs_background": "light"
     },
     "output_type": "display_data"
    }
   ],
   "source": [
    "plt.figure(figsize=(6,6))\n",
    "plt.title('Galaxy Stellar Mass / BH Mass at z=0', size=20)\n",
    "plt.yscale('log')\n",
    "plt.xscale('log')\n",
    "plt.ylabel(r'$\\log(M_{\\ast}/M_{\\odot})$', size=16)\n",
    "plt.xlabel(r'$\\log(M_{BH}/M_{\\odot})$', size=16)\n",
    "plt.tight_layout()\n",
    "plt.scatter(subhalo_BHMass,subhalo_mstar, color = 'k')"
   ]
  },
  {
   "cell_type": "code",
   "execution_count": 23,
   "id": "b805b15f",
   "metadata": {},
   "outputs": [],
   "source": [
    "plt.show()"
   ]
  },
  {
   "cell_type": "code",
   "execution_count": null,
   "id": "112fc638",
   "metadata": {},
   "outputs": [],
   "source": []
  }
 ],
 "metadata": {
  "kernelspec": {
   "display_name": "Python 3 (ipykernel)",
   "language": "python",
   "name": "python3"
  },
  "language_info": {
   "codemirror_mode": {
    "name": "ipython",
    "version": 3
   },
   "file_extension": ".py",
   "mimetype": "text/x-python",
   "name": "python",
   "nbconvert_exporter": "python",
   "pygments_lexer": "ipython3",
   "version": "3.7.13"
  }
 },
 "nbformat": 4,
 "nbformat_minor": 5
}
