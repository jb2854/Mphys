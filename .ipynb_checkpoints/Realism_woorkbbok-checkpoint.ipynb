{
 "cells": [
  {
   "cell_type": "code",
   "execution_count": 1,
   "id": "41b388be",
   "metadata": {},
   "outputs": [],
   "source": [
    "table_dir = '/mnt/jb2854-XDrive/Physics/StudentProjects/MPhys/2022-23/IllustrisTNG-Mergers/DF_dir/'\n",
    "\n",
    "\n",
    "objectdf = table_dir + 'objects_master_22_10_25.parquet'"
   ]
  },
  {
   "cell_type": "code",
   "execution_count": 2,
   "id": "aa9c31b4",
   "metadata": {},
   "outputs": [],
   "source": [
    "import pandas as pd"
   ]
  },
  {
   "cell_type": "code",
   "execution_count": 4,
   "id": "d18f57bc",
   "metadata": {},
   "outputs": [],
   "source": [
    "df = pd.read_parquet(objectdf)"
   ]
  },
  {
   "cell_type": "code",
   "execution_count": 15,
   "id": "7bcec915",
   "metadata": {},
   "outputs": [
    {
     "data": {
      "text/plain": [
       "3334122"
      ]
     },
     "execution_count": 15,
     "metadata": {},
     "output_type": "execute_result"
    }
   ],
   "source": [
    "len(df.dt_biggest)"
   ]
  },
  {
   "cell_type": "code",
   "execution_count": null,
   "id": "52bcd8ed",
   "metadata": {},
   "outputs": [],
   "source": []
  }
 ],
 "metadata": {
  "kernelspec": {
   "display_name": "Python 3 (ipykernel)",
   "language": "python",
   "name": "python3"
  },
  "language_info": {
   "codemirror_mode": {
    "name": "ipython",
    "version": 3
   },
   "file_extension": ".py",
   "mimetype": "text/x-python",
   "name": "python",
   "nbconvert_exporter": "python",
   "pygments_lexer": "ipython3",
   "version": "3.7.13"
  }
 },
 "nbformat": 4,
 "nbformat_minor": 5
}
