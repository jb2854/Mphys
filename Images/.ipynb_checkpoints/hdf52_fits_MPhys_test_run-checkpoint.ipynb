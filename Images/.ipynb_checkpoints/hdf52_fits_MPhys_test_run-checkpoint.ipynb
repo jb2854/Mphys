{
 "cells": [
  {
   "cell_type": "code",
   "execution_count": 1,
   "id": "ab157c42",
   "metadata": {},
   "outputs": [],
   "source": [
    "import time\n",
    "start_time = time.time()\n",
    "import os\n",
    "import sys\n",
    "import datetime"
   ]
  },
  {
   "cell_type": "code",
   "execution_count": 2,
   "id": "68c2b0be",
   "metadata": {},
   "outputs": [
    {
     "name": "stdout",
     "output_type": "stream",
     "text": [
      "Usage: ./hdf52fits.py subhaloID snap FITS_dir\n"
     ]
    },
    {
     "ename": "SystemExit",
     "evalue": "0",
     "output_type": "error",
     "traceback": [
      "An exception has occurred, use %tb to see the full traceback.\n",
      "\u001b[0;31mSystemExit\u001b[0m\u001b[0;31m:\u001b[0m 0\n"
     ]
    },
    {
     "name": "stderr",
     "output_type": "stream",
     "text": [
      "/opt/anaconda3/lib/python3.9/site-packages/IPython/core/interactiveshell.py:3377: UserWarning: To exit: use 'exit', 'quit', or Ctrl-D.\n",
      "  warn(\"To exit: use 'exit', 'quit', or Ctrl-D.\", stacklevel=1)\n"
     ]
    }
   ],
   "source": [
    "if len(sys.argv) < 4:\n",
    "    print('Usage: ./hdf52fits.py subhaloID snap FITS_dir')\n",
    "    sys.exit(0)\n",
    "\n",
    "subhalo_id = int(sys.argv[1])\n",
    "snap = int(sys.argv[2])\n",
    "img_dir = str(sys.argv[3])"
   ]
  },
  {
   "cell_type": "code",
   "execution_count": 3,
   "id": "c53b8c13",
   "metadata": {},
   "outputs": [],
   "source": [
    "bands = ['sdss_' + band for band in 'ugriz']\n",
    "n_pix = 800 # default size"
   ]
  },
  {
   "cell_type": "code",
   "execution_count": 4,
   "id": "fc59708a",
   "metadata": {},
   "outputs": [
    {
     "name": "stdout",
     "output_type": "stream",
     "text": [
      "['sdss_u', 'sdss_g', 'sdss_r', 'sdss_i', 'sdss_z']\n"
     ]
    }
   ],
   "source": [
    "print(bands)"
   ]
  },
  {
   "cell_type": "code",
   "execution_count": 5,
   "id": "74231ab2",
   "metadata": {},
   "outputs": [],
   "source": [
    "# permanent storage for FITS files\n",
    "img_dir = '/u/e/jb2854/Mergers_Project/DF_dir/TNG_FITS_dir/'\n",
    "# temporary storage for HDF5 files\n",
    "tmp_dir = '/u/e/jb2854/Mergers_Project/DF_dir/TNG_HDF5_dir/'"
   ]
  },
  {
   "cell_type": "code",
   "execution_count": 6,
   "id": "56b5ae7a",
   "metadata": {},
   "outputs": [],
   "source": [
    "snap = 60\n",
    "subhalo_id = 113998\n",
    "\n",
    "fitsname = '%s%02d%07d.fits' %(img_dir, snap, subhalo_id)"
   ]
  },
  {
   "cell_type": "code",
   "execution_count": 7,
   "id": "c93a6c4d",
   "metadata": {},
   "outputs": [
    {
     "name": "stdout",
     "output_type": "stream",
     "text": [
      "/u/e/jb2854/Mergers_Project/DF_dir/TNG_FITS_dir/600113998.fits\n"
     ]
    }
   ],
   "source": [
    "print(fitsname)"
   ]
  },
  {
   "cell_type": "code",
   "execution_count": 8,
   "id": "ff9a1247",
   "metadata": {},
   "outputs": [
    {
     "name": "stdout",
     "output_type": "stream",
     "text": [
      "Writing final output to /u/e/jb2854/Mergers_Project/DF_dir/TNG_FITS_dir/600113998.fits\n",
      "Time: 0:01:04.346768\n"
     ]
    }
   ],
   "source": [
    "print('Writing final output to %s' %fitsname)\n",
    "print('Time: ' + str(datetime.timedelta(seconds=(time.time() - start_time))))\n",
    "sys.stdout.flush()"
   ]
  },
  {
   "cell_type": "code",
   "execution_count": 18,
   "id": "f25d34ed",
   "metadata": {},
   "outputs": [],
   "source": [
    "import numpy as np\n",
    "from astropy.table import Table\n",
    "from astropy.io import fits\n",
    "from astropy.cosmology import Planck15\n",
    "import pandas as pd\n",
    "sys.path.append('/u/e/jb2854/Mergers_Project')\n",
    "from illustris_python import illustris_python as il\n",
    "\n",
    "import h5py"
   ]
  },
  {
   "cell_type": "code",
   "execution_count": 19,
   "id": "d98c6a13",
   "metadata": {},
   "outputs": [],
   "source": [
    "api_key = '5f3541d5334553d9d2b98de938189866'\n",
    "url_prefix = 'https://www.tng-project.org/api/TNG100-1/snapshots/%d/subhalos/%d/' %(snap, subhalo_id)"
   ]
  },
  {
   "cell_type": "code",
   "execution_count": 20,
   "id": "d091c1f2",
   "metadata": {},
   "outputs": [],
   "source": [
    "basePath = '/x/Physics/AstroPhysics/Shared-New/DATA/IllustrisTNG/TNG100-1/output'"
   ]
  },
  {
   "cell_type": "code",
   "execution_count": 21,
   "id": "5a27db8f",
   "metadata": {},
   "outputs": [],
   "source": [
    "table_dir = '/u/e/jb2854/Mergers_Project/DF_dir/'"
   ]
  },
  {
   "cell_type": "code",
   "execution_count": 22,
   "id": "1dd86686",
   "metadata": {},
   "outputs": [],
   "source": [
    "merger_table_name = 'master_out.parquet'"
   ]
  },
  {
   "cell_type": "code",
   "execution_count": 23,
   "id": "0ea28d3d",
   "metadata": {},
   "outputs": [
    {
     "ename": "ImportError",
     "evalue": "Unable to find a usable engine; tried using: 'pyarrow', 'fastparquet'.\nA suitable version of pyarrow or fastparquet is required for parquet support.\nTrying to import the above resulted in these errors:\n - Missing optional dependency 'pyarrow'. pyarrow is required for parquet support. Use pip or conda to install pyarrow.\n - Missing optional dependency 'fastparquet'. fastparquet is required for parquet support. Use pip or conda to install fastparquet.",
     "output_type": "error",
     "traceback": [
      "\u001b[0;31m---------------------------------------------------------------------------\u001b[0m",
      "\u001b[0;31mImportError\u001b[0m                               Traceback (most recent call last)",
      "Input \u001b[0;32mIn [23]\u001b[0m, in \u001b[0;36m<cell line: 1>\u001b[0;34m()\u001b[0m\n\u001b[0;32m----> 1\u001b[0m merger_table \u001b[38;5;241m=\u001b[39m \u001b[43mpd\u001b[49m\u001b[38;5;241;43m.\u001b[39;49m\u001b[43mread_parquet\u001b[49m\u001b[43m(\u001b[49m\u001b[43mtable_dir\u001b[49m\u001b[43m \u001b[49m\u001b[38;5;241;43m+\u001b[39;49m\u001b[43m \u001b[49m\u001b[43mmerger_table_name\u001b[49m\u001b[43m)\u001b[49m\n",
      "File \u001b[0;32m/opt/anaconda3/lib/python3.9/site-packages/pandas/io/parquet.py:491\u001b[0m, in \u001b[0;36mread_parquet\u001b[0;34m(path, engine, columns, storage_options, use_nullable_dtypes, **kwargs)\u001b[0m\n\u001b[1;32m    437\u001b[0m \u001b[38;5;129m@doc\u001b[39m(storage_options\u001b[38;5;241m=\u001b[39m_shared_docs[\u001b[38;5;124m\"\u001b[39m\u001b[38;5;124mstorage_options\u001b[39m\u001b[38;5;124m\"\u001b[39m])\n\u001b[1;32m    438\u001b[0m \u001b[38;5;28;01mdef\u001b[39;00m \u001b[38;5;21mread_parquet\u001b[39m(\n\u001b[1;32m    439\u001b[0m     path,\n\u001b[0;32m   (...)\u001b[0m\n\u001b[1;32m    444\u001b[0m     \u001b[38;5;241m*\u001b[39m\u001b[38;5;241m*\u001b[39mkwargs,\n\u001b[1;32m    445\u001b[0m ) \u001b[38;5;241m-\u001b[39m\u001b[38;5;241m>\u001b[39m DataFrame:\n\u001b[1;32m    446\u001b[0m     \u001b[38;5;124;03m\"\"\"\u001b[39;00m\n\u001b[1;32m    447\u001b[0m \u001b[38;5;124;03m    Load a parquet object from the file path, returning a DataFrame.\u001b[39;00m\n\u001b[1;32m    448\u001b[0m \n\u001b[0;32m   (...)\u001b[0m\n\u001b[1;32m    489\u001b[0m \u001b[38;5;124;03m    DataFrame\u001b[39;00m\n\u001b[1;32m    490\u001b[0m \u001b[38;5;124;03m    \"\"\"\u001b[39;00m\n\u001b[0;32m--> 491\u001b[0m     impl \u001b[38;5;241m=\u001b[39m \u001b[43mget_engine\u001b[49m\u001b[43m(\u001b[49m\u001b[43mengine\u001b[49m\u001b[43m)\u001b[49m\n\u001b[1;32m    493\u001b[0m     \u001b[38;5;28;01mreturn\u001b[39;00m impl\u001b[38;5;241m.\u001b[39mread(\n\u001b[1;32m    494\u001b[0m         path,\n\u001b[1;32m    495\u001b[0m         columns\u001b[38;5;241m=\u001b[39mcolumns,\n\u001b[0;32m   (...)\u001b[0m\n\u001b[1;32m    498\u001b[0m         \u001b[38;5;241m*\u001b[39m\u001b[38;5;241m*\u001b[39mkwargs,\n\u001b[1;32m    499\u001b[0m     )\n",
      "File \u001b[0;32m/opt/anaconda3/lib/python3.9/site-packages/pandas/io/parquet.py:52\u001b[0m, in \u001b[0;36mget_engine\u001b[0;34m(engine)\u001b[0m\n\u001b[1;32m     49\u001b[0m         \u001b[38;5;28;01mexcept\u001b[39;00m \u001b[38;5;167;01mImportError\u001b[39;00m \u001b[38;5;28;01mas\u001b[39;00m err:\n\u001b[1;32m     50\u001b[0m             error_msgs \u001b[38;5;241m+\u001b[39m\u001b[38;5;241m=\u001b[39m \u001b[38;5;124m\"\u001b[39m\u001b[38;5;130;01m\\n\u001b[39;00m\u001b[38;5;124m - \u001b[39m\u001b[38;5;124m\"\u001b[39m \u001b[38;5;241m+\u001b[39m \u001b[38;5;28mstr\u001b[39m(err)\n\u001b[0;32m---> 52\u001b[0m     \u001b[38;5;28;01mraise\u001b[39;00m \u001b[38;5;167;01mImportError\u001b[39;00m(\n\u001b[1;32m     53\u001b[0m         \u001b[38;5;124m\"\u001b[39m\u001b[38;5;124mUnable to find a usable engine; \u001b[39m\u001b[38;5;124m\"\u001b[39m\n\u001b[1;32m     54\u001b[0m         \u001b[38;5;124m\"\u001b[39m\u001b[38;5;124mtried using: \u001b[39m\u001b[38;5;124m'\u001b[39m\u001b[38;5;124mpyarrow\u001b[39m\u001b[38;5;124m'\u001b[39m\u001b[38;5;124m, \u001b[39m\u001b[38;5;124m'\u001b[39m\u001b[38;5;124mfastparquet\u001b[39m\u001b[38;5;124m'\u001b[39m\u001b[38;5;124m.\u001b[39m\u001b[38;5;130;01m\\n\u001b[39;00m\u001b[38;5;124m\"\u001b[39m\n\u001b[1;32m     55\u001b[0m         \u001b[38;5;124m\"\u001b[39m\u001b[38;5;124mA suitable version of \u001b[39m\u001b[38;5;124m\"\u001b[39m\n\u001b[1;32m     56\u001b[0m         \u001b[38;5;124m\"\u001b[39m\u001b[38;5;124mpyarrow or fastparquet is required for parquet \u001b[39m\u001b[38;5;124m\"\u001b[39m\n\u001b[1;32m     57\u001b[0m         \u001b[38;5;124m\"\u001b[39m\u001b[38;5;124msupport.\u001b[39m\u001b[38;5;130;01m\\n\u001b[39;00m\u001b[38;5;124m\"\u001b[39m\n\u001b[1;32m     58\u001b[0m         \u001b[38;5;124m\"\u001b[39m\u001b[38;5;124mTrying to import the above resulted in these errors:\u001b[39m\u001b[38;5;124m\"\u001b[39m\n\u001b[1;32m     59\u001b[0m         \u001b[38;5;124mf\u001b[39m\u001b[38;5;124m\"\u001b[39m\u001b[38;5;132;01m{\u001b[39;00merror_msgs\u001b[38;5;132;01m}\u001b[39;00m\u001b[38;5;124m\"\u001b[39m\n\u001b[1;32m     60\u001b[0m     )\n\u001b[1;32m     62\u001b[0m \u001b[38;5;28;01mif\u001b[39;00m engine \u001b[38;5;241m==\u001b[39m \u001b[38;5;124m\"\u001b[39m\u001b[38;5;124mpyarrow\u001b[39m\u001b[38;5;124m\"\u001b[39m:\n\u001b[1;32m     63\u001b[0m     \u001b[38;5;28;01mreturn\u001b[39;00m PyArrowImpl()\n",
      "\u001b[0;31mImportError\u001b[0m: Unable to find a usable engine; tried using: 'pyarrow', 'fastparquet'.\nA suitable version of pyarrow or fastparquet is required for parquet support.\nTrying to import the above resulted in these errors:\n - Missing optional dependency 'pyarrow'. pyarrow is required for parquet support. Use pip or conda to install pyarrow.\n - Missing optional dependency 'fastparquet'. fastparquet is required for parquet support. Use pip or conda to install fastparquet."
     ]
    }
   ],
   "source": [
    "merger_table = pd.read_parquet(table_dir + merger_table_name)"
   ]
  },
  {
   "cell_type": "code",
   "execution_count": 15,
   "id": "c373bf56",
   "metadata": {},
   "outputs": [
    {
     "ename": "NameError",
     "evalue": "name 'merger_table' is not defined",
     "output_type": "error",
     "traceback": [
      "\u001b[0;31m---------------------------------------------------------------------------\u001b[0m",
      "\u001b[0;31mNameError\u001b[0m                                 Traceback (most recent call last)",
      "Input \u001b[0;32mIn [15]\u001b[0m, in \u001b[0;36m<cell line: 1>\u001b[0;34m()\u001b[0m\n\u001b[0;32m----> 1\u001b[0m idx \u001b[38;5;241m=\u001b[39m np\u001b[38;5;241m.\u001b[39mwhere(np\u001b[38;5;241m.\u001b[39mlogical_and(\u001b[43mmerger_table\u001b[49m[\u001b[38;5;124m'\u001b[39m\u001b[38;5;124mDesSFID\u001b[39m\u001b[38;5;124m'\u001b[39m] \u001b[38;5;241m==\u001b[39m subhalo_id,\n\u001b[1;32m      2\u001b[0m                               merger_table[\u001b[38;5;124m'\u001b[39m\u001b[38;5;124mDesSnap\u001b[39m\u001b[38;5;124m'\u001b[39m] \u001b[38;5;241m==\u001b[39m snap))[\u001b[38;5;241m0\u001b[39m]\n",
      "\u001b[0;31mNameError\u001b[0m: name 'merger_table' is not defined"
     ]
    }
   ],
   "source": [
    "idx = np.where(np.logical_and(merger_table['DesSFID'] == subhalo_id,\n",
    "                              merger_table['DesSnap'] == snap))[0]"
   ]
  },
  {
   "cell_type": "code",
   "execution_count": 16,
   "id": "ad856c8c",
   "metadata": {},
   "outputs": [
    {
     "ename": "NameError",
     "evalue": "name 'idx' is not defined",
     "output_type": "error",
     "traceback": [
      "\u001b[0;31m---------------------------------------------------------------------------\u001b[0m",
      "\u001b[0;31mNameError\u001b[0m                                 Traceback (most recent call last)",
      "Input \u001b[0;32mIn [16]\u001b[0m, in \u001b[0;36m<cell line: 1>\u001b[0;34m()\u001b[0m\n\u001b[0;32m----> 1\u001b[0m \u001b[43midx\u001b[49m\n",
      "\u001b[0;31mNameError\u001b[0m: name 'idx' is not defined"
     ]
    }
   ],
   "source": [
    "idx"
   ]
  },
  {
   "cell_type": "code",
   "execution_count": 51,
   "id": "46db57fa",
   "metadata": {},
   "outputs": [],
   "source": [
    "header = fits.Header()\n",
    "header['HIERARCH subhaloID'] = subhalo_id\n",
    "header['HIERARCH snapshot'] = snap"
   ]
  },
  {
   "cell_type": "code",
   "execution_count": 52,
   "id": "32909485",
   "metadata": {},
   "outputs": [
    {
     "data": {
      "text/plain": [
       "HIERARCH subhaloID = 2                                                          \n",
       "HIERARCH snapshot =                   95                                        "
      ]
     },
     "execution_count": 52,
     "metadata": {},
     "output_type": "execute_result"
    }
   ],
   "source": [
    "header"
   ]
  },
  {
   "cell_type": "code",
   "execution_count": 53,
   "id": "30e983c6",
   "metadata": {},
   "outputs": [],
   "source": [
    "time_table = pd.read_csv(table_dir + 'time_table_TNG_100.csv')"
   ]
  },
  {
   "cell_type": "code",
   "execution_count": 54,
   "id": "8b92a057",
   "metadata": {},
   "outputs": [],
   "source": [
    "header['HIERARCH redshift'] = float(time_table['Redshift'][snap])\n",
    "header['HIERARCH lookback_time'] = float(time_table['Lookback'][snap])"
   ]
  },
  {
   "cell_type": "code",
   "execution_count": 55,
   "id": "88fdfea8",
   "metadata": {},
   "outputs": [
    {
     "data": {
      "text/plain": [
       "HIERARCH subhaloID = 2                                                          \n",
       "HIERARCH snapshot =                   95                                        \n",
       "HIERARCH redshift =                 0.05                                        \n",
       "HIERARCH lookback_time = 0.6759999999999999                                     "
      ]
     },
     "execution_count": 55,
     "metadata": {},
     "output_type": "execute_result"
    }
   ],
   "source": [
    "header"
   ]
  },
  {
   "cell_type": "code",
   "execution_count": 56,
   "id": "be69273a",
   "metadata": {},
   "outputs": [],
   "source": [
    "img_params = {'partType' : 'stars',\n",
    "              'partField': 'stellarBandObsFrame-', # 'stellarBand-' for RF\n",
    "              'size'     : 2, #20, #2,\n",
    "              'sizeType' : 'rHalfMassStars', #'arcmin', #'rVirial',\n",
    "              'method'   : 'sphMap',\n",
    "              'nPixels'  : '%d,%d' %(n_pix, n_pix),\n",
    "              'axes'     : '0,1',  # I think all the arguments below here are\n",
    "              'rasterPx' : 1100,   # not necessary for the HDF5 files but\n",
    "              'plotStyle': 'edged',# they don't do any HARM\n",
    "              'labelZ'   : 'False',\n",
    "              'labelSim' : 'False',\n",
    "              'labelHalo': 'False',\n",
    "              'title'    : 'False',\n",
    "              'colorbars': 'False',\n",
    "              'scalebar' : 'False'\n",
    "             }"
   ]
  },
  {
   "cell_type": "code",
   "execution_count": 57,
   "id": "07b42333",
   "metadata": {},
   "outputs": [],
   "source": [
    "for pname in img_params.keys():\n",
    "    header['HIERARCH ' + pname] = img_params[pname]"
   ]
  },
  {
   "cell_type": "code",
   "execution_count": 58,
   "id": "d9680c54",
   "metadata": {},
   "outputs": [
    {
     "data": {
      "text/plain": [
       "HIERARCH subhaloID = 2                                                          \n",
       "HIERARCH snapshot =                   95                                        \n",
       "HIERARCH redshift =                 0.05                                        \n",
       "HIERARCH lookback_time = 0.6759999999999999                                     \n",
       "HIERARCH partType = 'stars   '                                                  \n",
       "HIERARCH partField = 'stellarBandObsFrame-'                                     \n",
       "HIERARCH size =                    2                                            \n",
       "HIERARCH sizeType = 'rHalfMassStars'                                            \n",
       "HIERARCH method = 'sphMap  '                                                    \n",
       "HIERARCH nPixels = '800,800 '                                                   \n",
       "HIERARCH axes = '0,1     '                                                      \n",
       "HIERARCH rasterPx =                 1100                                        \n",
       "HIERARCH plotStyle = 'edged   '                                                 \n",
       "HIERARCH labelZ = 'False   '                                                    \n",
       "HIERARCH labelSim = 'False   '                                                  \n",
       "HIERARCH labelHalo = 'False   '                                                 \n",
       "HIERARCH title = 'False   '                                                     \n",
       "HIERARCH colorbars = 'False   '                                                 \n",
       "HIERARCH scalebar = 'False   '                                                  "
      ]
     },
     "execution_count": 58,
     "metadata": {},
     "output_type": "execute_result"
    }
   ],
   "source": [
    "header"
   ]
  },
  {
   "cell_type": "code",
   "execution_count": 59,
   "id": "b37384e3",
   "metadata": {},
   "outputs": [],
   "source": [
    "for i, band in enumerate(bands):\n",
    "    header['HIERARCH partField_%d' %i] = (header['partField'] + band)"
   ]
  },
  {
   "cell_type": "code",
   "execution_count": 60,
   "id": "4c119b37",
   "metadata": {},
   "outputs": [
    {
     "data": {
      "text/plain": [
       "HIERARCH subhaloID = 2                                                          \n",
       "HIERARCH snapshot =                   95                                        \n",
       "HIERARCH redshift =                 0.05                                        \n",
       "HIERARCH lookback_time = 0.6759999999999999                                     \n",
       "HIERARCH partType = 'stars   '                                                  \n",
       "HIERARCH partField = 'stellarBandObsFrame-'                                     \n",
       "HIERARCH size =                    2                                            \n",
       "HIERARCH sizeType = 'rHalfMassStars'                                            \n",
       "HIERARCH method = 'sphMap  '                                                    \n",
       "HIERARCH nPixels = '800,800 '                                                   \n",
       "HIERARCH axes = '0,1     '                                                      \n",
       "HIERARCH rasterPx =                 1100                                        \n",
       "HIERARCH plotStyle = 'edged   '                                                 \n",
       "HIERARCH labelZ = 'False   '                                                    \n",
       "HIERARCH labelSim = 'False   '                                                  \n",
       "HIERARCH labelHalo = 'False   '                                                 \n",
       "HIERARCH title = 'False   '                                                     \n",
       "HIERARCH colorbars = 'False   '                                                 \n",
       "HIERARCH scalebar = 'False   '                                                  \n",
       "HIERARCH partField_0 = 'stellarBandObsFrame-sdss_u'                             \n",
       "HIERARCH partField_1 = 'stellarBandObsFrame-sdss_g'                             \n",
       "HIERARCH partField_2 = 'stellarBandObsFrame-sdss_r'                             \n",
       "HIERARCH partField_3 = 'stellarBandObsFrame-sdss_i'                             \n",
       "HIERARCH partField_4 = 'stellarBandObsFrame-sdss_z'                             "
      ]
     },
     "execution_count": 60,
     "metadata": {},
     "output_type": "execute_result"
    }
   ],
   "source": [
    "header"
   ]
  },
  {
   "cell_type": "code",
   "execution_count": 61,
   "id": "13515f0d",
   "metadata": {},
   "outputs": [],
   "source": [
    "if snap == 99:\n",
    "    redshift = time_table['Redshift'][98]\n",
    "else:\n",
    "    redshift = header['Redshift']"
   ]
  },
  {
   "cell_type": "code",
   "execution_count": 28,
   "id": "d693d14d",
   "metadata": {},
   "outputs": [],
   "source": [
    "subhalo_data = il.groupcat.loadSubhalos(basePath, snap,\n",
    "                                        fields=['SubhaloMassType',\n",
    "                                                'SubhaloHalfmassRadType'])"
   ]
  },
  {
   "cell_type": "code",
   "execution_count": 62,
   "id": "f5dc6277",
   "metadata": {},
   "outputs": [],
   "source": [
    "header['HIERARCH stellar_mass'] = (float(subhalo_data['SubhaloMassType'][subhalo_id,\n",
    "                                                                         il.util.partTypeNum('stellar')]),\n",
    "                                   '1e10 Msun/h')"
   ]
  },
  {
   "cell_type": "code",
   "execution_count": 63,
   "id": "111357ba",
   "metadata": {},
   "outputs": [],
   "source": [
    "header['HIERARCH stellar_half_mass_radius'] = (float(subhalo_data['SubhaloHalfmassRadType'][subhalo_id,\n",
    "                                                                                            il.util.partTypeNum('stellar')]),\n",
    "                                                     'ckpc/h')"
   ]
  },
  {
   "cell_type": "code",
   "execution_count": 64,
   "id": "3e8b99be",
   "metadata": {},
   "outputs": [],
   "source": [
    "header['HIERARCH stellar_mass_ratio'] = float(subhalo_data['SubhaloMassType'][subhalo_id,\n",
    "                                                                              il.util.partTypeNum('stellar')]\n",
    "                                              / subhalo_data['SubhaloMassType'][subhalo_id,\n",
    "                                                                               il.util.partTypeNum('dm')])"
   ]
  },
  {
   "cell_type": "code",
   "execution_count": 65,
   "id": "ec1ec716",
   "metadata": {},
   "outputs": [],
   "source": [
    "if snap == 99:\n",
    "    redshift = time_table['Redshift'][98]\n",
    "else:\n",
    "    redshift = header['Redshift']"
   ]
  },
  {
   "cell_type": "code",
   "execution_count": 66,
   "id": "47237bfc",
   "metadata": {},
   "outputs": [],
   "source": [
    "header['HIERARCH imsize'] = (header['stellar_half_mass_radius'] *\n",
    "                             img_params['size']/(Planck15.H(0).value/100) *\n",
    "                             Planck15.arcsec_per_kpc_comoving(redshift).value,\n",
    "                             'arcsec')"
   ]
  },
  {
   "cell_type": "code",
   "execution_count": 67,
   "id": "4a7a876f",
   "metadata": {},
   "outputs": [],
   "source": [
    "phdu = fits.PrimaryHDU(header=header)\n",
    "hdul = fits.HDUList([phdu])"
   ]
  },
  {
   "cell_type": "code",
   "execution_count": 68,
   "id": "834d0cc3",
   "metadata": {},
   "outputs": [
    {
     "data": {
      "text/plain": [
       "[<astropy.io.fits.hdu.image.PrimaryHDU object at 0x7f0ea0415890>]"
      ]
     },
     "execution_count": 68,
     "metadata": {},
     "output_type": "execute_result"
    }
   ],
   "source": [
    "hdul"
   ]
  },
  {
   "cell_type": "code",
   "execution_count": 69,
   "id": "8c4bf79c",
   "metadata": {},
   "outputs": [],
   "source": [
    "filenames = []"
   ]
  },
  {
   "cell_type": "code",
   "execution_count": 70,
   "id": "c2e6337f",
   "metadata": {},
   "outputs": [],
   "source": [
    "part_field_prefix = img_params['partField']"
   ]
  },
  {
   "cell_type": "code",
   "execution_count": null,
   "id": "82cab332",
   "metadata": {
    "scrolled": true
   },
   "outputs": [
    {
     "name": "stdout",
     "output_type": "stream",
     "text": [
      "Downloading /u/e/jb2854/Mergers_Project/DF_dir/TNG_HDF5_dir/95-2-sdss_u-0,1.hdf5 from tng-project.org\n",
      "wget --retry-connrefused -O /u/e/jb2854/Mergers_Project/DF_dir/TNG_HDF5_dir/95-2-sdss_u-0,1.hdf5 --header=\"API-Key: 5f3541d5334553d9d2b98de938189866\" \"https://www.tng-project.org/api/TNG100-1/snapshots/95/subhalos/2/vis.hdf5?partType=stars&partField=stellarBandObsFrame-sdss_u&size=2&sizeType=rHalfMassStars&method=sphMap&nPixels=800,800&axes=0,1&rasterPx=1100&plotStyle=edged&labelZ=False&labelSim=False&labelHalo=False&title=False&colorbars=False&scalebar=False&\"\n"
     ]
    },
    {
     "name": "stderr",
     "output_type": "stream",
     "text": [
      "--2022-10-19 17:03:08--  https://www.tng-project.org/api/TNG100-1/snapshots/95/subhalos/2/vis.hdf5?partType=stars&partField=stellarBandObsFrame-sdss_u&size=2&sizeType=rHalfMassStars&method=sphMap&nPixels=800,800&axes=0,1&rasterPx=1100&plotStyle=edged&labelZ=False&labelSim=False&labelHalo=False&title=False&colorbars=False&scalebar=False&\n",
      "Resolving wwwproxy.bath.ac.uk (wwwproxy.bath.ac.uk)... 138.38.44.101\n",
      "Connecting to wwwproxy.bath.ac.uk (wwwproxy.bath.ac.uk)|138.38.44.101|:3128... connected.\n",
      "Proxy request sent, awaiting response... 302 Found\n",
      "Location: https://data-eu.tng-project.org/vis/subhalo/TNG100-1/95/2/hdf5/?partType=stars&partField=stellarBandObsFrame-sdss_u&size=2&sizeType=rHalfMassStars&method=sphMap&nPixels=800%2C800&axes=0%2C1&rasterPx=1100&plotStyle=edged&labelZ=False&labelSim=False&labelHalo=False&title=False&colorbars=False&scalebar=False&token=6ce01297d4449beb4e0a [following]\n",
      "--2022-10-19 17:03:08--  https://data-eu.tng-project.org/vis/subhalo/TNG100-1/95/2/hdf5/?partType=stars&partField=stellarBandObsFrame-sdss_u&size=2&sizeType=rHalfMassStars&method=sphMap&nPixels=800%2C800&axes=0%2C1&rasterPx=1100&plotStyle=edged&labelZ=False&labelSim=False&labelHalo=False&title=False&colorbars=False&scalebar=False&token=6ce01297d4449beb4e0a\n",
      "Connecting to wwwproxy.bath.ac.uk (wwwproxy.bath.ac.uk)|138.38.44.101|:3128... connected.\n",
      "Proxy request sent, awaiting response... "
     ]
    }
   ],
   "source": [
    "for axes in ['0,1', '0,2', '1,2']:\n",
    "    img = []\n",
    "    for band in bands:\n",
    "        fname = '%s%d-%d-%s-%s.hdf5' %(tmp_dir, snap, subhalo_id, band, axes)\n",
    "        filenames.append(fname)\n",
    "        \n",
    "        # load the hdf5 file if it exists\n",
    "        try:\n",
    "            with h5py.File(fname, 'r') as tmpfile:\n",
    "                img.append(np.array(tmpfile['grid']))\n",
    "            print('Opening %s' %fname)\n",
    "            sys.stdout.flush()\n",
    "\n",
    "        # if the file does not exist or is corrupted, download it\n",
    "        except (OSError, KeyError) as e:\n",
    "            print('Downloading %s from tng-project.org' %fname)\n",
    "            sys.stdout.flush()\n",
    "            \n",
    "            # build filename of download with image params and appropriate band\n",
    "            dname = 'vis.hdf5?'\n",
    "            img_params['partField'] = part_field_prefix + band\n",
    "            for pname in img_params.keys():\n",
    "                dname = dname + '%s=%s&' %(pname, img_params[pname])\n",
    "            # dname = dname + 'rotation=%s' %rotation\n",
    "            #dname = dname + 'axes=%s' %axes\n",
    "            \n",
    "            # do the download & open the result\n",
    "            print('wget --retry-connrefused -O %s --header=\"API-Key: %s\" \"%s%s\"'\n",
    "                  %(fname, api_key, url_prefix, dname))\n",
    "            osanswer = os.system('wget --retry-connrefused -O %s --header=\"API-Key: %s\" \"%s%s\"'\n",
    "                                 %(fname, api_key, url_prefix, dname))\n",
    "            \n",
    "            try:\n",
    "                with h5py.File(fname, 'r') as tmpfile:\n",
    "                    img.append(np.array(tmpfile['grid']))\n",
    "            except (OSError, KeyError) as e:\n",
    "                pass\n",
    "    hdul.append(fits.ImageHDU(data=np.array(img),\n",
    "                              header=fits.Header([('axes', axes)])))"
   ]
  },
  {
   "cell_type": "code",
   "execution_count": 39,
   "id": "ed4551ac",
   "metadata": {},
   "outputs": [],
   "source": [
    "# finish setting up FITS file and write\n",
    "hdul.writeto(fitsname, overwrite=True)"
   ]
  },
  {
   "cell_type": "code",
   "execution_count": null,
   "id": "b8a7145a",
   "metadata": {},
   "outputs": [],
   "source": []
  },
  {
   "cell_type": "code",
   "execution_count": null,
   "id": "7f11b397",
   "metadata": {},
   "outputs": [],
   "source": []
  },
  {
   "cell_type": "code",
   "execution_count": null,
   "id": "df04692b",
   "metadata": {},
   "outputs": [],
   "source": []
  }
 ],
 "metadata": {
  "kernelspec": {
   "display_name": "Python 3 (ipykernel)",
   "language": "python",
   "name": "python3"
  },
  "language_info": {
   "codemirror_mode": {
    "name": "ipython",
    "version": 3
   },
   "file_extension": ".py",
   "mimetype": "text/x-python",
   "name": "python",
   "nbconvert_exporter": "python",
   "pygments_lexer": "ipython3",
   "version": "3.9.12"
  }
 },
 "nbformat": 4,
 "nbformat_minor": 5
}
