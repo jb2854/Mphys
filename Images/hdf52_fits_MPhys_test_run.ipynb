{
 "cells": [
  {
   "cell_type": "code",
   "execution_count": 1,
   "id": "ab157c42",
   "metadata": {},
   "outputs": [],
   "source": [
    "import time\n",
    "start_time = time.time()\n",
    "import os\n",
    "import sys\n",
    "import datetime"
   ]
  },
  {
   "cell_type": "code",
   "execution_count": 2,
   "id": "68c2b0be",
   "metadata": {},
   "outputs": [
    {
     "name": "stdout",
     "output_type": "stream",
     "text": [
      "Usage: ./hdf52fits.py subhaloID snap FITS_dir\n"
     ]
    },
    {
     "ename": "SystemExit",
     "evalue": "0",
     "output_type": "error",
     "traceback": [
      "An exception has occurred, use %tb to see the full traceback.\n",
      "\u001b[0;31mSystemExit\u001b[0m\u001b[0;31m:\u001b[0m 0\n"
     ]
    },
    {
     "name": "stderr",
     "output_type": "stream",
     "text": [
      "/opt/anaconda3/envs/astroconda3/lib/python3.7/site-packages/IPython/core/interactiveshell.py:3465: UserWarning: To exit: use 'exit', 'quit', or Ctrl-D.\n",
      "  warn(\"To exit: use 'exit', 'quit', or Ctrl-D.\", stacklevel=1)\n"
     ]
    }
   ],
   "source": [
    "if len(sys.argv) < 4:\n",
    "    print('Usage: ./hdf52fits.py subhaloID snap FITS_dir')\n",
    "    sys.exit(0)\n",
    "\n",
    "subhalo_id = int(sys.argv[1])\n",
    "snap = int(sys.argv[2])\n",
    "img_dir = str(sys.argv[3])"
   ]
  },
  {
   "cell_type": "code",
   "execution_count": 3,
   "id": "c53b8c13",
   "metadata": {},
   "outputs": [],
   "source": [
    "bands = ['sdss_' + band for band in 'ugriz']\n",
    "n_pix = 800 # default size"
   ]
  },
  {
   "cell_type": "code",
   "execution_count": 4,
   "id": "fc59708a",
   "metadata": {},
   "outputs": [
    {
     "name": "stdout",
     "output_type": "stream",
     "text": [
      "['sdss_u', 'sdss_g', 'sdss_r', 'sdss_i', 'sdss_z']\n"
     ]
    }
   ],
   "source": [
    "print(bands)"
   ]
  },
  {
   "cell_type": "code",
   "execution_count": 5,
   "id": "74231ab2",
   "metadata": {},
   "outputs": [],
   "source": [
    "# permanent storage for FITS files\n",
    "img_dir = '/u/e/jb2854/Mergers_Project/DF_dir/TNG_FITS_dir/'\n",
    "# temporary storage for HDF5 files\n",
    "tmp_dir = '/u/e/jb2854/Mergers_Project/DF_dir/TNG_HDF5_dir/'"
   ]
  },
  {
   "cell_type": "code",
   "execution_count": 40,
   "id": "56b5ae7a",
   "metadata": {},
   "outputs": [],
   "source": [
    "snap = 87\n",
    "subhalo_id = 13297\n",
    "\n",
    "fitsname = '%s%02d%07d.fits' %(img_dir, snap, subhalo_id)"
   ]
  },
  {
   "cell_type": "code",
   "execution_count": 41,
   "id": "c93a6c4d",
   "metadata": {},
   "outputs": [
    {
     "name": "stdout",
     "output_type": "stream",
     "text": [
      "/u/e/jb2854/Mergers_Project/DF_dir/TNG_FITS_dir/870013297.fits\n"
     ]
    }
   ],
   "source": [
    "print(fitsname)"
   ]
  },
  {
   "cell_type": "code",
   "execution_count": 42,
   "id": "ff9a1247",
   "metadata": {},
   "outputs": [
    {
     "name": "stdout",
     "output_type": "stream",
     "text": [
      "Writing final output to /u/e/jb2854/Mergers_Project/DF_dir/TNG_FITS_dir/870013297.fits\n",
      "Time: 0:10:49.831084\n"
     ]
    }
   ],
   "source": [
    "print('Writing final output to %s' %fitsname)\n",
    "print('Time: ' + str(datetime.timedelta(seconds=(time.time() - start_time))))\n",
    "sys.stdout.flush()"
   ]
  },
  {
   "cell_type": "code",
   "execution_count": 43,
   "id": "f25d34ed",
   "metadata": {},
   "outputs": [],
   "source": [
    "import numpy as np\n",
    "from astropy.table import Table\n",
    "from astropy.io import fits\n",
    "from astropy.cosmology import Planck15\n",
    "import pandas as pd\n",
    "sys.path.append('/u/e/jb2854/Mergers_Project')\n",
    "from illustris_python import illustris_python as il\n",
    "\n",
    "import h5py"
   ]
  },
  {
   "cell_type": "code",
   "execution_count": 44,
   "id": "d98c6a13",
   "metadata": {},
   "outputs": [],
   "source": [
    "api_key = '5f3541d5334553d9d2b98de938189866'\n",
    "url_prefix = 'https://www.tng-project.org/api/TNG100-1/snapshots/%d/subhalos/%d/' %(snap, subhalo_id)"
   ]
  },
  {
   "cell_type": "code",
   "execution_count": 45,
   "id": "d091c1f2",
   "metadata": {},
   "outputs": [],
   "source": [
    "basePath = '/x/Physics/AstroPhysics/Shared-New/DATA/IllustrisTNG/TNG100-1/output'"
   ]
  },
  {
   "cell_type": "code",
   "execution_count": 46,
   "id": "5a27db8f",
   "metadata": {},
   "outputs": [],
   "source": [
    "table_dir = '/u/e/jb2854/Mergers_Project/DF_dir/'"
   ]
  },
  {
   "cell_type": "code",
   "execution_count": 47,
   "id": "1dd86686",
   "metadata": {},
   "outputs": [],
   "source": [
    "merger_table_name = 'master_out.parquet'"
   ]
  },
  {
   "cell_type": "code",
   "execution_count": 48,
   "id": "0ea28d3d",
   "metadata": {},
   "outputs": [],
   "source": [
    "merger_table = pd.read_parquet(table_dir + merger_table_name)"
   ]
  },
  {
   "cell_type": "code",
   "execution_count": 49,
   "id": "c373bf56",
   "metadata": {},
   "outputs": [],
   "source": [
    "idx = np.where(np.logical_and(merger_table['DesSFID'] == subhalo_id,\n",
    "                              merger_table['DesSnap'] == snap))[0]"
   ]
  },
  {
   "cell_type": "code",
   "execution_count": 50,
   "id": "ad856c8c",
   "metadata": {},
   "outputs": [
    {
     "data": {
      "text/plain": [
       "array([], dtype=int64)"
      ]
     },
     "execution_count": 50,
     "metadata": {},
     "output_type": "execute_result"
    }
   ],
   "source": [
    "idx"
   ]
  },
  {
   "cell_type": "code",
   "execution_count": 51,
   "id": "46db57fa",
   "metadata": {},
   "outputs": [],
   "source": [
    "header = fits.Header()\n",
    "header['HIERARCH subhaloID'] = subhalo_id\n",
    "header['HIERARCH snapshot'] = snap"
   ]
  },
  {
   "cell_type": "code",
   "execution_count": 52,
   "id": "32909485",
   "metadata": {},
   "outputs": [
    {
     "data": {
      "text/plain": [
       "HIERARCH subhaloID = 13297                                                      \n",
       "HIERARCH snapshot =                   87                                        "
      ]
     },
     "execution_count": 52,
     "metadata": {},
     "output_type": "execute_result"
    }
   ],
   "source": [
    "header"
   ]
  },
  {
   "cell_type": "code",
   "execution_count": 53,
   "id": "30e983c6",
   "metadata": {},
   "outputs": [],
   "source": [
    "time_table = pd.read_csv(table_dir + 'time_table_TNG_100.csv')"
   ]
  },
  {
   "cell_type": "code",
   "execution_count": 54,
   "id": "8b92a057",
   "metadata": {},
   "outputs": [],
   "source": [
    "header['HIERARCH redshift'] = float(time_table['Redshift'][snap])\n",
    "header['HIERARCH lookback_time'] = float(time_table['Lookback'][snap])"
   ]
  },
  {
   "cell_type": "code",
   "execution_count": 55,
   "id": "88fdfea8",
   "metadata": {},
   "outputs": [
    {
     "data": {
      "text/plain": [
       "HIERARCH subhaloID = 13297                                                      \n",
       "HIERARCH snapshot =                   87                                        \n",
       "HIERARCH redshift =                 0.15                                        \n",
       "HIERARCH lookback_time = 1.979                                                  "
      ]
     },
     "execution_count": 55,
     "metadata": {},
     "output_type": "execute_result"
    }
   ],
   "source": [
    "header"
   ]
  },
  {
   "cell_type": "code",
   "execution_count": 76,
   "id": "be69273a",
   "metadata": {},
   "outputs": [],
   "source": [
    "img_params = {'partType' : 'stars',\n",
    "              'partField': 'stellarBandObsFrame-', # 'stellarBand-' for RF\n",
    "              'size'     : 4, #20, #2,\n",
    "              'sizeType' : 'rHalfMassStars', #'arcmin', #'rVirial',\n",
    "              'method'   : 'sphMap',\n",
    "              'nPixels'  : '%d,%d' %(n_pix, n_pix),\n",
    "              'axes'     : '0,1',  # I think all the arguments below here are\n",
    "              'rasterPx' : 1100,   # not necessary for the HDF5 files but\n",
    "              'plotStyle': 'edged',# they don't do any HARM\n",
    "              'labelZ'   : 'False',\n",
    "              'labelSim' : 'False',\n",
    "              'labelHalo': 'False',\n",
    "              'title'    : 'False',\n",
    "              'colorbars': 'False',\n",
    "              'scalebar' : 'False'\n",
    "             }"
   ]
  },
  {
   "cell_type": "code",
   "execution_count": 77,
   "id": "07b42333",
   "metadata": {},
   "outputs": [],
   "source": [
    "for pname in img_params.keys():\n",
    "    header['HIERARCH ' + pname] = img_params[pname]"
   ]
  },
  {
   "cell_type": "code",
   "execution_count": 78,
   "id": "d9680c54",
   "metadata": {},
   "outputs": [
    {
     "data": {
      "text/plain": [
       "HIERARCH subhaloID = 13297                                                      \n",
       "HIERARCH snapshot =                   87                                        \n",
       "HIERARCH redshift =                 0.15                                        \n",
       "HIERARCH lookback_time = 1.979                                                  \n",
       "HIERARCH partType = 'stars   '                                                  \n",
       "HIERARCH partField = 'stellarBandObsFrame-'                                     \n",
       "HIERARCH size =                    4                                            \n",
       "HIERARCH sizeType = 'rHalfMassStars'                                            \n",
       "HIERARCH method = 'sphMap  '                                                    \n",
       "HIERARCH nPixels = '800,800 '                                                   \n",
       "HIERARCH axes = '0,1     '                                                      \n",
       "HIERARCH rasterPx =                 1100                                        \n",
       "HIERARCH plotStyle = 'edged   '                                                 \n",
       "HIERARCH labelZ = 'False   '                                                    \n",
       "HIERARCH labelSim = 'False   '                                                  \n",
       "HIERARCH labelHalo = 'False   '                                                 \n",
       "HIERARCH title = 'False   '                                                     \n",
       "HIERARCH colorbars = 'False   '                                                 \n",
       "HIERARCH scalebar = 'False   '                                                  \n",
       "HIERARCH partField_0 = 'stellarBandObsFrame-sdss_u'                             \n",
       "HIERARCH partField_1 = 'stellarBandObsFrame-sdss_g'                             \n",
       "HIERARCH partField_2 = 'stellarBandObsFrame-sdss_r'                             \n",
       "HIERARCH partField_3 = 'stellarBandObsFrame-sdss_i'                             \n",
       "HIERARCH partField_4 = 'stellarBandObsFrame-sdss_z'                             \n",
       "HIERARCH stellar_mass = 1.634361982345581 / 1e10 Msun/h                         \n",
       "HIERARCH stellar_half_mass_radius = 2.472107172012329 / ckpc/h                  \n",
       "HIERARCH stellar_mass_ratio = 0.5825705528259277                                \n",
       "HIERARCH imsize =    2.351601633576894 / arcsec                                 "
      ]
     },
     "execution_count": 78,
     "metadata": {},
     "output_type": "execute_result"
    }
   ],
   "source": [
    "header"
   ]
  },
  {
   "cell_type": "code",
   "execution_count": 79,
   "id": "b37384e3",
   "metadata": {},
   "outputs": [],
   "source": [
    "for i, band in enumerate(bands):\n",
    "    header['HIERARCH partField_%d' %i] = (header['partField'] + band)"
   ]
  },
  {
   "cell_type": "code",
   "execution_count": 80,
   "id": "4c119b37",
   "metadata": {},
   "outputs": [
    {
     "data": {
      "text/plain": [
       "HIERARCH subhaloID = 13297                                                      \n",
       "HIERARCH snapshot =                   87                                        \n",
       "HIERARCH redshift =                 0.15                                        \n",
       "HIERARCH lookback_time = 1.979                                                  \n",
       "HIERARCH partType = 'stars   '                                                  \n",
       "HIERARCH partField = 'stellarBandObsFrame-'                                     \n",
       "HIERARCH size =                    4                                            \n",
       "HIERARCH sizeType = 'rHalfMassStars'                                            \n",
       "HIERARCH method = 'sphMap  '                                                    \n",
       "HIERARCH nPixels = '800,800 '                                                   \n",
       "HIERARCH axes = '0,1     '                                                      \n",
       "HIERARCH rasterPx =                 1100                                        \n",
       "HIERARCH plotStyle = 'edged   '                                                 \n",
       "HIERARCH labelZ = 'False   '                                                    \n",
       "HIERARCH labelSim = 'False   '                                                  \n",
       "HIERARCH labelHalo = 'False   '                                                 \n",
       "HIERARCH title = 'False   '                                                     \n",
       "HIERARCH colorbars = 'False   '                                                 \n",
       "HIERARCH scalebar = 'False   '                                                  \n",
       "HIERARCH partField_0 = 'stellarBandObsFrame-sdss_u'                             \n",
       "HIERARCH partField_1 = 'stellarBandObsFrame-sdss_g'                             \n",
       "HIERARCH partField_2 = 'stellarBandObsFrame-sdss_r'                             \n",
       "HIERARCH partField_3 = 'stellarBandObsFrame-sdss_i'                             \n",
       "HIERARCH partField_4 = 'stellarBandObsFrame-sdss_z'                             \n",
       "HIERARCH stellar_mass = 1.634361982345581 / 1e10 Msun/h                         \n",
       "HIERARCH stellar_half_mass_radius = 2.472107172012329 / ckpc/h                  \n",
       "HIERARCH stellar_mass_ratio = 0.5825705528259277                                \n",
       "HIERARCH imsize =    2.351601633576894 / arcsec                                 "
      ]
     },
     "execution_count": 80,
     "metadata": {},
     "output_type": "execute_result"
    }
   ],
   "source": [
    "header"
   ]
  },
  {
   "cell_type": "code",
   "execution_count": 81,
   "id": "13515f0d",
   "metadata": {},
   "outputs": [],
   "source": [
    "if snap == 99:\n",
    "    redshift = time_table['Redshift'][98]\n",
    "else:\n",
    "    redshift = header['Redshift']"
   ]
  },
  {
   "cell_type": "code",
   "execution_count": 82,
   "id": "d693d14d",
   "metadata": {},
   "outputs": [],
   "source": [
    "subhalo_data = il.groupcat.loadSubhalos(basePath, snap,\n",
    "                                        fields=['SubhaloMassType',\n",
    "                                                'SubhaloHalfmassRadType'])"
   ]
  },
  {
   "cell_type": "code",
   "execution_count": 83,
   "id": "f5dc6277",
   "metadata": {},
   "outputs": [],
   "source": [
    "header['HIERARCH stellar_mass'] = (float(subhalo_data['SubhaloMassType'][subhalo_id,\n",
    "                                                                         il.util.partTypeNum('stellar')]),\n",
    "                                   '1e10 Msun/h')"
   ]
  },
  {
   "cell_type": "code",
   "execution_count": 84,
   "id": "111357ba",
   "metadata": {},
   "outputs": [],
   "source": [
    "header['HIERARCH stellar_half_mass_radius'] = (float(subhalo_data['SubhaloHalfmassRadType'][subhalo_id,\n",
    "                                                                                            il.util.partTypeNum('stellar')]),\n",
    "                                                     'ckpc/h')"
   ]
  },
  {
   "cell_type": "code",
   "execution_count": 85,
   "id": "3e8b99be",
   "metadata": {},
   "outputs": [],
   "source": [
    "header['HIERARCH stellar_mass_ratio'] = float(subhalo_data['SubhaloMassType'][subhalo_id,\n",
    "                                                                              il.util.partTypeNum('stellar')]\n",
    "                                              / subhalo_data['SubhaloMassType'][subhalo_id,\n",
    "                                                                               il.util.partTypeNum('dm')])"
   ]
  },
  {
   "cell_type": "code",
   "execution_count": 86,
   "id": "ec1ec716",
   "metadata": {},
   "outputs": [],
   "source": [
    "if snap == 99:\n",
    "    redshift = time_table['Redshift'][98]\n",
    "else:\n",
    "    redshift = header['Redshift']"
   ]
  },
  {
   "cell_type": "code",
   "execution_count": 87,
   "id": "47237bfc",
   "metadata": {},
   "outputs": [],
   "source": [
    "header['HIERARCH imsize'] = (header['stellar_half_mass_radius'] *\n",
    "                             img_params['size']/(Planck15.H(0).value/100) *\n",
    "                             Planck15.arcsec_per_kpc_comoving(redshift).value,\n",
    "                             'arcsec')"
   ]
  },
  {
   "cell_type": "code",
   "execution_count": 88,
   "id": "4a7a876f",
   "metadata": {},
   "outputs": [],
   "source": [
    "phdu = fits.PrimaryHDU(header=header)\n",
    "hdul = fits.HDUList([phdu])"
   ]
  },
  {
   "cell_type": "code",
   "execution_count": 89,
   "id": "834d0cc3",
   "metadata": {},
   "outputs": [
    {
     "data": {
      "text/plain": [
       "[<astropy.io.fits.hdu.image.PrimaryHDU object at 0x7fd6d9e4a210>]"
      ]
     },
     "execution_count": 89,
     "metadata": {},
     "output_type": "execute_result"
    }
   ],
   "source": [
    "hdul"
   ]
  },
  {
   "cell_type": "code",
   "execution_count": 90,
   "id": "8c4bf79c",
   "metadata": {},
   "outputs": [],
   "source": [
    "filenames = []"
   ]
  },
  {
   "cell_type": "code",
   "execution_count": 91,
   "id": "c2e6337f",
   "metadata": {},
   "outputs": [],
   "source": [
    "part_field_prefix = img_params['partField']"
   ]
  },
  {
   "cell_type": "code",
   "execution_count": 92,
   "id": "82cab332",
   "metadata": {
    "scrolled": true
   },
   "outputs": [
    {
     "name": "stdout",
     "output_type": "stream",
     "text": [
      "Downloading /u/e/jb2854/Mergers_Project/DF_dir/TNG_HDF5_dir/87-13297-sdss_u-0,1.hdf5 from tng-project.org\n",
      "wget --retry-connrefused -O /u/e/jb2854/Mergers_Project/DF_dir/TNG_HDF5_dir/87-13297-sdss_u-0,1.hdf5 --header=\"API-Key: 5f3541d5334553d9d2b98de938189866\" \"https://www.tng-project.org/api/TNG100-1/snapshots/87/subhalos/13297/vis.hdf5?partType=stars&partField=stellarBandObsFrame-sdss_u&size=4&sizeType=rHalfMassStars&method=sphMap&nPixels=800,800&axes=0,1&rasterPx=1100&plotStyle=edged&labelZ=False&labelSim=False&labelHalo=False&title=False&colorbars=False&scalebar=False&\"\n"
     ]
    },
    {
     "name": "stderr",
     "output_type": "stream",
     "text": [
      "--2022-10-20 11:03:50--  https://www.tng-project.org/api/TNG100-1/snapshots/87/subhalos/13297/vis.hdf5?partType=stars&partField=stellarBandObsFrame-sdss_u&size=4&sizeType=rHalfMassStars&method=sphMap&nPixels=800,800&axes=0,1&rasterPx=1100&plotStyle=edged&labelZ=False&labelSim=False&labelHalo=False&title=False&colorbars=False&scalebar=False&\n",
      "Resolving wwwproxy.bath.ac.uk (wwwproxy.bath.ac.uk)... 138.38.44.101\n",
      "Connecting to wwwproxy.bath.ac.uk (wwwproxy.bath.ac.uk)|138.38.44.101|:3128... connected.\n",
      "Proxy request sent, awaiting response... 302 Found\n",
      "Location: https://data-eu.tng-project.org/vis/subhalo/TNG100-1/87/13297/hdf5/?partType=stars&partField=stellarBandObsFrame-sdss_u&size=4&sizeType=rHalfMassStars&method=sphMap&nPixels=800%2C800&axes=0%2C1&rasterPx=1100&plotStyle=edged&labelZ=False&labelSim=False&labelHalo=False&title=False&colorbars=False&scalebar=False&token=23752c8959870710d02e [following]\n",
      "--2022-10-20 11:03:50--  https://data-eu.tng-project.org/vis/subhalo/TNG100-1/87/13297/hdf5/?partType=stars&partField=stellarBandObsFrame-sdss_u&size=4&sizeType=rHalfMassStars&method=sphMap&nPixels=800%2C800&axes=0%2C1&rasterPx=1100&plotStyle=edged&labelZ=False&labelSim=False&labelHalo=False&title=False&colorbars=False&scalebar=False&token=23752c8959870710d02e\n",
      "Connecting to wwwproxy.bath.ac.uk (wwwproxy.bath.ac.uk)|138.38.44.101|:3128... connected.\n",
      "Proxy request sent, awaiting response... 200 OK\n",
      "Length: 2621440 (2.5M) [application/octet-stream]\n",
      "Saving to: ‘/u/e/jb2854/Mergers_Project/DF_dir/TNG_HDF5_dir/87-13297-sdss_u-0,1.hdf5’\n",
      "\n",
      "     0K .......... .......... .......... .......... ..........  1%  805K 3s\n",
      "    50K .......... .......... .......... .......... ..........  3% 1.54M 2s\n",
      "   100K .......... .......... .......... .......... ..........  5% 96.2M 2s\n",
      "   150K .......... .......... .......... .......... ..........  7% 1.55M 1s\n",
      "   200K .......... .......... .......... .......... ..........  9% 93.1M 1s\n",
      "   250K .......... .......... .......... .......... .......... 11%  103M 1s\n",
      "   300K .......... .......... .......... .......... .......... 13%  125M 1s\n",
      "   350K .......... .......... .......... .......... .......... 15% 1.62M 1s\n",
      "   400K .......... .......... .......... .......... .......... 17% 95.8M 1s\n",
      "   450K .......... .......... .......... .......... .......... 19%  101M 1s\n",
      "   500K .......... .......... .......... .......... .......... 21%  124M 1s\n",
      "   550K .......... .......... .......... .......... .......... 23%  118M 1s\n",
      "   600K .......... .......... .......... .......... .......... 25%  129M 0s\n",
      "   650K .......... .......... .......... .......... .......... 27%  139M 0s\n",
      "   700K .......... .......... .......... .......... .......... 29% 1.68M 0s\n",
      "   750K .......... .......... .......... .......... .......... 31%  117M 0s\n",
      "   800K .......... .......... .......... .......... .......... 33%  101M 0s\n",
      "   850K .......... .......... .......... .......... .......... 35% 76.4M 0s\n",
      "   900K .......... .......... .......... .......... .......... 37%  104M 0s\n",
      "   950K .......... .......... .......... .......... .......... 39%  126M 0s\n",
      "  1000K .......... .......... .......... .......... .......... 41%  130M 0s\n",
      "  1050K .......... .......... .......... .......... .......... 42%  131M 0s\n",
      "  1100K .......... .......... .......... .......... .......... 44%  121M 0s\n",
      "  1150K .......... .......... .......... .......... .......... 46%  136M 0s\n",
      "  1200K .......... .......... .......... .......... .......... 48%  119M 0s\n",
      "  1250K .......... .......... .......... .......... .......... 50%  128M 0s\n",
      "  1300K .......... .......... .......... .......... .......... 52%  131M 0s\n",
      "  1350K .......... .......... .......... .......... .......... 54%  130M 0s\n",
      "  1400K .......... .......... .......... .......... ...."
     ]
    },
    {
     "name": "stdout",
     "output_type": "stream",
     "text": [
      "Downloading /u/e/jb2854/Mergers_Project/DF_dir/TNG_HDF5_dir/87-13297-sdss_g-0,1.hdf5 from tng-project.org\n"
     ]
    },
    {
     "name": "stderr",
     "output_type": "stream",
     "text": [
      "...... 56% 1.73M 0s\n",
      "  1450K .......... .......... .......... .......... .......... 58%  103M 0s\n",
      "  1500K .......... .......... .......... .......... .......... 60% 95.7M 0s\n",
      "  1550K .......... .......... .......... .......... .......... 62% 99.5M 0s\n",
      "  1600K .......... .......... .......... .......... .......... 64% 94.9M 0s\n",
      "  1650K .......... .......... .......... .......... .......... 66% 80.6M 0s\n",
      "  1700K .......... .......... .......... .......... .......... 68%  134M 0s\n",
      "  1750K .......... .......... .......... .......... .......... 70%  123M 0s\n",
      "  1800K .......... .......... .......... .......... .......... 72%  127M 0s\n",
      "  1850K .......... .......... .......... .......... .......... 74%  127M 0s\n",
      "  1900K .......... .......... .......... .......... .......... 76%  129M 0s\n",
      "  1950K .......... .......... .......... .......... .......... 78%  140M 0s\n",
      "  2000K .......... .......... .......... .......... .......... 80%  121M 0s\n",
      "  2050K .......... .......... .......... .......... .......... 82%  134M 0s\n",
      "  2100K .......... .......... .......... .......... .......... 83%  127M 0s\n",
      "  2150K .......... .......... .......... .......... .......... 85%  137M 0s\n",
      "  2200K .......... .......... .......... .......... .......... 87%  126M 0s\n",
      "  2250K .......... .......... .......... .......... .......... 89%  132M 0s\n",
      "  2300K .......... .......... .......... .......... .......... 91%  134M 0s\n",
      "  2350K .......... .......... .......... .......... .......... 93%  128M 0s\n",
      "  2400K .......... .......... .......... .......... .......... 95%  126M 0s\n",
      "  2450K .......... .......... .......... .......... .......... 97%  134M 0s\n",
      "  2500K .......... .......... .......... .......... .......... 99%  132M 0s\n",
      "  2550K ..........                                            100%  139M=0.2s\n",
      "\n",
      "2022-10-20 11:04:35 (10.8 MB/s) - ‘/u/e/jb2854/Mergers_Project/DF_dir/TNG_HDF5_dir/87-13297-sdss_u-0,1.hdf5’ saved [2621440/2621440]\n",
      "\n",
      "--2022-10-20 11:04:35--  https://www.tng-project.org/api/TNG100-1/snapshots/87/subhalos/13297/vis.hdf5?partType=stars&partField=stellarBandObsFrame-sdss_g&size=4&sizeType=rHalfMassStars&method=sphMap&nPixels=800,800&axes=0,1&rasterPx=1100&plotStyle=edged&labelZ=False&labelSim=False&labelHalo=False&title=False&colorbars=False&scalebar=False&\n",
      "Resolving wwwproxy.bath.ac.uk (wwwproxy.bath.ac.uk)... 138.38.44.101\n",
      "Connecting to wwwproxy.bath.ac.uk (wwwproxy.bath.ac.uk)|138.38.44.101|:3128... connected.\n",
      "Proxy request sent, awaiting response... "
     ]
    },
    {
     "name": "stdout",
     "output_type": "stream",
     "text": [
      "wget --retry-connrefused -O /u/e/jb2854/Mergers_Project/DF_dir/TNG_HDF5_dir/87-13297-sdss_g-0,1.hdf5 --header=\"API-Key: 5f3541d5334553d9d2b98de938189866\" \"https://www.tng-project.org/api/TNG100-1/snapshots/87/subhalos/13297/vis.hdf5?partType=stars&partField=stellarBandObsFrame-sdss_g&size=4&sizeType=rHalfMassStars&method=sphMap&nPixels=800,800&axes=0,1&rasterPx=1100&plotStyle=edged&labelZ=False&labelSim=False&labelHalo=False&title=False&colorbars=False&scalebar=False&\"\n"
     ]
    },
    {
     "name": "stderr",
     "output_type": "stream",
     "text": [
      "302 Found\n",
      "Location: https://data-eu.tng-project.org/vis/subhalo/TNG100-1/87/13297/hdf5/?partType=stars&partField=stellarBandObsFrame-sdss_g&size=4&sizeType=rHalfMassStars&method=sphMap&nPixels=800%2C800&axes=0%2C1&rasterPx=1100&plotStyle=edged&labelZ=False&labelSim=False&labelHalo=False&title=False&colorbars=False&scalebar=False&token=adfa7c4bfd67a45078b8 [following]\n",
      "--2022-10-20 11:04:35--  https://data-eu.tng-project.org/vis/subhalo/TNG100-1/87/13297/hdf5/?partType=stars&partField=stellarBandObsFrame-sdss_g&size=4&sizeType=rHalfMassStars&method=sphMap&nPixels=800%2C800&axes=0%2C1&rasterPx=1100&plotStyle=edged&labelZ=False&labelSim=False&labelHalo=False&title=False&colorbars=False&scalebar=False&token=adfa7c4bfd67a45078b8\n",
      "Connecting to wwwproxy.bath.ac.uk (wwwproxy.bath.ac.uk)|138.38.44.101|:3128... connected.\n",
      "Proxy request sent, awaiting response... 200 OK\n",
      "Length: 2621440 (2.5M) [application/octet-stream]\n",
      "Saving to: ‘/u/e/jb2854/Mergers_Project/DF_dir/TNG_HDF5_dir/87-13297-sdss_g-0,1.hdf5’\n",
      "\n",
      "     0K .......... .......... .......... .......... ..........  1%  803K 3s\n",
      "    50K .......... .......... .......... .......... ..........  3% 1.51M 2s\n",
      "   100K .......... .......... .......... .......... ..........  5% 15.9M 2s\n",
      "   150K .......... .......... .......... .......... ..........  7% 1.67M 1s\n",
      "   200K .......... .......... .......... .......... ..........  9%  136M 1s\n",
      "   250K .......... .......... .......... .......... .......... 11% 78.7M 1s\n",
      "   300K .......... .......... .......... .......... .......... 13%  130M 1s\n",
      "   350K .......... .......... .......... .......... .......... 15% 1.61M 1s\n",
      "   400K .......... .......... .......... .......... .......... 17%  104M 1s\n",
      "   450K .......... .......... .......... .......... .......... 19% 95.2M 1s\n",
      "   500K .......... .......... .......... .......... .......... 21%  128M 1s\n",
      "   550K .......... .......... .......... .......... .......... 23%  125M 1s\n",
      "   600K .......... .......... .......... .......... .......... 25%  137M 0s\n",
      "   650K .......... .......... .......... .......... .......... 27%  125M 0s\n",
      "   700K .......... .......... .......... .......... .......... 29% 1.74M 0s\n",
      "   750K .......... .......... .......... .......... .......... 31%  110M 0s\n",
      "   800K .......... .......... .......... .......... .......... 33% 97.4M 0s\n",
      "   850K .......... .......... .......... .......... .......... 35% 92.1M 0s\n",
      "   900K .......... .......... .......... .......... .......... 37% 90.8M 0s\n",
      "   950K .......... .......... .......... .......... .......... 39%  118M 0s\n",
      "  1000K .......... .......... .......... .......... .......... 41%  131M 0s\n",
      "  1050K .......... .......... .......... .......... .......... 42%  138M 0s\n",
      "  1100K .......... .......... .......... .......... .......... 44%  113M 0s\n",
      "  1150K .......... .......... .......... .......... .......... 46%  125M 0s\n",
      "  1200K .......... .......... .......... .......... .......... 48%  125M 0s\n",
      "  1250K .......... .......... .......... .......... .......... 50%  136M 0s\n",
      "  1300K .......... .......... .......... .......... .......... 52%  129M 0s\n",
      "  1350K .......... .......... .......... .......... .......... 54%  128M 0s\n",
      "  1400K .......... .......... .......... .......... .......... 56%  133M 0s\n",
      "  1450K .........."
     ]
    },
    {
     "name": "stdout",
     "output_type": "stream",
     "text": [
      "Downloading /u/e/jb2854/Mergers_Project/DF_dir/TNG_HDF5_dir/87-13297-sdss_r-0,1.hdf5 from tng-project.org\n"
     ]
    },
    {
     "name": "stderr",
     "output_type": "stream",
     "text": [
      " .......... .......... .......... .......... 58% 1.90M 0s\n",
      "  1500K .......... .......... .......... .......... .......... 60%  113M 0s\n",
      "  1550K .......... .......... .......... .......... .......... 62%  114M 0s\n",
      "  1600K .......... .......... .......... .......... .......... 64%  110M 0s\n",
      "  1650K .......... .......... .......... .......... .......... 66%  122M 0s\n",
      "  1700K .......... .......... .......... .......... .......... 68%  119M 0s\n",
      "  1750K .......... .......... .......... .......... .......... 70%  112M 0s\n",
      "  1800K .......... .......... .......... .......... .......... 72%  135M 0s\n",
      "  1850K .......... .......... .......... .......... .......... 74%  122M 0s\n",
      "  1900K .......... .......... .......... .......... .......... 76%  111M 0s\n",
      "  1950K .......... .......... .......... .......... .......... 78%  103M 0s\n",
      "  2000K .......... .......... .......... .......... .......... 80%  123M 0s\n",
      "  2050K .......... .......... .......... .......... .......... 82%  115M 0s\n",
      "  2100K .......... .......... .......... .......... .......... 83% 98.7M 0s\n",
      "  2150K .......... .......... .......... .......... .......... 85%  115M 0s\n",
      "  2200K .......... .......... .......... .......... .......... 87%  126M 0s\n",
      "  2250K .......... .......... .......... .......... .......... 89%  134M 0s\n",
      "  2300K .......... .......... .......... .......... .......... 91%  128M 0s\n",
      "  2350K .......... .......... .......... .......... .......... 93%  125M 0s\n",
      "  2400K .......... .......... .......... .......... .......... 95%  138M 0s\n",
      "  2450K .......... .......... .......... .......... .......... 97%  126M 0s\n",
      "  2500K .......... .......... .......... .......... .......... 99%  126M 0s\n",
      "  2550K ..........                                            100%  137M=0.2s\n",
      "\n",
      "2022-10-20 11:05:19 (10.9 MB/s) - ‘/u/e/jb2854/Mergers_Project/DF_dir/TNG_HDF5_dir/87-13297-sdss_g-0,1.hdf5’ saved [2621440/2621440]\n",
      "\n",
      "--2022-10-20 11:05:19--  https://www.tng-project.org/api/TNG100-1/snapshots/87/subhalos/13297/vis.hdf5?partType=stars&partField=stellarBandObsFrame-sdss_r&size=4&sizeType=rHalfMassStars&method=sphMap&nPixels=800,800&axes=0,1&rasterPx=1100&plotStyle=edged&labelZ=False&labelSim=False&labelHalo=False&title=False&colorbars=False&scalebar=False&\n",
      "Resolving wwwproxy.bath.ac.uk (wwwproxy.bath.ac.uk)... 138.38.44.101\n",
      "Connecting to wwwproxy.bath.ac.uk (wwwproxy.bath.ac.uk)|138.38.44.101|:3128... connected.\n",
      "Proxy request sent, awaiting response... "
     ]
    },
    {
     "name": "stdout",
     "output_type": "stream",
     "text": [
      "wget --retry-connrefused -O /u/e/jb2854/Mergers_Project/DF_dir/TNG_HDF5_dir/87-13297-sdss_r-0,1.hdf5 --header=\"API-Key: 5f3541d5334553d9d2b98de938189866\" \"https://www.tng-project.org/api/TNG100-1/snapshots/87/subhalos/13297/vis.hdf5?partType=stars&partField=stellarBandObsFrame-sdss_r&size=4&sizeType=rHalfMassStars&method=sphMap&nPixels=800,800&axes=0,1&rasterPx=1100&plotStyle=edged&labelZ=False&labelSim=False&labelHalo=False&title=False&colorbars=False&scalebar=False&\"\n"
     ]
    },
    {
     "name": "stderr",
     "output_type": "stream",
     "text": [
      "302 Found\n",
      "Location: https://data-eu.tng-project.org/vis/subhalo/TNG100-1/87/13297/hdf5/?partType=stars&partField=stellarBandObsFrame-sdss_r&size=4&sizeType=rHalfMassStars&method=sphMap&nPixels=800%2C800&axes=0%2C1&rasterPx=1100&plotStyle=edged&labelZ=False&labelSim=False&labelHalo=False&title=False&colorbars=False&scalebar=False&token=211bdd4b6999c3d0aa55 [following]\n",
      "--2022-10-20 11:05:19--  https://data-eu.tng-project.org/vis/subhalo/TNG100-1/87/13297/hdf5/?partType=stars&partField=stellarBandObsFrame-sdss_r&size=4&sizeType=rHalfMassStars&method=sphMap&nPixels=800%2C800&axes=0%2C1&rasterPx=1100&plotStyle=edged&labelZ=False&labelSim=False&labelHalo=False&title=False&colorbars=False&scalebar=False&token=211bdd4b6999c3d0aa55\n",
      "Connecting to wwwproxy.bath.ac.uk (wwwproxy.bath.ac.uk)|138.38.44.101|:3128... connected.\n",
      "Proxy request sent, awaiting response... 200 OK\n",
      "Length: 2621440 (2.5M) [application/octet-stream]\n",
      "Saving to: ‘/u/e/jb2854/Mergers_Project/DF_dir/TNG_HDF5_dir/87-13297-sdss_r-0,1.hdf5’\n",
      "\n",
      "     0K .......... .......... .......... .......... ..........  1%  800K 3s\n",
      "    50K .......... .......... .......... .......... ..........  3% 1.39M 2s\n",
      "   100K .......... .......... .......... .......... ..........  5% 1.67M 2s\n",
      "   150K .......... .......... .......... .......... ..........  7% 48.4M 2s\n",
      "   200K .......... .......... .......... .......... ..........  9% 1.57M 1s\n",
      "   250K .......... .......... .......... .......... .......... 11% 28.6M 1s\n",
      "   300K .......... .......... .......... .......... .......... 13%  117M 1s\n",
      "   350K .......... .......... .......... .......... .......... 15%  107M 1s\n",
      "   400K .......... .......... .......... .......... .......... 17% 1.83M 1s\n",
      "   450K .......... .......... .......... .......... .......... 19% 38.2M 1s\n",
      "   500K .......... .......... .......... .......... .......... 21%  118M 1s\n",
      "   550K .......... .......... .......... .......... .......... 23% 67.3M 1s\n",
      "   600K .......... .......... .......... .......... .......... 25% 30.3M 1s\n",
      "   650K .......... .......... .......... .......... .......... 27%  107M 1s\n",
      "   700K .......... .......... .......... .......... .......... 29%  115M 0s\n",
      "   750K .......... .......... .......... .......... .......... 31%  125M 0s\n",
      "   800K .......... .......... .......... .......... .......... 33%  144M 0s\n",
      "   850K .......... .......... .......... ....."
     ]
    },
    {
     "name": "stdout",
     "output_type": "stream",
     "text": [
      "Downloading /u/e/jb2854/Mergers_Project/DF_dir/TNG_HDF5_dir/87-13297-sdss_i-0,1.hdf5 from tng-project.org\n"
     ]
    },
    {
     "name": "stderr",
     "output_type": "stream",
     "text": [
      "..... .......... 35% 1.91M 0s\n",
      "   900K .......... .......... .......... .......... .......... 37% 57.7M 0s\n",
      "   950K .......... .......... .......... .......... .......... 39% 43.9M 0s\n",
      "  1000K .......... .......... .......... .......... .......... 41%  104M 0s\n",
      "  1050K .......... .......... .......... .......... .......... 42%  135M 0s\n",
      "  1100K .......... .......... .......... .......... .......... 44%  146M 0s\n",
      "  1150K .......... .......... .......... .......... .......... 46%  111M 0s\n",
      "  1200K .......... .......... .......... .......... .......... 48%  128M 0s\n",
      "  1250K .......... .......... .......... .......... .......... 50%  106M 0s\n",
      "  1300K .......... .......... .......... .......... .......... 52%  100M 0s\n",
      "  1350K .......... .......... .......... .......... .......... 54% 99.2M 0s\n",
      "  1400K .......... .......... .......... .......... .......... 56%  132M 0s\n",
      "  1450K .......... .......... .......... .......... .......... 58%  153M 0s\n",
      "  1500K .......... .......... .......... .......... .......... 60%  122M 0s\n",
      "  1550K .......... .......... .......... .......... .......... 62%  139M 0s\n",
      "  1600K .......... .......... .......... .......... .......... 64%  131M 0s\n",
      "  1650K .......... .......... .......... .......... .......... 66%  147M 0s\n",
      "  1700K .......... .......... .......... .......... .......... 68%  122M 0s\n",
      "  1750K .......... .......... .......... .......... .......... 70% 2.08M 0s\n",
      "  1800K .......... .......... .......... .......... .......... 72% 60.0M 0s\n",
      "  1850K .......... .......... .......... .......... .......... 74% 69.0M 0s\n",
      "  1900K .......... .......... .......... .......... .......... 76%  123M 0s\n",
      "  1950K .......... .......... .......... .......... .......... 78%  103M 0s\n",
      "  2000K .......... .......... .......... .......... .......... 80%  140M 0s\n",
      "  2050K .......... .......... .......... .......... .......... 82% 40.0M 0s\n",
      "  2100K .......... .......... .......... .......... .......... 83% 74.1M 0s\n",
      "  2150K .......... .......... .......... .......... .......... 85%  140M 0s\n",
      "  2200K .......... .......... .......... .......... .......... 87%  138M 0s\n",
      "  2250K .......... .......... .......... .......... .......... 89%  129M 0s\n",
      "  2300K .......... .......... .......... .......... .......... 91%  134M 0s\n",
      "  2350K .......... .......... .......... .......... .......... 93%  143M 0s\n",
      "  2400K .......... .......... .......... .......... .......... 95%  122M 0s\n",
      "  2450K .......... .......... .......... .......... .......... 97%  138M 0s\n",
      "  2500K .......... .......... .......... .......... .......... 99%  128M 0s\n",
      "  2550K ..........                                            100%  114M=0.3s\n",
      "\n",
      "2022-10-20 11:06:01 (9.68 MB/s) - ‘/u/e/jb2854/Mergers_Project/DF_dir/TNG_HDF5_dir/87-13297-sdss_r-0,1.hdf5’ saved [2621440/2621440]\n",
      "\n",
      "--2022-10-20 11:06:01--  https://www.tng-project.org/api/TNG100-1/snapshots/87/subhalos/13297/vis.hdf5?partType=stars&partField=stellarBandObsFrame-sdss_i&size=4&sizeType=rHalfMassStars&method=sphMap&nPixels=800,800&axes=0,1&rasterPx=1100&plotStyle=edged&labelZ=False&labelSim=False&labelHalo=False&title=False&colorbars=False&scalebar=False&\n",
      "Resolving wwwproxy.bath.ac.uk (wwwproxy.bath.ac.uk)... 138.38.44.101\n",
      "Connecting to wwwproxy.bath.ac.uk (wwwproxy.bath.ac.uk)|138.38.44.101|:3128... connected.\n"
     ]
    },
    {
     "name": "stdout",
     "output_type": "stream",
     "text": [
      "wget --retry-connrefused -O /u/e/jb2854/Mergers_Project/DF_dir/TNG_HDF5_dir/87-13297-sdss_i-0,1.hdf5 --header=\"API-Key: 5f3541d5334553d9d2b98de938189866\" \"https://www.tng-project.org/api/TNG100-1/snapshots/87/subhalos/13297/vis.hdf5?partType=stars&partField=stellarBandObsFrame-sdss_i&size=4&sizeType=rHalfMassStars&method=sphMap&nPixels=800,800&axes=0,1&rasterPx=1100&plotStyle=edged&labelZ=False&labelSim=False&labelHalo=False&title=False&colorbars=False&scalebar=False&\"\n"
     ]
    },
    {
     "name": "stderr",
     "output_type": "stream",
     "text": [
      "Proxy request sent, awaiting response... 302 Found\n",
      "Location: https://data-eu.tng-project.org/vis/subhalo/TNG100-1/87/13297/hdf5/?partType=stars&partField=stellarBandObsFrame-sdss_i&size=4&sizeType=rHalfMassStars&method=sphMap&nPixels=800%2C800&axes=0%2C1&rasterPx=1100&plotStyle=edged&labelZ=False&labelSim=False&labelHalo=False&title=False&colorbars=False&scalebar=False&token=4cb132851e6d223c0f38 [following]\n",
      "--2022-10-20 11:06:01--  https://data-eu.tng-project.org/vis/subhalo/TNG100-1/87/13297/hdf5/?partType=stars&partField=stellarBandObsFrame-sdss_i&size=4&sizeType=rHalfMassStars&method=sphMap&nPixels=800%2C800&axes=0%2C1&rasterPx=1100&plotStyle=edged&labelZ=False&labelSim=False&labelHalo=False&title=False&colorbars=False&scalebar=False&token=4cb132851e6d223c0f38\n",
      "Connecting to wwwproxy.bath.ac.uk (wwwproxy.bath.ac.uk)|138.38.44.101|:3128... connected.\n",
      "Proxy request sent, awaiting response... 200 OK\n",
      "Length: 2621440 (2.5M) [application/octet-stream]\n",
      "Saving to: ‘/u/e/jb2854/Mergers_Project/DF_dir/TNG_HDF5_dir/87-13297-sdss_i-0,1.hdf5’\n",
      "\n",
      "     0K .......... .......... .......... .......... ..........  1%  821K 3s\n",
      "    50K .......... .......... .......... .......... ..........  3% 1.56M 2s\n",
      "   100K .......... .......... .......... .......... ..........  5%  125M 1s\n",
      "   150K .......... .......... .......... .......... ..........  7%  136M 1s\n",
      "   200K .......... .......... .......... .......... ..........  9% 1.58M 1s\n",
      "   250K .......... .......... .......... .......... .......... 11%  124M 1s\n",
      "   300K .......... .......... .......... .......... .......... 13%  126M 1s\n",
      "   350K .......... .......... .......... .......... .......... 15%  130M 1s\n",
      "   400K .......... .......... .......... .......... .......... 17% 1.64M 1s\n",
      "   450K .......... .......... .......... .......... .......... 19%  113M 1s\n",
      "   500K .......... .......... .......... .......... .......... 21%  117M 1s\n",
      "   550K .......... .......... .......... .......... .......... 23%  124M 1s\n",
      "   600K .......... .......... .......... .......... .......... 25%  127M 0s\n",
      "   650K .......... .......... .......... .......... .......... 27%  134M 0s\n",
      "   700K .......... .......... .......... .......... .......... 29%  121M 0s\n",
      "   750K .......... .......... .......... .......... .......... 31%  138M 0s\n",
      "   800K .......... .......... .......... .......... .......... 33% 1.72M 0s\n",
      "   850K .......... .......... .......... .......... .......... 35%  116M 0s\n",
      "   900K .......... .......... .......... .......... .......... 37%  121M 0s\n",
      "   950K .......... .......... .......... .......... .......... 39%  116M 0s\n",
      "  1000K .......... .......... .......... .......... .......... 41%  122M 0s\n",
      "  1050K .......... .......... .......... .......... .......... 42%  121M 0s\n",
      "  1100K .......... .......... .......... .......... .......... 44%  122M 0s\n",
      "  1150K .......... .......... .......... .......... .......... 46%  122M 0s\n",
      "  1200K .......... .......... .......... .......... .......... 48%  128M 0s\n",
      "  1250K .......... .......... .......... .......... .......... 50%  139M 0s\n",
      "  1300K .......... .......... .......... .......... .......... 52%  128M 0s\n",
      "  1350K .......... .......... .......... .......... .......... 54%  131M 0s\n",
      "  1400K .......... .......... .......... .......... .......... 56%  135M 0s\n",
      "  1450K .......... .......... .......... .......... .......... 58%  126M 0s\n",
      "  1500K .......... .......... .......... .......... .......... 60%  128M 0s\n",
      "  1550K .......... .......... .......... .......... .......... 62%  138M 0s\n",
      "  1600K .......... .......... .......... .......... .......... 64%  129M 0s\n",
      "  1650K .......... ..."
     ]
    },
    {
     "name": "stdout",
     "output_type": "stream",
     "text": [
      "Downloading /u/e/jb2854/Mergers_Project/DF_dir/TNG_HDF5_dir/87-13297-sdss_z-0,1.hdf5 from tng-project.org\n"
     ]
    },
    {
     "name": "stderr",
     "output_type": "stream",
     "text": [
      "....... .......... .......... .......... 66% 1.94M 0s\n",
      "  1700K .......... .......... .......... .......... .......... 68%  112M 0s\n",
      "  1750K .......... .......... .......... .......... .......... 70%  140M 0s\n",
      "  1800K .......... .......... .......... .......... .......... 72%  128M 0s\n",
      "  1850K .......... .......... .......... .......... .......... 74%  107M 0s\n",
      "  1900K .......... .......... .......... .......... .......... 76%  109M 0s\n",
      "  1950K .......... .......... .......... .......... .......... 78%  122M 0s\n",
      "  2000K .......... .......... .......... .......... .......... 80%  137M 0s\n",
      "  2050K .......... .......... .......... .......... .......... 82%  141M 0s\n",
      "  2100K .......... .......... .......... .......... .......... 83%  124M 0s\n",
      "  2150K .......... .......... .......... .......... .......... 85%  135M 0s\n",
      "  2200K .......... .......... .......... .......... .......... 87%  126M 0s\n",
      "  2250K .......... .......... .......... .......... .......... 89%  139M 0s\n",
      "  2300K .......... .......... .......... .......... .......... 91%  124M 0s\n",
      "  2350K .......... .......... .......... .......... .......... 93%  130M 0s\n",
      "  2400K .......... .......... .......... .......... .......... 95%  138M 0s\n",
      "  2450K .......... .......... .......... .......... .......... 97%  127M 0s\n",
      "  2500K .......... .......... .......... .......... .......... 99%  125M 0s\n",
      "  2550K ..........                                            100%  148M=0.2s\n",
      "\n",
      "2022-10-20 11:06:42 (11.2 MB/s) - ‘/u/e/jb2854/Mergers_Project/DF_dir/TNG_HDF5_dir/87-13297-sdss_i-0,1.hdf5’ saved [2621440/2621440]\n",
      "\n",
      "--2022-10-20 11:06:42--  https://www.tng-project.org/api/TNG100-1/snapshots/87/subhalos/13297/vis.hdf5?partType=stars&partField=stellarBandObsFrame-sdss_z&size=4&sizeType=rHalfMassStars&method=sphMap&nPixels=800,800&axes=0,1&rasterPx=1100&plotStyle=edged&labelZ=False&labelSim=False&labelHalo=False&title=False&colorbars=False&scalebar=False&\n",
      "Resolving wwwproxy.bath.ac.uk (wwwproxy.bath.ac.uk)... 138.38.44.101\n",
      "Connecting to wwwproxy.bath.ac.uk (wwwproxy.bath.ac.uk)|138.38.44.101|:3128... connected.\n",
      "Proxy request sent, awaiting response... "
     ]
    },
    {
     "name": "stdout",
     "output_type": "stream",
     "text": [
      "wget --retry-connrefused -O /u/e/jb2854/Mergers_Project/DF_dir/TNG_HDF5_dir/87-13297-sdss_z-0,1.hdf5 --header=\"API-Key: 5f3541d5334553d9d2b98de938189866\" \"https://www.tng-project.org/api/TNG100-1/snapshots/87/subhalos/13297/vis.hdf5?partType=stars&partField=stellarBandObsFrame-sdss_z&size=4&sizeType=rHalfMassStars&method=sphMap&nPixels=800,800&axes=0,1&rasterPx=1100&plotStyle=edged&labelZ=False&labelSim=False&labelHalo=False&title=False&colorbars=False&scalebar=False&\"\n"
     ]
    },
    {
     "name": "stderr",
     "output_type": "stream",
     "text": [
      "302 Found\n",
      "Location: https://data-eu.tng-project.org/vis/subhalo/TNG100-1/87/13297/hdf5/?partType=stars&partField=stellarBandObsFrame-sdss_z&size=4&sizeType=rHalfMassStars&method=sphMap&nPixels=800%2C800&axes=0%2C1&rasterPx=1100&plotStyle=edged&labelZ=False&labelSim=False&labelHalo=False&title=False&colorbars=False&scalebar=False&token=aac143e987fe62b35a27 [following]\n",
      "--2022-10-20 11:06:42--  https://data-eu.tng-project.org/vis/subhalo/TNG100-1/87/13297/hdf5/?partType=stars&partField=stellarBandObsFrame-sdss_z&size=4&sizeType=rHalfMassStars&method=sphMap&nPixels=800%2C800&axes=0%2C1&rasterPx=1100&plotStyle=edged&labelZ=False&labelSim=False&labelHalo=False&title=False&colorbars=False&scalebar=False&token=aac143e987fe62b35a27\n",
      "Connecting to wwwproxy.bath.ac.uk (wwwproxy.bath.ac.uk)|138.38.44.101|:3128... connected.\n",
      "Proxy request sent, awaiting response... 200 OK\n",
      "Length: 2621440 (2.5M) [application/octet-stream]\n",
      "Saving to: ‘/u/e/jb2854/Mergers_Project/DF_dir/TNG_HDF5_dir/87-13297-sdss_z-0,1.hdf5’\n",
      "\n",
      "     0K .......... .......... .......... .......... ..........  1%  785K 3s\n",
      "    50K .......... .......... .......... .......... ..........  3% 1.58M 2s\n",
      "   100K .......... .......... .......... .......... ..........  5%  118M 2s\n",
      "   150K .......... .......... .......... .......... ..........  7% 1.68M 1s\n",
      "   200K .......... .......... .......... .......... ..........  9% 19.6M 1s\n",
      "   250K .......... .......... .......... .......... .......... 11%  127M 1s\n",
      "   300K .......... .......... .......... .......... .......... 13%  126M 1s\n",
      "   350K .......... .......... .......... .......... .......... 15% 1.74M 1s\n",
      "   400K .......... .......... .......... .......... .......... 17% 21.3M 1s\n",
      "   450K .......... .......... .......... .......... .......... 19%  125M 1s\n",
      "   500K .......... .......... .......... .......... .......... 21%  112M 1s\n",
      "   550K .......... .......... .......... .......... .......... 23%  135M 1s\n",
      "   600K .......... .......... .......... .......... .......... 25%  124M 0s\n",
      "   650K .......... .......... .......... .......... .......... 27%  139M 0s\n",
      "   700K .......... .......... .......... .......... .......... 29% 1.78M 0s\n",
      "   750K .......... .......... .......... .......... .......... 31%  128M 0s\n",
      "   800K .......... .......... .......... .......... .......... 33%  133M 0s\n",
      "   850K .......... .......... .......... .......... .......... 35% 33.4M 0s\n",
      "   900K .......... .......... .......... .......... .......... 37%  120M 0s\n",
      "   950K .......... .......... .......... .......... .......... 39%  124M 0s\n",
      "  1000K .......... .......... .......... .......... .......... 41%  118M 0s\n",
      "  1050K .......... .......... .......... .......... .......... 42%  125M 0s\n",
      "  1100K .......... .......... .......... .......... .......... 44%  111M 0s\n",
      "  1150K .......... .......... .......... .......... .......... 46%  139M 0s\n",
      "  1200K .......... .......... .......... .......... .......... 48%  126M 0s\n",
      "  1250K .......... .......... .......... .......... .......... 50%  134M 0s\n",
      "  1300K .......... .......... .......... .......... .......... 52%  129M 0s\n",
      "  1350K .......... .......... .......... .......... .......... 54%  127M 0s\n",
      "  1400K .......... .......... .......... .......... .......... 56%  139M 0s\n",
      "  1450K .......... .......... .......... .......... .."
     ]
    },
    {
     "name": "stdout",
     "output_type": "stream",
     "text": [
      "Downloading /u/e/jb2854/Mergers_Project/DF_dir/TNG_HDF5_dir/87-13297-sdss_u-0,2.hdf5 from tng-project.org\n"
     ]
    },
    {
     "name": "stderr",
     "output_type": "stream",
     "text": [
      "........ 58% 1.93M 0s\n",
      "  1500K .......... .......... .......... .......... .......... 60%  118M 0s\n",
      "  1550K .......... .......... .......... .......... .......... 62%  135M 0s\n",
      "  1600K .......... .......... .......... .......... .......... 64%  126M 0s\n",
      "  1650K .......... .......... .......... .......... .......... 66%  133M 0s\n",
      "  1700K .......... .......... .......... .......... .......... 68%  105M 0s\n",
      "  1750K .......... .......... .......... .......... .......... 70%  127M 0s\n",
      "  1800K .......... .......... .......... .......... .......... 72%  130M 0s\n",
      "  1850K .......... .......... .......... .......... .......... 74%  123M 0s\n",
      "  1900K .......... .......... .......... .......... .......... 76%  117M 0s\n",
      "  1950K .......... .......... .......... .......... .......... 78%  117M 0s\n",
      "  2000K .......... .......... .......... .......... .......... 80%  130M 0s\n",
      "  2050K .......... .......... .......... .......... .......... 82%  139M 0s\n",
      "  2100K .......... .......... .......... .......... .......... 83%  117M 0s\n",
      "  2150K .......... .......... .......... .......... .......... 85%  138M 0s\n",
      "  2200K .......... .......... .......... .......... .......... 87%  126M 0s\n",
      "  2250K .......... .......... .......... .......... .......... 89%  138M 0s\n",
      "  2300K .......... .......... .......... .......... .......... 91%  126M 0s\n",
      "  2350K .......... .......... .......... .......... .......... 93%  131M 0s\n",
      "  2400K .......... .......... .......... .......... .......... 95%  138M 0s\n",
      "  2450K .......... .......... .......... .......... .......... 97%  128M 0s\n",
      "  2500K .......... .......... .......... .......... .......... 99%  127M 0s\n",
      "  2550K ..........                                            100%  134M=0.2s\n",
      "\n",
      "2022-10-20 11:07:23 (11.0 MB/s) - ‘/u/e/jb2854/Mergers_Project/DF_dir/TNG_HDF5_dir/87-13297-sdss_z-0,1.hdf5’ saved [2621440/2621440]\n",
      "\n",
      "--2022-10-20 11:07:23--  https://www.tng-project.org/api/TNG100-1/snapshots/87/subhalos/13297/vis.hdf5?partType=stars&partField=stellarBandObsFrame-sdss_u&size=4&sizeType=rHalfMassStars&method=sphMap&nPixels=800,800&axes=0,1&rasterPx=1100&plotStyle=edged&labelZ=False&labelSim=False&labelHalo=False&title=False&colorbars=False&scalebar=False&\n",
      "Resolving wwwproxy.bath.ac.uk (wwwproxy.bath.ac.uk)... 138.38.44.101\n",
      "Connecting to wwwproxy.bath.ac.uk (wwwproxy.bath.ac.uk)|138.38.44.101|:3128... connected.\n",
      "Proxy request sent, awaiting response... "
     ]
    },
    {
     "name": "stdout",
     "output_type": "stream",
     "text": [
      "wget --retry-connrefused -O /u/e/jb2854/Mergers_Project/DF_dir/TNG_HDF5_dir/87-13297-sdss_u-0,2.hdf5 --header=\"API-Key: 5f3541d5334553d9d2b98de938189866\" \"https://www.tng-project.org/api/TNG100-1/snapshots/87/subhalos/13297/vis.hdf5?partType=stars&partField=stellarBandObsFrame-sdss_u&size=4&sizeType=rHalfMassStars&method=sphMap&nPixels=800,800&axes=0,1&rasterPx=1100&plotStyle=edged&labelZ=False&labelSim=False&labelHalo=False&title=False&colorbars=False&scalebar=False&\"\n"
     ]
    },
    {
     "name": "stderr",
     "output_type": "stream",
     "text": [
      "302 Found\n",
      "Location: https://data-eu.tng-project.org/vis/subhalo/TNG100-1/87/13297/hdf5/?partType=stars&partField=stellarBandObsFrame-sdss_u&size=4&sizeType=rHalfMassStars&method=sphMap&nPixels=800%2C800&axes=0%2C1&rasterPx=1100&plotStyle=edged&labelZ=False&labelSim=False&labelHalo=False&title=False&colorbars=False&scalebar=False&token=1697e0aeef6a2579481e [following]\n",
      "--2022-10-20 11:07:23--  https://data-eu.tng-project.org/vis/subhalo/TNG100-1/87/13297/hdf5/?partType=stars&partField=stellarBandObsFrame-sdss_u&size=4&sizeType=rHalfMassStars&method=sphMap&nPixels=800%2C800&axes=0%2C1&rasterPx=1100&plotStyle=edged&labelZ=False&labelSim=False&labelHalo=False&title=False&colorbars=False&scalebar=False&token=1697e0aeef6a2579481e\n",
      "Connecting to wwwproxy.bath.ac.uk (wwwproxy.bath.ac.uk)|138.38.44.101|:3128... connected.\n",
      "Proxy request sent, awaiting response... 200 OK\n",
      "Length: 2621440 (2.5M) [application/octet-stream]\n",
      "Saving to: ‘/u/e/jb2854/Mergers_Project/DF_dir/TNG_HDF5_dir/87-13297-sdss_u-0,2.hdf5’\n",
      "\n",
      "     0K .......... .......... .......... .......... ..........  1%  802K 3s\n",
      "    50K .......... .......... .......... .......... ..........  3% 1.56M 2s\n",
      "   100K .......... .......... .......... .......... ..........  5% 96.8M 2s\n",
      "   150K .......... .......... .......... .......... ..........  7%  137M 1s\n",
      "   200K .......... .......... .......... .......... ..........  9% 1.57M 1s\n",
      "   250K .......... .......... .......... .......... .......... 11%  123M 1s\n",
      "   300K .......... .......... .......... .......... .......... 13%  135M 1s\n",
      "   350K .......... .......... .......... .......... .......... 15%  127M 1s\n",
      "   400K .......... .......... .......... .......... .......... 17% 1.61M 1s\n",
      "   450K .......... .......... .......... .......... .......... 19% 98.1M 1s\n",
      "   500K .......... .......... .......... .......... .......... 21%  123M 1s\n",
      "   550K .......... .......... .......... .......... .......... 23%  114M 1s\n",
      "   600K .......... .......... .......... .......... .......... 25%  120M 0s\n",
      "   650K .......... .......... .......... .......... .......... 27%  137M 0s\n",
      "   700K .......... .......... .......... .......... .......... 29%  114M 0s\n",
      "   750K .......... .......... .......... .......... .......... 31%  138M 0s\n",
      "   800K .......... .......... .......... .......... .......... 33%  131M 0s\n",
      "   850K .......... .......... .......... .......... .......... 35% 1.76M 0s\n",
      "   900K .......... .......... .......... .......... .......... 37%  107M 0s\n",
      "   950K .......... .......... .......... .......... .......... 39% 88.4M 0s\n",
      "  1000K .......... .......... .......... .......... .......... 41% 82.7M 0s\n",
      "  1050K .......... .......... .......... .......... .......... 42% 24.4M 0s\n",
      "  1100K .......... .......... .......... .......... .......... 44%  106M 0s\n",
      "  1150K .......... .......... .......... .......... .......... 46%  116M 0s\n",
      "  1200K .......... .......... .......... .......... .......... 48% 90.4M 0s\n",
      "  1250K .......... .......... .......... .......... .......... 50%  114M 0s\n",
      "  1300K .......... .......... .......... .......... .......... 52%  139M 0s\n",
      "  1350K .......... .......... .......... .......... .......... 54%  124M 0s\n",
      "  1400K .......... .......... .......... .......... .......... 56%  131M 0s\n",
      "  1450K .......... .......... .......... .......... .......... 58%  132M 0s\n",
      "  1500K .......... .......... .......... .......... .......... 60%  139M 0s\n",
      "  1550K .......... .......... .......... .......... .......... 62%  140M 0s\n",
      "  1600K .......... .......... .......... .......... .......... 64%  119M 0s\n",
      "  1650K .......... .......... .......... .......... .......... 66%  135M 0s\n",
      "  1700K .......... .......... .......... ...."
     ]
    },
    {
     "name": "stdout",
     "output_type": "stream",
     "text": [
      "Downloading /u/e/jb2854/Mergers_Project/DF_dir/TNG_HDF5_dir/87-13297-sdss_g-0,2.hdf5 from tng-project.org\n"
     ]
    },
    {
     "name": "stderr",
     "output_type": "stream",
     "text": [
      "...... .......... 68% 2.15M 0s\n",
      "  1750K .......... .......... .......... .......... .......... 70%  118M 0s\n",
      "  1800K .......... .......... .......... .......... .......... 72%  116M 0s\n",
      "  1850K .......... .......... .......... .......... .......... 74% 94.2M 0s\n",
      "  1900K .......... .......... .......... .......... .......... 76%  114M 0s\n",
      "  1950K .......... .......... .......... .......... .......... 78%  129M 0s\n",
      "  2000K .......... .......... .......... .......... .......... 80%  132M 0s\n",
      "  2050K .......... .......... .......... .......... .......... 82%  142M 0s\n",
      "  2100K .......... .......... .......... .......... .......... 83% 67.7M 0s\n",
      "  2150K .......... .......... .......... .......... .......... 85%  111M 0s\n",
      "  2200K .......... .......... .......... .......... .......... 87% 96.2M 0s\n",
      "  2250K .......... .......... .......... .......... .......... 89%  124M 0s\n",
      "  2300K .......... .......... .......... .......... .......... 91%  134M 0s\n",
      "  2350K .......... .......... .......... .......... .......... 93%  128M 0s\n",
      "  2400K .......... .......... .......... .......... .......... 95%  135M 0s\n",
      "  2450K .......... .......... .......... .......... .......... 97%  134M 0s\n",
      "  2500K .......... .......... .......... .......... .......... 99%  139M 0s\n",
      "  2550K ..........                                            100%  142M=0.2s\n",
      "\n",
      "2022-10-20 11:07:24 (11.1 MB/s) - ‘/u/e/jb2854/Mergers_Project/DF_dir/TNG_HDF5_dir/87-13297-sdss_u-0,2.hdf5’ saved [2621440/2621440]\n",
      "\n",
      "--2022-10-20 11:07:24--  https://www.tng-project.org/api/TNG100-1/snapshots/87/subhalos/13297/vis.hdf5?partType=stars&partField=stellarBandObsFrame-sdss_g&size=4&sizeType=rHalfMassStars&method=sphMap&nPixels=800,800&axes=0,1&rasterPx=1100&plotStyle=edged&labelZ=False&labelSim=False&labelHalo=False&title=False&colorbars=False&scalebar=False&\n",
      "Resolving wwwproxy.bath.ac.uk (wwwproxy.bath.ac.uk)... 138.38.44.101\n",
      "Connecting to wwwproxy.bath.ac.uk (wwwproxy.bath.ac.uk)|138.38.44.101|:3128... connected.\n",
      "Proxy request sent, awaiting response... "
     ]
    },
    {
     "name": "stdout",
     "output_type": "stream",
     "text": [
      "wget --retry-connrefused -O /u/e/jb2854/Mergers_Project/DF_dir/TNG_HDF5_dir/87-13297-sdss_g-0,2.hdf5 --header=\"API-Key: 5f3541d5334553d9d2b98de938189866\" \"https://www.tng-project.org/api/TNG100-1/snapshots/87/subhalos/13297/vis.hdf5?partType=stars&partField=stellarBandObsFrame-sdss_g&size=4&sizeType=rHalfMassStars&method=sphMap&nPixels=800,800&axes=0,1&rasterPx=1100&plotStyle=edged&labelZ=False&labelSim=False&labelHalo=False&title=False&colorbars=False&scalebar=False&\"\n"
     ]
    },
    {
     "name": "stderr",
     "output_type": "stream",
     "text": [
      "302 Found\n",
      "Location: https://data-eu.tng-project.org/vis/subhalo/TNG100-1/87/13297/hdf5/?partType=stars&partField=stellarBandObsFrame-sdss_g&size=4&sizeType=rHalfMassStars&method=sphMap&nPixels=800%2C800&axes=0%2C1&rasterPx=1100&plotStyle=edged&labelZ=False&labelSim=False&labelHalo=False&title=False&colorbars=False&scalebar=False&token=e6da88997d1032adaf15 [following]\n",
      "--2022-10-20 11:07:24--  https://data-eu.tng-project.org/vis/subhalo/TNG100-1/87/13297/hdf5/?partType=stars&partField=stellarBandObsFrame-sdss_g&size=4&sizeType=rHalfMassStars&method=sphMap&nPixels=800%2C800&axes=0%2C1&rasterPx=1100&plotStyle=edged&labelZ=False&labelSim=False&labelHalo=False&title=False&colorbars=False&scalebar=False&token=e6da88997d1032adaf15\n",
      "Connecting to wwwproxy.bath.ac.uk (wwwproxy.bath.ac.uk)|138.38.44.101|:3128... connected.\n",
      "Proxy request sent, awaiting response... 200 OK\n",
      "Length: 2621440 (2.5M) [application/octet-stream]\n",
      "Saving to: ‘/u/e/jb2854/Mergers_Project/DF_dir/TNG_HDF5_dir/87-13297-sdss_g-0,2.hdf5’\n",
      "\n",
      "     0K .......... .......... .......... .......... ..........  1%  786K 3s\n",
      "    50K .......... .......... .......... .......... ..........  3% 1.56M 2s\n",
      "   100K .......... .......... .......... .......... ..........  5% 98.6M 2s\n",
      "   150K .......... .......... .......... .......... ..........  7%  119M 1s\n",
      "   200K .......... .......... .......... .......... ..........  9% 1.56M 1s\n",
      "   250K .......... .......... .......... .......... .......... 11%  120M 1s\n",
      "   300K .......... .......... .......... .......... .......... 13%  124M 1s\n",
      "   350K .......... .......... .......... .......... .......... 15%  135M 1s\n",
      "   400K .......... .......... .......... .......... .......... 17% 1.60M 1s\n",
      "   450K .......... .......... .......... .......... .......... 19% 88.0M 1s\n",
      "   500K .......... .......... .......... .......... .......... 21%  132M 1s\n",
      "   550K .......... .......... .......... .......... .......... 23%  123M 1s\n",
      "   600K .......... .......... .......... .......... .......... 25%  118M 0s\n",
      "   650K .......... .......... .......... .......... .......... 27%  123M 0s\n",
      "   700K .......... .......... .......... .......... .......... 29%  132M 0s\n",
      "   750K .......... .......... .......... .......... .......... 31%  129M 0s\n",
      "   800K .......... .......... .......... .......... .......... 33%  107M 0s\n",
      "   850K .......... .......... .......... .......... .......... 35% 1.70M 0s\n",
      "   900K .......... .......... .......... .......... .......... 37% 87.6M 0s\n",
      "   950K .......... .......... .......... .......... .......... 39% 85.5M 0s\n",
      "  1000K .......... .......... .......... .......... .......... 41%  108M 0s\n",
      "  1050K .......... .......... .......... .......... .......... 42%  106M 0s\n",
      "  1100K .......... .......... .......... .......... .......... 44%  122M 0s\n",
      "  1150K .......... .......... .......... .......... .......... 46%  111M 0s\n",
      "  1200K .......... .......... .......... .......... .......... 48%  124M 0s\n",
      "  1250K .......... .......... .......... .......... .......... 50%  137M 0s\n",
      "  1300K .......... .......... .......... .......... .......... 52%  126M 0s\n",
      "  1350K .......... .......... .......... .......... .......... 54%  139M 0s\n",
      "  1400K .......... .......... .......... .......... .......... 56%  115M 0s\n",
      "  1450K .......... .......... .......... .......... .......... 58%  137M 0s\n",
      "  1500K .......... .......... .......... .......... .......... 60%  138M 0s\n",
      "  1550K .......... .......... .......... .......... .......... 62%  122M 0s\n",
      "  1600K .......... .......... .......... .......... .......... 64%  126M 0s\n",
      "  1650K .......... .......... .......... .......... .......... 66%  125M 0s\n",
      "  1700K .......... .......... .......... ......"
     ]
    },
    {
     "name": "stdout",
     "output_type": "stream",
     "text": [
      "Downloading /u/e/jb2854/Mergers_Project/DF_dir/TNG_HDF5_dir/87-13297-sdss_r-0,2.hdf5 from tng-project.org\n"
     ]
    },
    {
     "name": "stderr",
     "output_type": "stream",
     "text": [
      ".... .......... 68% 1.99M 0s\n",
      "  1750K .......... .......... .......... .......... .......... 70%  116M 0s\n",
      "  1800K .......... .......... .......... .......... .......... 72% 75.3M 0s\n",
      "  1850K .......... .......... .......... .......... .......... 74% 85.5M 0s\n",
      "  1900K .......... .......... .......... .......... .......... 76%  125M 0s\n",
      "  1950K .......... .......... .......... .......... .......... 78%  137M 0s\n",
      "  2000K .......... .......... .......... .......... .......... 80%  127M 0s\n",
      "  2050K .......... .......... .......... .......... .......... 82%  127M 0s\n",
      "  2100K .......... .......... .......... .......... .......... 83%  127M 0s\n",
      "  2150K .......... .......... .......... .......... .......... 85%  114M 0s\n",
      "  2200K .......... .......... .......... .......... .......... 87%  130M 0s\n",
      "  2250K .......... .......... .......... .......... .......... 89%  137M 0s\n",
      "  2300K .......... .......... .......... .......... .......... 91%  125M 0s\n",
      "  2350K .......... .......... .......... .......... .......... 93%  133M 0s\n",
      "  2400K .......... .......... .......... .......... .......... 95%  102M 0s\n",
      "  2450K .......... .......... .......... .......... .......... 97%  109M 0s\n",
      "  2500K .......... .......... .......... .......... .......... 99%  135M 0s\n",
      "  2550K ..........                                            100% 89.3M=0.2s\n",
      "\n",
      "2022-10-20 11:07:24 (10.9 MB/s) - ‘/u/e/jb2854/Mergers_Project/DF_dir/TNG_HDF5_dir/87-13297-sdss_g-0,2.hdf5’ saved [2621440/2621440]\n",
      "\n",
      "--2022-10-20 11:07:24--  https://www.tng-project.org/api/TNG100-1/snapshots/87/subhalos/13297/vis.hdf5?partType=stars&partField=stellarBandObsFrame-sdss_r&size=4&sizeType=rHalfMassStars&method=sphMap&nPixels=800,800&axes=0,1&rasterPx=1100&plotStyle=edged&labelZ=False&labelSim=False&labelHalo=False&title=False&colorbars=False&scalebar=False&\n",
      "Resolving wwwproxy.bath.ac.uk (wwwproxy.bath.ac.uk)... 138.38.44.101\n",
      "Connecting to wwwproxy.bath.ac.uk (wwwproxy.bath.ac.uk)|138.38.44.101|:3128... connected.\n",
      "Proxy request sent, awaiting response... "
     ]
    },
    {
     "name": "stdout",
     "output_type": "stream",
     "text": [
      "wget --retry-connrefused -O /u/e/jb2854/Mergers_Project/DF_dir/TNG_HDF5_dir/87-13297-sdss_r-0,2.hdf5 --header=\"API-Key: 5f3541d5334553d9d2b98de938189866\" \"https://www.tng-project.org/api/TNG100-1/snapshots/87/subhalos/13297/vis.hdf5?partType=stars&partField=stellarBandObsFrame-sdss_r&size=4&sizeType=rHalfMassStars&method=sphMap&nPixels=800,800&axes=0,1&rasterPx=1100&plotStyle=edged&labelZ=False&labelSim=False&labelHalo=False&title=False&colorbars=False&scalebar=False&\"\n"
     ]
    },
    {
     "name": "stderr",
     "output_type": "stream",
     "text": [
      "302 Found\n",
      "Location: https://data-eu.tng-project.org/vis/subhalo/TNG100-1/87/13297/hdf5/?partType=stars&partField=stellarBandObsFrame-sdss_r&size=4&sizeType=rHalfMassStars&method=sphMap&nPixels=800%2C800&axes=0%2C1&rasterPx=1100&plotStyle=edged&labelZ=False&labelSim=False&labelHalo=False&title=False&colorbars=False&scalebar=False&token=5d4d9584b3b8d94f917e [following]\n",
      "--2022-10-20 11:07:25--  https://data-eu.tng-project.org/vis/subhalo/TNG100-1/87/13297/hdf5/?partType=stars&partField=stellarBandObsFrame-sdss_r&size=4&sizeType=rHalfMassStars&method=sphMap&nPixels=800%2C800&axes=0%2C1&rasterPx=1100&plotStyle=edged&labelZ=False&labelSim=False&labelHalo=False&title=False&colorbars=False&scalebar=False&token=5d4d9584b3b8d94f917e\n",
      "Connecting to wwwproxy.bath.ac.uk (wwwproxy.bath.ac.uk)|138.38.44.101|:3128... connected.\n",
      "Proxy request sent, awaiting response... 200 OK\n",
      "Length: 2621440 (2.5M) [application/octet-stream]\n",
      "Saving to: ‘/u/e/jb2854/Mergers_Project/DF_dir/TNG_HDF5_dir/87-13297-sdss_r-0,2.hdf5’\n",
      "\n",
      "     0K .......... .......... .......... .......... ..........  1%  787K 3s\n",
      "    50K .......... .......... .......... .......... ..........  3% 1.56M 2s\n",
      "   100K .......... .......... .......... .......... ..........  5%  127M 2s\n",
      "   150K .......... .......... .......... .......... ..........  7% 63.7M 1s\n",
      "   200K .......... .......... .......... .......... ..........  9% 1.58M 1s\n",
      "   250K .......... .......... .......... .......... .......... 11%  129M 1s\n",
      "   300K .......... .......... .......... .......... .......... 13%  126M 1s\n",
      "   350K .......... .......... .......... .......... .......... 15%  142M 1s\n",
      "   400K .......... .......... .......... .......... .......... 17% 1.59M 1s\n",
      "   450K .......... .......... .......... .......... .......... 19%  133M 1s\n",
      "   500K .......... .......... .......... .......... .......... 21%  110M 1s\n",
      "   550K .......... .......... .......... .......... .......... 23%  113M 1s\n",
      "   600K .......... .......... .......... .......... .......... 25%  132M 0s\n",
      "   650K .......... .......... .......... .......... .......... 27%  134M 0s\n",
      "   700K .......... .......... .......... .......... .......... 29%  131M 0s\n",
      "   750K .......... .......... .......... .......... .......... 31%  139M 0s\n",
      "   800K .......... .......... .......... .......... .......... 33% 1.72M 0s\n",
      "   850K .......... .......... .......... .......... .......... 35%  131M 0s\n",
      "   900K .......... .......... .......... .......... .......... 37%  144M 0s\n",
      "   950K .......... .......... .......... .......... .......... 39%  128M 0s\n",
      "  1000K .......... .......... .......... .......... .......... 41%  133M 0s\n",
      "  1050K .......... .......... .......... .......... .......... 42%  129M 0s\n",
      "  1100K .......... .......... .......... .......... .......... 44%  121M 0s\n",
      "  1150K .......... .......... .......... .......... .......... 46%  131M 0s\n",
      "  1200K .......... .......... .......... .......... .......... 48%  121M 0s\n",
      "  1250K .......... .......... .......... .......... .......... 50%  141M 0s\n",
      "  1300K .......... .......... .......... .......... .......... 52%  130M 0s\n",
      "  1350K .......... .......... .......... .......... .......... 54%  142M 0s\n",
      "  1400K .......... .......... .......... .......... .......... 56%  129M 0s\n",
      "  1450K .......... .......... .......... .......... .......... 58%  131M 0s\n",
      "  1500K .......... .......... .......... .......... .......... 60%  140M 0s\n",
      "  1550K .......... .......... .......... .......... .......... 62%  127M 0s\n",
      "  1600K .......... .......... .......... .......... .......... 64%  135M 0s\n",
      "  1650K .......... .......... .........."
     ]
    },
    {
     "name": "stdout",
     "output_type": "stream",
     "text": [
      "Downloading /u/e/jb2854/Mergers_Project/DF_dir/TNG_HDF5_dir/87-13297-sdss_i-0,2.hdf5 from tng-project.org\n"
     ]
    },
    {
     "name": "stderr",
     "output_type": "stream",
     "text": [
      " .......... .......... 66% 1.88M 0s\n",
      "  1700K .......... .......... .......... .......... .......... 68%  127M 0s\n",
      "  1750K .......... .......... .......... .......... .......... 70%  137M 0s\n",
      "  1800K .......... .......... .......... .......... .......... 72%  109M 0s\n",
      "  1850K .......... .......... .......... .......... .......... 74%  130M 0s\n",
      "  1900K .......... .......... .......... .......... .......... 76%  134M 0s\n",
      "  1950K .......... .......... .......... .......... .......... 78%  130M 0s\n",
      "  2000K .......... .......... .......... .......... .......... 80%  133M 0s\n",
      "  2050K .......... .......... .......... .......... .......... 82%  132M 0s\n",
      "  2100K .......... .......... .......... .......... .......... 83%  140M 0s\n",
      "  2150K .......... .......... .......... .......... .......... 85%  143M 0s\n",
      "  2200K .......... .......... .......... .......... .......... 87%  120M 0s\n",
      "  2250K .......... .......... .......... .......... .......... 89%  142M 0s\n",
      "  2300K .......... .......... .......... .......... .......... 91%  129M 0s\n",
      "  2350K .......... .......... .......... .......... .......... 93%  144M 0s\n",
      "  2400K .......... .......... .......... .......... .......... 95%  132M 0s\n",
      "  2450K .......... .......... .......... .......... .......... 97%  132M 0s\n",
      "  2500K .......... .......... .......... .......... .......... 99%  143M 0s\n",
      "  2550K ..........                                            100%  143M=0.2s\n",
      "\n",
      "2022-10-20 11:07:25 (11.0 MB/s) - ‘/u/e/jb2854/Mergers_Project/DF_dir/TNG_HDF5_dir/87-13297-sdss_r-0,2.hdf5’ saved [2621440/2621440]\n",
      "\n",
      "--2022-10-20 11:07:25--  https://www.tng-project.org/api/TNG100-1/snapshots/87/subhalos/13297/vis.hdf5?partType=stars&partField=stellarBandObsFrame-sdss_i&size=4&sizeType=rHalfMassStars&method=sphMap&nPixels=800,800&axes=0,1&rasterPx=1100&plotStyle=edged&labelZ=False&labelSim=False&labelHalo=False&title=False&colorbars=False&scalebar=False&\n",
      "Resolving wwwproxy.bath.ac.uk (wwwproxy.bath.ac.uk)... 138.38.44.101\n",
      "Connecting to wwwproxy.bath.ac.uk (wwwproxy.bath.ac.uk)|138.38.44.101|:3128... connected.\n",
      "Proxy request sent, awaiting response... "
     ]
    },
    {
     "name": "stdout",
     "output_type": "stream",
     "text": [
      "wget --retry-connrefused -O /u/e/jb2854/Mergers_Project/DF_dir/TNG_HDF5_dir/87-13297-sdss_i-0,2.hdf5 --header=\"API-Key: 5f3541d5334553d9d2b98de938189866\" \"https://www.tng-project.org/api/TNG100-1/snapshots/87/subhalos/13297/vis.hdf5?partType=stars&partField=stellarBandObsFrame-sdss_i&size=4&sizeType=rHalfMassStars&method=sphMap&nPixels=800,800&axes=0,1&rasterPx=1100&plotStyle=edged&labelZ=False&labelSim=False&labelHalo=False&title=False&colorbars=False&scalebar=False&\"\n"
     ]
    },
    {
     "name": "stderr",
     "output_type": "stream",
     "text": [
      "302 Found\n",
      "Location: https://data-eu.tng-project.org/vis/subhalo/TNG100-1/87/13297/hdf5/?partType=stars&partField=stellarBandObsFrame-sdss_i&size=4&sizeType=rHalfMassStars&method=sphMap&nPixels=800%2C800&axes=0%2C1&rasterPx=1100&plotStyle=edged&labelZ=False&labelSim=False&labelHalo=False&title=False&colorbars=False&scalebar=False&token=76187dadc669568a4d4f [following]\n",
      "--2022-10-20 11:07:25--  https://data-eu.tng-project.org/vis/subhalo/TNG100-1/87/13297/hdf5/?partType=stars&partField=stellarBandObsFrame-sdss_i&size=4&sizeType=rHalfMassStars&method=sphMap&nPixels=800%2C800&axes=0%2C1&rasterPx=1100&plotStyle=edged&labelZ=False&labelSim=False&labelHalo=False&title=False&colorbars=False&scalebar=False&token=76187dadc669568a4d4f\n",
      "Connecting to wwwproxy.bath.ac.uk (wwwproxy.bath.ac.uk)|138.38.44.101|:3128... connected.\n",
      "Proxy request sent, awaiting response... 200 OK\n",
      "Length: 2621440 (2.5M) [application/octet-stream]\n",
      "Saving to: ‘/u/e/jb2854/Mergers_Project/DF_dir/TNG_HDF5_dir/87-13297-sdss_i-0,2.hdf5’\n",
      "\n",
      "     0K .......... .......... .......... .......... ..........  1%  789K 3s\n",
      "    50K .......... .......... .......... .......... ..........  3% 1.55M 2s\n",
      "   100K .......... .......... .......... .......... ..........  5%  120M 2s\n",
      "   150K .......... .......... .......... .......... ..........  7% 66.9M 1s\n",
      "   200K .......... .......... .......... .......... ..........  9% 1.59M 1s\n",
      "   250K .......... .......... .......... .......... .......... 11%  124M 1s\n",
      "   300K .......... .......... .......... .......... .......... 13%  134M 1s\n",
      "   350K .......... .......... .......... .......... .......... 15%  124M 1s\n",
      "   400K .......... .......... .......... .......... .......... 17% 1.61M 1s\n",
      "   450K .......... .......... .......... .......... .......... 19%  107M 1s\n",
      "   500K .......... .......... .......... .......... .......... 21%  134M 1s\n",
      "   550K .......... .......... .......... .......... .......... 23%  132M 1s\n",
      "   600K .......... .......... .......... .......... .......... 25%  124M 0s\n",
      "   650K .......... .......... .......... .......... .......... 27%  127M 0s\n",
      "   700K .......... .......... .......... .......... .......... 29%  126M 0s\n",
      "   750K .......... .......... .......... .......... .......... 31%  136M 0s\n",
      "   800K .......... .......... .......... .......... .......... 33%  138M 0s\n",
      "   850K .......... .......... .......... .......... .......... 35% 1.69M 0s\n",
      "   900K .......... .......... .......... .......... .......... 37%  135M 0s\n",
      "   950K .......... .......... .......... .......... .......... 39%  125M 0s\n",
      "  1000K .......... .......... .......... .......... .......... 41%  116M 0s\n",
      "  1050K .......... .......... .......... .......... .......... 42%  114M 0s\n",
      "  1100K .......... .......... .......... .......... .......... 44%  134M 0s\n",
      "  1150K .......... .......... .......... .......... .......... 46%  142M 0s\n",
      "  1200K .......... .......... .......... .......... .......... 48%  126M 0s\n",
      "  1250K .......... .......... .......... .......... .......... 50%  126M 0s\n",
      "  1300K .......... .......... .......... .......... .......... 52%  136M 0s\n",
      "  1350K .......... .......... .......... .......... .......... 54%  126M 0s\n",
      "  1400K .......... .......... .......... .......... .......... 56%  139M 0s\n",
      "  1450K .......... .......... .......... .......... .......... 58%  116M 0s\n",
      "  1500K .......... .......... .......... .......... .......... 60%  140M 0s\n",
      "  1550K .......... .......... .......... .......... .......... 62%  138M 0s\n",
      "  1600K .......... .......... .......... .......... .......... 64%  130M 0s\n",
      "  1650K .......... .......... ........"
     ]
    },
    {
     "name": "stdout",
     "output_type": "stream",
     "text": [
      "Downloading /u/e/jb2854/Mergers_Project/DF_dir/TNG_HDF5_dir/87-13297-sdss_z-0,2.hdf5 from tng-project.org\n"
     ]
    },
    {
     "name": "stderr",
     "output_type": "stream",
     "text": [
      ".. .......... .......... 66% 1.90M 0s\n",
      "  1700K .......... .......... .......... .......... .......... 68%  125M 0s\n",
      "  1750K .......... .......... .......... .......... .......... 70%  136M 0s\n",
      "  1800K .......... .......... .......... .......... .......... 72%  132M 0s\n",
      "  1850K .......... .......... .......... .......... .......... 74%  116M 0s\n",
      "  1900K .......... .......... .......... .......... .......... 76%  131M 0s\n",
      "  1950K .......... .......... .......... .......... .......... 78%  130M 0s\n",
      "  2000K .......... .......... .......... .......... .......... 80%  126M 0s\n",
      "  2050K .......... .......... .......... .......... .......... 82%  124M 0s\n",
      "  2100K .......... .......... .......... .......... .......... 83%  133M 0s\n",
      "  2150K .......... .......... .......... .......... .......... 85%  130M 0s\n",
      "  2200K .......... .......... .......... .......... .......... 87%  125M 0s\n",
      "  2250K .......... .......... .......... .......... .......... 89%  129M 0s\n",
      "  2300K .......... .......... .......... .......... .......... 91%  134M 0s\n",
      "  2350K .......... .......... .......... .......... .......... 93%  126M 0s\n",
      "  2400K .......... .......... .......... .......... .......... 95%  138M 0s\n",
      "  2450K .......... .......... .......... .......... .......... 97%  118M 0s\n",
      "  2500K .......... .......... .......... .......... .......... 99%  140M 0s\n",
      "  2550K ..........                                            100%  135M=0.2s\n",
      "\n",
      "2022-10-20 11:07:26 (11.0 MB/s) - ‘/u/e/jb2854/Mergers_Project/DF_dir/TNG_HDF5_dir/87-13297-sdss_i-0,2.hdf5’ saved [2621440/2621440]\n",
      "\n",
      "--2022-10-20 11:07:26--  https://www.tng-project.org/api/TNG100-1/snapshots/87/subhalos/13297/vis.hdf5?partType=stars&partField=stellarBandObsFrame-sdss_z&size=4&sizeType=rHalfMassStars&method=sphMap&nPixels=800,800&axes=0,1&rasterPx=1100&plotStyle=edged&labelZ=False&labelSim=False&labelHalo=False&title=False&colorbars=False&scalebar=False&\n",
      "Resolving wwwproxy.bath.ac.uk (wwwproxy.bath.ac.uk)... 138.38.44.101\n",
      "Connecting to wwwproxy.bath.ac.uk (wwwproxy.bath.ac.uk)|138.38.44.101|:3128... connected.\n",
      "Proxy request sent, awaiting response... "
     ]
    },
    {
     "name": "stdout",
     "output_type": "stream",
     "text": [
      "wget --retry-connrefused -O /u/e/jb2854/Mergers_Project/DF_dir/TNG_HDF5_dir/87-13297-sdss_z-0,2.hdf5 --header=\"API-Key: 5f3541d5334553d9d2b98de938189866\" \"https://www.tng-project.org/api/TNG100-1/snapshots/87/subhalos/13297/vis.hdf5?partType=stars&partField=stellarBandObsFrame-sdss_z&size=4&sizeType=rHalfMassStars&method=sphMap&nPixels=800,800&axes=0,1&rasterPx=1100&plotStyle=edged&labelZ=False&labelSim=False&labelHalo=False&title=False&colorbars=False&scalebar=False&\"\n"
     ]
    },
    {
     "name": "stderr",
     "output_type": "stream",
     "text": [
      "302 Found\n",
      "Location: https://data-eu.tng-project.org/vis/subhalo/TNG100-1/87/13297/hdf5/?partType=stars&partField=stellarBandObsFrame-sdss_z&size=4&sizeType=rHalfMassStars&method=sphMap&nPixels=800%2C800&axes=0%2C1&rasterPx=1100&plotStyle=edged&labelZ=False&labelSim=False&labelHalo=False&title=False&colorbars=False&scalebar=False&token=fb8c717ce15885af2a86 [following]\n",
      "--2022-10-20 11:07:26--  https://data-eu.tng-project.org/vis/subhalo/TNG100-1/87/13297/hdf5/?partType=stars&partField=stellarBandObsFrame-sdss_z&size=4&sizeType=rHalfMassStars&method=sphMap&nPixels=800%2C800&axes=0%2C1&rasterPx=1100&plotStyle=edged&labelZ=False&labelSim=False&labelHalo=False&title=False&colorbars=False&scalebar=False&token=fb8c717ce15885af2a86\n",
      "Connecting to wwwproxy.bath.ac.uk (wwwproxy.bath.ac.uk)|138.38.44.101|:3128... connected.\n",
      "Proxy request sent, awaiting response... 200 OK\n",
      "Length: 2621440 (2.5M) [application/octet-stream]\n",
      "Saving to: ‘/u/e/jb2854/Mergers_Project/DF_dir/TNG_HDF5_dir/87-13297-sdss_z-0,2.hdf5’\n",
      "\n",
      "     0K .......... .......... .......... .......... ..........  1%  767K 3s\n",
      "    50K .......... .......... .......... .......... ..........  3% 1.73M 2s\n",
      "   100K .......... .......... .......... .......... ..........  5% 13.0M 2s\n",
      "   150K .......... .......... .......... .......... ..........  7%  124M 1s\n",
      "   200K .......... .......... .......... .......... ..........  9% 1.57M 1s\n",
      "   250K .......... .......... .......... .......... .......... 11%  106M 1s\n",
      "   300K .......... .......... .......... .......... .......... 13%  112M 1s\n",
      "   350K .......... .......... .......... .......... .......... 15%  127M 1s\n",
      "   400K .......... .......... .......... .......... .......... 17% 1.68M 1s\n",
      "   450K .......... .......... .......... .......... .......... 19% 67.7M 1s\n",
      "   500K .......... .......... .......... .......... .......... 21%  113M 1s\n",
      "   550K .......... .......... .......... .......... .......... 23% 84.7M 1s\n",
      "   600K .......... .......... .......... .......... .......... 25%  118M 0s\n",
      "   650K .......... .......... .......... .......... .......... 27%  113M 0s\n",
      "   700K .......... .......... .......... .......... .......... 29%  138M 0s\n",
      "   750K .......... .......... .......... .......... .......... 31%  122M 0s\n",
      "   800K .......... .......... .......... .......... .......... 33%  125M 0s\n",
      "   850K .......... .......... .......... .......... .......... 35% 1.75M 0s\n",
      "   900K .......... .......... .......... .......... .......... 37%  102M 0s\n",
      "   950K .......... .......... .......... .......... .......... 39%  103M 0s\n",
      "  1000K .......... .......... .......... .......... .......... 41%  104M 0s\n",
      "  1050K .......... .......... .......... .......... .......... 42%  113M 0s\n",
      "  1100K .......... .......... .......... .......... .......... 44% 90.9M 0s\n",
      "  1150K .......... .......... .......... .......... .......... 46%  117M 0s\n",
      "  1200K .......... .......... .......... .......... .......... 48%  139M 0s\n",
      "  1250K .......... .......... .......... .......... .......... 50%  111M 0s\n",
      "  1300K .......... .......... .......... .......... .......... 52%  129M 0s\n",
      "  1350K .......... .......... .......... .......... .......... 54%  127M 0s\n",
      "  1400K .......... .......... .......... .......... .......... 56%  140M 0s\n",
      "  1450K .......... .......... .......... .......... .......... 58%  138M 0s\n",
      "  1500K .......... .......... .......... .......... .......... 60%  119M 0s\n",
      "  1550K .......... .......... .......... .......... .......... 62%  133M 0s\n",
      "  1600K .......... .......... .......... .......... .......... 64%  125M 0s\n",
      "  1650K .......... .......... .......... .......... .......... 66%  130M 0s\n",
      "  1700K .......... .......... ........"
     ]
    },
    {
     "name": "stdout",
     "output_type": "stream",
     "text": [
      "Downloading /u/e/jb2854/Mergers_Project/DF_dir/TNG_HDF5_dir/87-13297-sdss_u-1,2.hdf5 from tng-project.org\n"
     ]
    },
    {
     "name": "stderr",
     "output_type": "stream",
     "text": [
      ".. .......... .......... 68% 2.00M 0s\n",
      "  1750K .......... .......... .......... .......... .......... 70% 99.0M 0s\n",
      "  1800K .......... .......... .......... .......... .......... 72%  122M 0s\n",
      "  1850K .......... .......... .......... .......... .......... 74% 82.6M 0s\n",
      "  1900K .......... .......... .......... .......... .......... 76% 91.9M 0s\n",
      "  1950K .......... .......... .......... .......... .......... 78%  139M 0s\n",
      "  2000K .......... .......... .......... .......... .......... 80%  128M 0s\n",
      "  2050K .......... .......... .......... .......... .......... 82%  141M 0s\n",
      "  2100K .......... .......... .......... .......... .......... 83%  121M 0s\n",
      "  2150K .......... .......... .......... .......... .......... 85%  117M 0s\n",
      "  2200K .......... .......... .......... .......... .......... 87%  143M 0s\n",
      "  2250K .......... .......... .......... .......... .......... 89%  126M 0s\n",
      "  2300K .......... .......... .......... .......... .......... 91%  131M 0s\n",
      "  2350K .......... .......... .......... .......... .......... 93%  128M 0s\n",
      "  2400K .......... .......... .......... .......... .......... 95%  137M 0s\n",
      "  2450K .......... .......... .......... .......... .......... 97%  138M 0s\n",
      "  2500K .......... .......... .......... .......... .......... 99%  118M 0s\n",
      "  2550K ..........                                            100%  155M=0.2s\n",
      "\n",
      "2022-10-20 11:07:26 (11.0 MB/s) - ‘/u/e/jb2854/Mergers_Project/DF_dir/TNG_HDF5_dir/87-13297-sdss_z-0,2.hdf5’ saved [2621440/2621440]\n",
      "\n",
      "--2022-10-20 11:07:26--  https://www.tng-project.org/api/TNG100-1/snapshots/87/subhalos/13297/vis.hdf5?partType=stars&partField=stellarBandObsFrame-sdss_u&size=4&sizeType=rHalfMassStars&method=sphMap&nPixels=800,800&axes=0,1&rasterPx=1100&plotStyle=edged&labelZ=False&labelSim=False&labelHalo=False&title=False&colorbars=False&scalebar=False&\n",
      "Resolving wwwproxy.bath.ac.uk (wwwproxy.bath.ac.uk)... 138.38.44.101\n",
      "Connecting to wwwproxy.bath.ac.uk (wwwproxy.bath.ac.uk)|138.38.44.101|:3128... connected.\n",
      "Proxy request sent, awaiting response... "
     ]
    },
    {
     "name": "stdout",
     "output_type": "stream",
     "text": [
      "wget --retry-connrefused -O /u/e/jb2854/Mergers_Project/DF_dir/TNG_HDF5_dir/87-13297-sdss_u-1,2.hdf5 --header=\"API-Key: 5f3541d5334553d9d2b98de938189866\" \"https://www.tng-project.org/api/TNG100-1/snapshots/87/subhalos/13297/vis.hdf5?partType=stars&partField=stellarBandObsFrame-sdss_u&size=4&sizeType=rHalfMassStars&method=sphMap&nPixels=800,800&axes=0,1&rasterPx=1100&plotStyle=edged&labelZ=False&labelSim=False&labelHalo=False&title=False&colorbars=False&scalebar=False&\"\n"
     ]
    },
    {
     "name": "stderr",
     "output_type": "stream",
     "text": [
      "302 Found\n",
      "Location: https://data-eu.tng-project.org/vis/subhalo/TNG100-1/87/13297/hdf5/?partType=stars&partField=stellarBandObsFrame-sdss_u&size=4&sizeType=rHalfMassStars&method=sphMap&nPixels=800%2C800&axes=0%2C1&rasterPx=1100&plotStyle=edged&labelZ=False&labelSim=False&labelHalo=False&title=False&colorbars=False&scalebar=False&token=1697e0aeef6a2579481e [following]\n",
      "--2022-10-20 11:07:27--  https://data-eu.tng-project.org/vis/subhalo/TNG100-1/87/13297/hdf5/?partType=stars&partField=stellarBandObsFrame-sdss_u&size=4&sizeType=rHalfMassStars&method=sphMap&nPixels=800%2C800&axes=0%2C1&rasterPx=1100&plotStyle=edged&labelZ=False&labelSim=False&labelHalo=False&title=False&colorbars=False&scalebar=False&token=1697e0aeef6a2579481e\n",
      "Connecting to wwwproxy.bath.ac.uk (wwwproxy.bath.ac.uk)|138.38.44.101|:3128... connected.\n",
      "Proxy request sent, awaiting response... 200 OK\n",
      "Length: 2621440 (2.5M) [application/octet-stream]\n",
      "Saving to: ‘/u/e/jb2854/Mergers_Project/DF_dir/TNG_HDF5_dir/87-13297-sdss_u-1,2.hdf5’\n",
      "\n",
      "     0K .......... .......... .......... .......... ..........  1%  797K 3s\n",
      "    50K .......... .......... .......... .......... ..........  3% 1.55M 2s\n",
      "   100K .......... .......... .......... .......... ..........  5%  111M 2s\n",
      "   150K .......... .......... .......... .......... ..........  7%  135M 1s\n",
      "   200K .......... .......... .......... .......... ..........  9% 1.60M 1s\n",
      "   250K .......... .......... .......... .......... .......... 11%  123M 1s\n",
      "   300K .......... .......... .......... .......... .......... 13%  113M 1s\n",
      "   350K .......... .......... .......... .......... .......... 15%  143M 1s\n",
      "   400K .......... .......... .......... .......... .......... 17% 1.60M 1s\n",
      "   450K .......... .......... .......... .......... .......... 19% 88.6M 1s\n",
      "   500K .......... .......... .......... .......... .......... 21%  104M 1s\n",
      "   550K .......... .......... .......... .......... .......... 23%  122M 1s\n",
      "   600K .......... .......... .......... .......... .......... 25%  134M 0s\n",
      "   650K .......... .......... .......... .......... .......... 27%  143M 0s\n",
      "   700K .......... .......... .......... .......... .......... 29%  131M 0s\n",
      "   750K .......... .......... .......... .......... .......... 31%  142M 0s\n",
      "   800K .......... .......... .......... .......... .......... 33%  119M 0s\n",
      "   850K .......... .......... .......... .......... .......... 35% 1.72M 0s\n",
      "   900K .......... .......... .......... .......... .......... 37%  103M 0s\n",
      "   950K .......... .......... .......... .......... .......... 39% 95.8M 0s\n",
      "  1000K .......... .......... .......... .......... .......... 41% 83.3M 0s\n",
      "  1050K .......... .......... .......... .......... .......... 42%  130M 0s\n",
      "  1100K .......... .......... .......... .......... .......... 44%  140M 0s\n",
      "  1150K .......... .......... .......... .......... .......... 46%  141M 0s\n",
      "  1200K .......... .......... .......... .......... .......... 48%  122M 0s\n",
      "  1250K .......... .......... .......... .......... .......... 50%  139M 0s\n",
      "  1300K .......... .......... .......... .......... .......... 52%  128M 0s\n",
      "  1350K .......... .......... .......... .......... .......... 54%  143M 0s\n",
      "  1400K .......... .......... .......... .......... .......... 56%  133M 0s\n",
      "  1450K .......... .......... .......... .......... .......... 58%  131M 0s\n",
      "  1500K .......... .......... .......... .......... .......... 60%  139M 0s\n",
      "  1550K .......... .......... .......... .......... .......... 62%  127M 0s\n",
      "  1600K .......... .......... .......... .......... .......... 64%  132M 0s\n",
      "  1650K .......... .......... .......... .......... .......... 66%  139M 0s\n",
      "  1700K ........"
     ]
    },
    {
     "name": "stdout",
     "output_type": "stream",
     "text": [
      "Downloading /u/e/jb2854/Mergers_Project/DF_dir/TNG_HDF5_dir/87-13297-sdss_g-1,2.hdf5 from tng-project.org\n"
     ]
    },
    {
     "name": "stderr",
     "output_type": "stream",
     "text": [
      ".. .......... .......... .......... .......... 68% 1.97M 0s\n",
      "  1750K .......... .......... .......... .......... .......... 70%  100M 0s\n",
      "  1800K .......... .......... .......... .......... .......... 72% 71.3M 0s\n",
      "  1850K .......... .......... .......... .......... .......... 74%  138M 0s\n",
      "  1900K .......... .......... .......... .......... .......... 76%  139M 0s\n",
      "  1950K .......... .......... .......... .......... .......... 78%  128M 0s\n",
      "  2000K .......... .......... .......... .......... .......... 80%  133M 0s\n",
      "  2050K .......... .......... .......... .......... .......... 82%  130M 0s\n",
      "  2100K .......... .......... .......... .......... .......... 83%  140M 0s\n",
      "  2150K .......... .......... .......... .......... .......... 85%  142M 0s\n",
      "  2200K .......... .......... .......... .......... .......... 87%  122M 0s\n",
      "  2250K .......... .......... .......... .......... .......... 89%  140M 0s\n",
      "  2300K .......... .......... .......... .......... .......... 91%  127M 0s\n",
      "  2350K .......... .......... .......... .......... .......... 93%  142M 0s\n",
      "  2400K .......... .......... .......... .......... .......... 95%  129M 0s\n",
      "  2450K .......... .......... .......... .......... .......... 97%  131M 0s\n",
      "  2500K .......... .......... .......... .......... .......... 99%  139M 0s\n",
      "  2550K ..........                                            100%  142M=0.2s\n",
      "\n",
      "2022-10-20 11:07:27 (11.0 MB/s) - ‘/u/e/jb2854/Mergers_Project/DF_dir/TNG_HDF5_dir/87-13297-sdss_u-1,2.hdf5’ saved [2621440/2621440]\n",
      "\n",
      "--2022-10-20 11:07:27--  https://www.tng-project.org/api/TNG100-1/snapshots/87/subhalos/13297/vis.hdf5?partType=stars&partField=stellarBandObsFrame-sdss_g&size=4&sizeType=rHalfMassStars&method=sphMap&nPixels=800,800&axes=0,1&rasterPx=1100&plotStyle=edged&labelZ=False&labelSim=False&labelHalo=False&title=False&colorbars=False&scalebar=False&\n",
      "Resolving wwwproxy.bath.ac.uk (wwwproxy.bath.ac.uk)... 138.38.44.101\n",
      "Connecting to wwwproxy.bath.ac.uk (wwwproxy.bath.ac.uk)|138.38.44.101|:3128... connected.\n",
      "Proxy request sent, awaiting response... "
     ]
    },
    {
     "name": "stdout",
     "output_type": "stream",
     "text": [
      "wget --retry-connrefused -O /u/e/jb2854/Mergers_Project/DF_dir/TNG_HDF5_dir/87-13297-sdss_g-1,2.hdf5 --header=\"API-Key: 5f3541d5334553d9d2b98de938189866\" \"https://www.tng-project.org/api/TNG100-1/snapshots/87/subhalos/13297/vis.hdf5?partType=stars&partField=stellarBandObsFrame-sdss_g&size=4&sizeType=rHalfMassStars&method=sphMap&nPixels=800,800&axes=0,1&rasterPx=1100&plotStyle=edged&labelZ=False&labelSim=False&labelHalo=False&title=False&colorbars=False&scalebar=False&\"\n"
     ]
    },
    {
     "name": "stderr",
     "output_type": "stream",
     "text": [
      "302 Found\n",
      "Location: https://data-eu.tng-project.org/vis/subhalo/TNG100-1/87/13297/hdf5/?partType=stars&partField=stellarBandObsFrame-sdss_g&size=4&sizeType=rHalfMassStars&method=sphMap&nPixels=800%2C800&axes=0%2C1&rasterPx=1100&plotStyle=edged&labelZ=False&labelSim=False&labelHalo=False&title=False&colorbars=False&scalebar=False&token=e6da88997d1032adaf15 [following]\n",
      "--2022-10-20 11:07:27--  https://data-eu.tng-project.org/vis/subhalo/TNG100-1/87/13297/hdf5/?partType=stars&partField=stellarBandObsFrame-sdss_g&size=4&sizeType=rHalfMassStars&method=sphMap&nPixels=800%2C800&axes=0%2C1&rasterPx=1100&plotStyle=edged&labelZ=False&labelSim=False&labelHalo=False&title=False&colorbars=False&scalebar=False&token=e6da88997d1032adaf15\n",
      "Connecting to wwwproxy.bath.ac.uk (wwwproxy.bath.ac.uk)|138.38.44.101|:3128... connected.\n",
      "Proxy request sent, awaiting response... 200 OK\n",
      "Length: 2621440 (2.5M) [application/octet-stream]\n",
      "Saving to: ‘/u/e/jb2854/Mergers_Project/DF_dir/TNG_HDF5_dir/87-13297-sdss_g-1,2.hdf5’\n",
      "\n",
      "     0K .......... .......... .......... .......... ..........  1%  792K 3s\n",
      "    50K .......... .......... .......... .......... ..........  3% 1.54M 2s\n",
      "   100K .......... .......... .......... .......... ..........  5% 78.7M 2s\n",
      "   150K .......... .......... .......... .......... ..........  7%  113M 1s\n",
      "   200K .......... .......... .......... .......... ..........  9% 1.57M 1s\n",
      "   250K .......... .......... .......... .......... .......... 11%  113M 1s\n",
      "   300K .......... .......... .......... .......... .......... 13%  107M 1s\n",
      "   350K .......... .......... .......... .......... .......... 15%  119M 1s\n",
      "   400K .......... .......... .......... .......... .......... 17% 1.62M 1s\n",
      "   450K .......... .......... .......... .......... .......... 19% 85.9M 1s\n",
      "   500K .......... .......... .......... .......... .......... 21%  126M 1s\n",
      "   550K .......... .......... .......... .......... .......... 23%  110M 1s\n",
      "   600K .......... .......... .......... .......... .......... 25%  102M 0s\n",
      "   650K .......... .......... .......... .......... .......... 27%  105M 0s\n",
      "   700K .......... .......... .......... .......... .......... 29%  119M 0s\n",
      "   750K .......... .......... .......... .......... .......... 31%  117M 0s\n",
      "   800K .......... .......... .......... .......... .......... 33%  112M 0s\n",
      "   850K .......... .......... .......... .......... .......... 35% 1.73M 0s\n",
      "   900K .......... .......... .......... .......... .......... 37% 99.8M 0s\n",
      "   950K .......... .......... .......... .......... .......... 39% 75.1M 0s\n",
      "  1000K .......... .......... .......... .......... .......... 41% 69.7M 0s\n",
      "  1050K .......... .......... .......... .......... .......... 42%  110M 0s\n",
      "  1100K .......... .......... .......... .......... .......... 44%  119M 0s\n",
      "  1150K .......... .......... .......... .......... .......... 46%  115M 0s\n",
      "  1200K .......... .......... .......... .......... .......... 48%  115M 0s\n",
      "  1250K .......... .......... .......... .......... .......... 50%  119M 0s\n",
      "  1300K .......... .......... .......... .......... .......... 52%  129M 0s\n",
      "  1350K .......... .......... .......... .......... .......... 54%  142M 0s\n",
      "  1400K .......... .......... .......... .......... .......... 56%  113M 0s\n",
      "  1450K .......... .......... .......... .......... .......... 58%  116M 0s\n",
      "  1500K .......... .......... .......... .......... .......... 60%  128M 0s\n",
      "  1550K .......... .......... .......... .......... .......... 62%  111M 0s\n",
      "  1600K .......... .......... .......... .......... .......... 64%  110M 0s\n",
      "  1650K .......... .......... .......... .......... .......... 66%  110M 0s\n",
      "  1700K .......... .......... ..."
     ]
    },
    {
     "name": "stdout",
     "output_type": "stream",
     "text": [
      "Downloading /u/e/jb2854/Mergers_Project/DF_dir/TNG_HDF5_dir/87-13297-sdss_r-1,2.hdf5 from tng-project.org\n"
     ]
    },
    {
     "name": "stderr",
     "output_type": "stream",
     "text": [
      "....... .......... .......... 68% 2.01M 0s\n",
      "  1750K .......... .......... .......... .......... .......... 70% 98.1M 0s\n",
      "  1800K .......... .......... .......... .......... .......... 72% 64.5M 0s\n",
      "  1850K .......... .......... .......... .......... .......... 74%  103M 0s\n",
      "  1900K .......... .......... .......... .......... .......... 76%  112M 0s\n",
      "  1950K .......... .......... .......... .......... .......... 78%  120M 0s\n",
      "  2000K .......... .......... .......... .......... .......... 80%  110M 0s\n",
      "  2050K .......... .......... .......... .......... .......... 82%  108M 0s\n",
      "  2100K .......... .......... .......... .......... .......... 83%  118M 0s\n",
      "  2150K .......... .......... .......... .......... .......... 85%  116M 0s\n",
      "  2200K .......... .......... .......... .......... .......... 87%  118M 0s\n",
      "  2250K .......... .......... .......... .......... .......... 89%  137M 0s\n",
      "  2300K .......... .......... .......... .......... .......... 91%  124M 0s\n",
      "  2350K .......... .......... .......... .......... .......... 93%  139M 0s\n",
      "  2400K .......... .......... .......... .......... .......... 95%  119M 0s\n",
      "  2450K .......... .......... .......... .......... .......... 97%  135M 0s\n",
      "  2500K .......... .......... .......... .......... .......... 99%  129M 0s\n",
      "  2550K ..........                                            100% 82.1M=0.2s\n",
      "\n",
      "2022-10-20 11:07:28 (10.9 MB/s) - ‘/u/e/jb2854/Mergers_Project/DF_dir/TNG_HDF5_dir/87-13297-sdss_g-1,2.hdf5’ saved [2621440/2621440]\n",
      "\n",
      "--2022-10-20 11:07:28--  https://www.tng-project.org/api/TNG100-1/snapshots/87/subhalos/13297/vis.hdf5?partType=stars&partField=stellarBandObsFrame-sdss_r&size=4&sizeType=rHalfMassStars&method=sphMap&nPixels=800,800&axes=0,1&rasterPx=1100&plotStyle=edged&labelZ=False&labelSim=False&labelHalo=False&title=False&colorbars=False&scalebar=False&\n",
      "Resolving wwwproxy.bath.ac.uk (wwwproxy.bath.ac.uk)... 138.38.44.101\n",
      "Connecting to wwwproxy.bath.ac.uk (wwwproxy.bath.ac.uk)|138.38.44.101|:3128... connected.\n",
      "Proxy request sent, awaiting response... "
     ]
    },
    {
     "name": "stdout",
     "output_type": "stream",
     "text": [
      "wget --retry-connrefused -O /u/e/jb2854/Mergers_Project/DF_dir/TNG_HDF5_dir/87-13297-sdss_r-1,2.hdf5 --header=\"API-Key: 5f3541d5334553d9d2b98de938189866\" \"https://www.tng-project.org/api/TNG100-1/snapshots/87/subhalos/13297/vis.hdf5?partType=stars&partField=stellarBandObsFrame-sdss_r&size=4&sizeType=rHalfMassStars&method=sphMap&nPixels=800,800&axes=0,1&rasterPx=1100&plotStyle=edged&labelZ=False&labelSim=False&labelHalo=False&title=False&colorbars=False&scalebar=False&\"\n"
     ]
    },
    {
     "name": "stderr",
     "output_type": "stream",
     "text": [
      "302 Found\n",
      "Location: https://data-eu.tng-project.org/vis/subhalo/TNG100-1/87/13297/hdf5/?partType=stars&partField=stellarBandObsFrame-sdss_r&size=4&sizeType=rHalfMassStars&method=sphMap&nPixels=800%2C800&axes=0%2C1&rasterPx=1100&plotStyle=edged&labelZ=False&labelSim=False&labelHalo=False&title=False&colorbars=False&scalebar=False&token=5d4d9584b3b8d94f917e [following]\n",
      "--2022-10-20 11:07:28--  https://data-eu.tng-project.org/vis/subhalo/TNG100-1/87/13297/hdf5/?partType=stars&partField=stellarBandObsFrame-sdss_r&size=4&sizeType=rHalfMassStars&method=sphMap&nPixels=800%2C800&axes=0%2C1&rasterPx=1100&plotStyle=edged&labelZ=False&labelSim=False&labelHalo=False&title=False&colorbars=False&scalebar=False&token=5d4d9584b3b8d94f917e\n",
      "Connecting to wwwproxy.bath.ac.uk (wwwproxy.bath.ac.uk)|138.38.44.101|:3128... connected.\n",
      "Proxy request sent, awaiting response... 200 OK\n",
      "Length: 2621440 (2.5M) [application/octet-stream]\n",
      "Saving to: ‘/u/e/jb2854/Mergers_Project/DF_dir/TNG_HDF5_dir/87-13297-sdss_r-1,2.hdf5’\n",
      "\n",
      "     0K .......... .......... .......... .......... ..........  1%  799K 3s\n",
      "    50K .......... .......... .......... .......... ..........  3% 1.57M 2s\n",
      "   100K .......... .......... .......... .......... ..........  5% 29.8M 2s\n",
      "   150K .......... .......... .......... .......... ..........  7%  147M 1s\n",
      "   200K .......... .......... .......... .......... ..........  9% 1.53M 1s\n",
      "   250K .......... .......... .......... .......... .......... 11%  138M 1s\n",
      "   300K .......... .......... .......... .......... .......... 13%  135M 1s\n",
      "   350K .......... .......... .......... .......... .......... 15%  127M 1s\n",
      "   400K .......... .......... .......... .......... .......... 17% 1.63M 1s\n",
      "   450K .......... .......... .......... .......... .......... 19% 26.2M 1s\n",
      "   500K .......... .......... .......... .......... .......... 21%  129M 1s\n",
      "   550K .......... .......... .......... .......... .......... 23%  128M 1s\n",
      "   600K .......... .......... .......... .......... .......... 25%  104M 0s\n",
      "   650K .......... .......... .......... .......... .......... 27%  143M 0s\n",
      "   700K .......... .......... .......... .......... .......... 29%  134M 0s\n",
      "   750K .......... .......... .......... .......... .......... 31%  142M 0s\n",
      "   800K .......... .......... .......... .......... .......... 33%  134M 0s\n",
      "   850K .......... .......... .......... .......... .......... 35% 1.79M 0s\n",
      "   900K .......... .......... .......... .......... .......... 37%  140M 0s\n",
      "   950K .......... .......... .......... .......... .......... 39% 20.0M 0s\n",
      "  1000K .......... .......... .......... .......... .......... 41% 78.5M 0s\n",
      "  1050K .......... .......... .......... .......... .......... 42%  104M 0s\n",
      "  1100K .......... .......... .......... .......... .......... 44%  132M 0s\n",
      "  1150K .......... .......... .......... .......... .......... 46%  146M 0s\n",
      "  1200K .......... .......... .......... .......... .......... 48%  125M 0s\n",
      "  1250K .......... .......... .......... .......... .......... 50%  140M 0s\n",
      "  1300K .......... .......... .......... .......... .......... 52%  141M 0s\n",
      "  1350K .......... .......... .......... .......... .......... 54%  123M 0s\n",
      "  1400K .......... .......... .......... .......... .......... 56%  134M 0s\n",
      "  1450K .......... .......... .......... .......... .......... 58%  131M 0s\n",
      "  1500K .......... .......... .......... .......... .......... 60%  138M 0s\n",
      "  1550K .......... .......... .......... .......... .......... 62%  144M 0s\n",
      "  1600K .......... .......... .......... .......... .......... 64%  121M 0s\n",
      "  1650K .......... .......... .......... .......... .......... 66%  139M 0s\n",
      "  1700K .......... .......... .......... ......"
     ]
    },
    {
     "name": "stdout",
     "output_type": "stream",
     "text": [
      "Downloading /u/e/jb2854/Mergers_Project/DF_dir/TNG_HDF5_dir/87-13297-sdss_i-1,2.hdf5 from tng-project.org\n"
     ]
    },
    {
     "name": "stderr",
     "output_type": "stream",
     "text": [
      ".... .......... 68% 2.15M 0s\n",
      "  1750K .......... .......... .......... .......... .......... 70%  109M 0s\n",
      "  1800K .......... .......... .......... .......... .......... 72%  130M 0s\n",
      "  1850K .......... .......... .......... .......... .......... 74% 50.1M 0s\n",
      "  1900K .......... .......... .......... .......... .......... 76%  109M 0s\n",
      "  1950K .......... .......... .......... .......... .......... 78% 99.4M 0s\n",
      "  2000K .......... .......... .......... .......... .......... 80% 93.1M 0s\n",
      "  2050K .......... .......... .......... .......... .......... 82%  140M 0s\n",
      "  2100K .......... .......... .......... .......... .......... 83%  134M 0s\n",
      "  2150K .......... .......... .......... .......... .......... 85%  142M 0s\n",
      "  2200K .......... .......... .......... .......... .......... 87%  115M 0s\n",
      "  2250K .......... .......... .......... .......... .......... 89%  143M 0s\n",
      "  2300K .......... .......... .......... .......... .......... 91%  140M 0s\n",
      "  2350K .......... .......... .......... .......... .......... 93%  132M 0s\n",
      "  2400K .......... .......... .......... .......... .......... 95%  133M 0s\n",
      "  2450K .......... .......... .......... .......... .......... 97%  133M 0s\n",
      "  2500K .......... .......... .......... .......... .......... 99%  148M 0s\n",
      "  2550K ..........                                            100%  114M=0.2s\n",
      "\n",
      "2022-10-20 11:07:29 (10.9 MB/s) - ‘/u/e/jb2854/Mergers_Project/DF_dir/TNG_HDF5_dir/87-13297-sdss_r-1,2.hdf5’ saved [2621440/2621440]\n",
      "\n",
      "--2022-10-20 11:07:29--  https://www.tng-project.org/api/TNG100-1/snapshots/87/subhalos/13297/vis.hdf5?partType=stars&partField=stellarBandObsFrame-sdss_i&size=4&sizeType=rHalfMassStars&method=sphMap&nPixels=800,800&axes=0,1&rasterPx=1100&plotStyle=edged&labelZ=False&labelSim=False&labelHalo=False&title=False&colorbars=False&scalebar=False&\n",
      "Resolving wwwproxy.bath.ac.uk (wwwproxy.bath.ac.uk)... 138.38.44.101\n",
      "Connecting to wwwproxy.bath.ac.uk (wwwproxy.bath.ac.uk)|138.38.44.101|:3128... connected.\n",
      "Proxy request sent, awaiting response... "
     ]
    },
    {
     "name": "stdout",
     "output_type": "stream",
     "text": [
      "wget --retry-connrefused -O /u/e/jb2854/Mergers_Project/DF_dir/TNG_HDF5_dir/87-13297-sdss_i-1,2.hdf5 --header=\"API-Key: 5f3541d5334553d9d2b98de938189866\" \"https://www.tng-project.org/api/TNG100-1/snapshots/87/subhalos/13297/vis.hdf5?partType=stars&partField=stellarBandObsFrame-sdss_i&size=4&sizeType=rHalfMassStars&method=sphMap&nPixels=800,800&axes=0,1&rasterPx=1100&plotStyle=edged&labelZ=False&labelSim=False&labelHalo=False&title=False&colorbars=False&scalebar=False&\"\n"
     ]
    },
    {
     "name": "stderr",
     "output_type": "stream",
     "text": [
      "302 Found\n",
      "Location: https://data-eu.tng-project.org/vis/subhalo/TNG100-1/87/13297/hdf5/?partType=stars&partField=stellarBandObsFrame-sdss_i&size=4&sizeType=rHalfMassStars&method=sphMap&nPixels=800%2C800&axes=0%2C1&rasterPx=1100&plotStyle=edged&labelZ=False&labelSim=False&labelHalo=False&title=False&colorbars=False&scalebar=False&token=76187dadc669568a4d4f [following]\n",
      "--2022-10-20 11:07:29--  https://data-eu.tng-project.org/vis/subhalo/TNG100-1/87/13297/hdf5/?partType=stars&partField=stellarBandObsFrame-sdss_i&size=4&sizeType=rHalfMassStars&method=sphMap&nPixels=800%2C800&axes=0%2C1&rasterPx=1100&plotStyle=edged&labelZ=False&labelSim=False&labelHalo=False&title=False&colorbars=False&scalebar=False&token=76187dadc669568a4d4f\n",
      "Connecting to wwwproxy.bath.ac.uk (wwwproxy.bath.ac.uk)|138.38.44.101|:3128... connected.\n",
      "Proxy request sent, awaiting response... 200 OK\n",
      "Length: 2621440 (2.5M) [application/octet-stream]\n",
      "Saving to: ‘/u/e/jb2854/Mergers_Project/DF_dir/TNG_HDF5_dir/87-13297-sdss_i-1,2.hdf5’\n",
      "\n",
      "     0K .......... .......... .......... .......... ..........  1%  780K 3s\n",
      "    50K .......... .......... .......... .......... ..........  3% 1.59M 2s\n",
      "   100K .......... .......... .......... .......... ..........  5% 23.9M 2s\n",
      "   150K .......... .......... .......... .......... ..........  7% 26.4M 1s\n",
      "   200K .......... .......... .......... .......... ..........  9% 1.73M 1s\n",
      "   250K .......... .......... .......... .......... .......... 11% 36.0M 1s\n",
      "   300K .......... .......... .......... .......... .......... 13% 26.6M 1s\n",
      "   350K .......... .......... .......... .......... .......... 15% 40.3M 1s\n",
      "   400K .......... .......... .......... .......... .......... 17% 1.81M 1s\n",
      "   450K .......... .......... .......... .......... .......... 19%  233M 1s\n",
      "   500K .......... .......... .......... .......... .......... 21% 45.8M 1s\n",
      "   550K .......... .......... .......... .......... .......... 23%  186M 1s\n",
      "   600K .......... .......... .......... .......... .......... 25% 25.2M 0s\n",
      "   650K .......... .......... .......... .......... .......... 27% 23.8M 0s\n",
      "   700K .......... .......... .......... .......... .......... 29% 27.5M 0s\n",
      "   750K .......... .......... .......... .......... .......... 31%  229M 0s\n",
      "   800K .......... .......... .......... .......... .......... 33%  123M 0s\n",
      "   850K .......... .......... .......... .......... .......... 35% 2.05M 0s\n",
      "   900K .......... .......... .......... .......... .......... 37%  232M 0s\n",
      "   950K .......... .......... .......... .......... .......... 39%  272M 0s\n",
      "  1000K .......... .......... .......... .......... .......... 41% 77.2M 0s\n",
      "  1050K .......... .......... .......... .......... .......... 42%  207M 0s\n",
      "  1100K .......... .......... .......... .......... .......... 44%  238M 0s\n",
      "  1150K .......... .......... .......... .......... .......... 46% 26.9M 0s\n",
      "  1200K .......... .......... .......... .......... .......... 48%  210M 0s\n",
      "  1250K .......... .......... .......... .......... .......... 50%  244M 0s\n",
      "  1300K .......... .......... .......... .......... .......... 52%  294M 0s\n",
      "  1350K .......... .......... .......... .......... .......... 54% 34.3M 0s\n",
      "  1400K .......... .......... .......... .......... .......... 56% 94.6M 0s\n",
      "  1450K .......... .......... .......... .......... .......... 58% 91.6M 0s\n",
      "  1500K .......... .......... .......... .......... .......... 60% 43.7M 0s\n",
      "  1550K .......... .......... .......... .......... .......... 62%  144M 0s\n",
      "  1600K .......... .......... .......... .......... .......... 64%  234M 0s\n",
      "  1650K .......... .......... .......... .......... .......... 66%  206M 0s\n",
      "  1700K .......... .......... .......... .......... .......... 68%  289M 0s\n",
      "  1750K .........."
     ]
    },
    {
     "name": "stdout",
     "output_type": "stream",
     "text": [
      "Downloading /u/e/jb2854/Mergers_Project/DF_dir/TNG_HDF5_dir/87-13297-sdss_z-1,2.hdf5 from tng-project.org\n"
     ]
    },
    {
     "name": "stderr",
     "output_type": "stream",
     "text": [
      " .......... .......... .......... .......... 70% 2.10M 0s\n",
      "  1800K .......... .......... .......... .......... .......... 72%  174M 0s\n",
      "  1850K .......... .......... .......... .......... .......... 74%  170M 0s\n",
      "  1900K .......... .......... .......... .......... .......... 76%  194M 0s\n",
      "  1950K .......... .......... .......... .......... .......... 78%  221M 0s\n",
      "  2000K .......... .......... .......... .......... .......... 80%  206M 0s\n",
      "  2050K .......... .......... .......... .......... .......... 82%  206M 0s\n",
      "  2100K .......... .......... .......... .......... .......... 83%  235M 0s\n",
      "  2150K .......... .......... .......... .......... .......... 85%  165M 0s\n",
      "  2200K .......... .......... .......... .......... .......... 87%  230M 0s\n",
      "  2250K .......... .......... .......... .......... .......... 89%  207M 0s\n",
      "  2300K .......... .......... .......... .......... .......... 91%  249M 0s\n",
      "  2350K .......... .......... .......... .......... .......... 93%  203M 0s\n",
      "  2400K .......... .......... .......... .......... .......... 95% 39.3M 0s\n",
      "  2450K .......... .......... .......... .......... .......... 97%  213M 0s\n",
      "  2500K .......... .......... .......... .......... .......... 99% 78.1M 0s\n",
      "  2550K ..........                                            100%  183M=0.2s\n",
      "\n",
      "2022-10-20 11:07:29 (11.0 MB/s) - ‘/u/e/jb2854/Mergers_Project/DF_dir/TNG_HDF5_dir/87-13297-sdss_i-1,2.hdf5’ saved [2621440/2621440]\n",
      "\n",
      "--2022-10-20 11:07:29--  https://www.tng-project.org/api/TNG100-1/snapshots/87/subhalos/13297/vis.hdf5?partType=stars&partField=stellarBandObsFrame-sdss_z&size=4&sizeType=rHalfMassStars&method=sphMap&nPixels=800,800&axes=0,1&rasterPx=1100&plotStyle=edged&labelZ=False&labelSim=False&labelHalo=False&title=False&colorbars=False&scalebar=False&\n",
      "Resolving wwwproxy.bath.ac.uk (wwwproxy.bath.ac.uk)... 138.38.44.101\n",
      "Connecting to wwwproxy.bath.ac.uk (wwwproxy.bath.ac.uk)|138.38.44.101|:3128... connected.\n",
      "Proxy request sent, awaiting response... "
     ]
    },
    {
     "name": "stdout",
     "output_type": "stream",
     "text": [
      "wget --retry-connrefused -O /u/e/jb2854/Mergers_Project/DF_dir/TNG_HDF5_dir/87-13297-sdss_z-1,2.hdf5 --header=\"API-Key: 5f3541d5334553d9d2b98de938189866\" \"https://www.tng-project.org/api/TNG100-1/snapshots/87/subhalos/13297/vis.hdf5?partType=stars&partField=stellarBandObsFrame-sdss_z&size=4&sizeType=rHalfMassStars&method=sphMap&nPixels=800,800&axes=0,1&rasterPx=1100&plotStyle=edged&labelZ=False&labelSim=False&labelHalo=False&title=False&colorbars=False&scalebar=False&\"\n"
     ]
    },
    {
     "name": "stderr",
     "output_type": "stream",
     "text": [
      "302 Found\n",
      "Location: https://data-eu.tng-project.org/vis/subhalo/TNG100-1/87/13297/hdf5/?partType=stars&partField=stellarBandObsFrame-sdss_z&size=4&sizeType=rHalfMassStars&method=sphMap&nPixels=800%2C800&axes=0%2C1&rasterPx=1100&plotStyle=edged&labelZ=False&labelSim=False&labelHalo=False&title=False&colorbars=False&scalebar=False&token=fb8c717ce15885af2a86 [following]\n",
      "--2022-10-20 11:07:29--  https://data-eu.tng-project.org/vis/subhalo/TNG100-1/87/13297/hdf5/?partType=stars&partField=stellarBandObsFrame-sdss_z&size=4&sizeType=rHalfMassStars&method=sphMap&nPixels=800%2C800&axes=0%2C1&rasterPx=1100&plotStyle=edged&labelZ=False&labelSim=False&labelHalo=False&title=False&colorbars=False&scalebar=False&token=fb8c717ce15885af2a86\n",
      "Connecting to wwwproxy.bath.ac.uk (wwwproxy.bath.ac.uk)|138.38.44.101|:3128... connected.\n",
      "Proxy request sent, awaiting response... 200 OK\n",
      "Length: 2621440 (2.5M) [application/octet-stream]\n",
      "Saving to: ‘/u/e/jb2854/Mergers_Project/DF_dir/TNG_HDF5_dir/87-13297-sdss_z-1,2.hdf5’\n",
      "\n",
      "     0K .......... .......... .......... .......... ..........  1%  793K 3s\n",
      "    50K .......... .......... .......... .......... ..........  3% 1.48M 2s\n",
      "   100K .......... .......... .......... .......... ..........  5% 19.8M 2s\n",
      "   150K .......... .......... .......... .......... ..........  7%  117M 1s\n",
      "   200K .......... .......... .......... .......... ..........  9% 1.65M 1s\n",
      "   250K .......... .......... .......... .......... .......... 11%  118M 1s\n",
      "   300K .......... .......... .......... .......... .......... 13%  136M 1s\n",
      "   350K .......... .......... .......... .......... .......... 15%  127M 1s\n",
      "   400K .......... .......... .......... .......... .......... 17% 1.70M 1s\n",
      "   450K .......... .......... .......... .......... .......... 19% 14.7M 1s\n",
      "   500K .......... .......... .......... .......... .......... 21% 96.7M 1s\n",
      "   550K .......... .......... .......... .......... .......... 23%  129M 1s\n",
      "   600K .......... .......... .......... .......... .......... 25%  125M 0s\n",
      "   650K .......... .......... .......... .......... .......... 27%  125M 0s\n",
      "   700K .......... .......... .......... .......... .......... 29%  139M 0s\n",
      "   750K .......... .......... .......... .......... .......... 31%  125M 0s\n",
      "   800K .......... .......... .......... .......... .......... 33%  138M 0s\n",
      "   850K .......... .......... .......... .......... .......... 35% 1.65M 0s\n",
      "   900K .......... .......... .......... .......... .......... 37%  138M 0s\n",
      "   950K .......... .......... .......... .......... .......... 39%  106M 0s\n",
      "  1000K .......... .......... .......... .......... .......... 41% 78.3M 0s\n",
      "  1050K .......... .......... .......... .......... .......... 42%  129M 0s\n",
      "  1100K .......... .......... .......... .......... .......... 44%  130M 0s\n",
      "  1150K .......... .......... .......... .......... .......... 46% 85.0M 0s\n",
      "  1200K .......... .......... .......... .......... .......... 48%  117M 0s\n",
      "  1250K .......... .......... .......... .......... .......... 50%  118M 0s\n",
      "  1300K .......... .......... .......... .......... .......... 52%  138M 0s\n",
      "  1350K .......... .......... .......... .......... .......... 54%  128M 0s\n",
      "  1400K .......... .......... .......... .......... .......... 56%  135M 0s\n",
      "  1450K .......... .......... .......... .......... .......... 58%  129M 0s\n",
      "  1500K .......... .......... .......... .......... .......... 60%  120M 0s\n",
      "  1550K .......... .......... .......... .......... .......... 62%  138M 0s\n",
      "  1600K .......... .......... .......... .......... .......... 64%  126M 0s\n",
      "  1650K .......... .......... .......... .......... .......... 66%  130M 0s\n",
      "  1700K .......... .......... .......... .......... .......... 68% 2.03M 0s\n",
      "  1750K .......... .......... .......... .......... .......... 70%  123M 0s\n",
      "  1800K .......... .......... .......... .......... .......... 72%  121M 0s\n",
      "  1850K .......... .......... .......... .......... .......... 74% 32.6M 0s\n",
      "  1900K .......... .......... .......... .......... .......... 76% 80.4M 0s\n",
      "  1950K .......... .......... .......... .......... .......... 78%  137M 0s\n",
      "  2000K .......... .......... .......... .......... .......... 80%  126M 0s\n",
      "  2050K .......... .......... .......... .......... .......... 82%  129M 0s\n",
      "  2100K .......... .......... .......... .......... .......... 83%  129M 0s\n",
      "  2150K .......... .......... .......... .......... .......... 85%  138M 0s\n",
      "  2200K .......... .......... .......... .......... .......... 87%  140M 0s\n",
      "  2250K .......... .......... .......... .......... .......... 89%  119M 0s\n",
      "  2300K .......... .......... .......... .......... .......... 91%  138M 0s\n",
      "  2350K .......... .......... .......... .......... .......... 93%  124M 0s\n",
      "  2400K .......... .......... .......... .......... .......... 95%  134M 0s\n",
      "  2450K .......... .......... .......... .......... .......... 97%  129M 0s\n",
      "  2500K .......... .......... .......... .......... .......... 99%  126M 0s\n",
      "  2550K ..........                                            100%  146M=0.2s\n",
      "\n",
      "2022-10-20 11:07:30 (10.8 MB/s) - ‘/u/e/jb2854/Mergers_Project/DF_dir/TNG_HDF5_dir/87-13297-sdss_z-1,2.hdf5’ saved [2621440/2621440]\n",
      "\n"
     ]
    }
   ],
   "source": [
    "for axes in ['0,1', '0,2', '1,2']:\n",
    "    img = []\n",
    "    for band in bands:\n",
    "        fname = '%s%d-%d-%s-%s.hdf5' %(tmp_dir, snap, subhalo_id, band, axes)\n",
    "        filenames.append(fname)\n",
    "        \n",
    "        # load the hdf5 file if it exists\n",
    "        try:\n",
    "            with h5py.File(fname, 'r') as tmpfile:\n",
    "                img.append(np.array(tmpfile['grid']))\n",
    "            print('Opening %s' %fname)\n",
    "            sys.stdout.flush()\n",
    "\n",
    "        # if the file does not exist or is corrupted, download it\n",
    "        except (OSError, KeyError) as e:\n",
    "            print('Downloading %s from tng-project.org' %fname)\n",
    "            sys.stdout.flush()\n",
    "            \n",
    "            # build filename of download with image params and appropriate band\n",
    "            dname = 'vis.hdf5?'\n",
    "            img_params['partField'] = part_field_prefix + band\n",
    "            for pname in img_params.keys():\n",
    "                dname = dname + '%s=%s&' %(pname, img_params[pname])\n",
    "            # dname = dname + 'rotation=%s' %rotation\n",
    "            #dname = dname + 'axes=%s' %axes\n",
    "            \n",
    "            # do the download & open the result\n",
    "            print('wget --retry-connrefused -O %s --header=\"API-Key: %s\" \"%s%s\"'\n",
    "                  %(fname, api_key, url_prefix, dname))\n",
    "            osanswer = os.system('wget --retry-connrefused -O %s --header=\"API-Key: %s\" \"%s%s\"'\n",
    "                                 %(fname, api_key, url_prefix, dname))\n",
    "            \n",
    "            try:\n",
    "                with h5py.File(fname, 'r') as tmpfile:\n",
    "                    img.append(np.array(tmpfile['grid']))\n",
    "            except (OSError, KeyError) as e:\n",
    "                pass\n",
    "    hdul.append(fits.ImageHDU(data=np.array(img),\n",
    "                              header=fits.Header([('axes', axes)])))"
   ]
  },
  {
   "cell_type": "code",
   "execution_count": 93,
   "id": "ed4551ac",
   "metadata": {},
   "outputs": [],
   "source": [
    "# finish setting up FITS file and write\n",
    "hdul.writeto(fitsname, overwrite=True)"
   ]
  },
  {
   "cell_type": "code",
   "execution_count": 75,
   "id": "b8a7145a",
   "metadata": {},
   "outputs": [],
   "source": [
    "for fname in filenames:\n",
    "    os.system('rm ' + fname)"
   ]
  },
  {
   "cell_type": "code",
   "execution_count": null,
   "id": "7f11b397",
   "metadata": {},
   "outputs": [],
   "source": []
  },
  {
   "cell_type": "code",
   "execution_count": null,
   "id": "df04692b",
   "metadata": {},
   "outputs": [],
   "source": []
  }
 ],
 "metadata": {
  "kernelspec": {
   "display_name": "Python 3 (ipykernel)",
   "language": "python",
   "name": "python3"
  },
  "language_info": {
   "codemirror_mode": {
    "name": "ipython",
    "version": 3
   },
   "file_extension": ".py",
   "mimetype": "text/x-python",
   "name": "python",
   "nbconvert_exporter": "python",
   "pygments_lexer": "ipython3",
   "version": "3.7.13"
  }
 },
 "nbformat": 4,
 "nbformat_minor": 5
}
