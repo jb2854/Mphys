{
 "cells": [
  {
   "cell_type": "code",
   "execution_count": 1,
   "id": "7d797c21",
   "metadata": {},
   "outputs": [
    {
     "ename": "ModuleNotFoundError",
     "evalue": "No module named 'ObsRealism_CANDELS'",
     "output_type": "error",
     "traceback": [
      "\u001b[0;31m---------------------------------------------------------------------------\u001b[0m",
      "\u001b[0;31mModuleNotFoundError\u001b[0m                       Traceback (most recent call last)",
      "\u001b[0;32m/tmp/ipykernel_42659/758543327.py\u001b[0m in \u001b[0;36m<module>\u001b[0;34m\u001b[0m\n\u001b[1;32m      4\u001b[0m \u001b[0;32mfrom\u001b[0m \u001b[0mastropy\u001b[0m\u001b[0;34m.\u001b[0m\u001b[0mcosmology\u001b[0m \u001b[0;32mimport\u001b[0m \u001b[0mPlanck15\u001b[0m\u001b[0;34m\u001b[0m\u001b[0;34m\u001b[0m\u001b[0m\n\u001b[1;32m      5\u001b[0m \u001b[0msys\u001b[0m\u001b[0;34m.\u001b[0m\u001b[0mpath\u001b[0m\u001b[0;34m.\u001b[0m\u001b[0mappend\u001b[0m\u001b[0;34m(\u001b[0m\u001b[0;34m'Images/RealSim/'\u001b[0m\u001b[0;34m)\u001b[0m\u001b[0;34m\u001b[0m\u001b[0;34m\u001b[0m\u001b[0m\n\u001b[0;32m----> 6\u001b[0;31m \u001b[0;32mfrom\u001b[0m \u001b[0mObsRealism_CANDELS\u001b[0m \u001b[0;32mimport\u001b[0m \u001b[0;34m*\u001b[0m\u001b[0;34m\u001b[0m\u001b[0;34m\u001b[0m\u001b[0m\n\u001b[0m\u001b[1;32m      7\u001b[0m \u001b[0;32mimport\u001b[0m \u001b[0mhdf52_fits_MPhys_modified_26_10\u001b[0m \u001b[0;32mas\u001b[0m \u001b[0mgrabber\u001b[0m\u001b[0;34m\u001b[0m\u001b[0;34m\u001b[0m\u001b[0m\n\u001b[1;32m      8\u001b[0m \u001b[0;32mfrom\u001b[0m \u001b[0mglob\u001b[0m \u001b[0;32mimport\u001b[0m \u001b[0mglob\u001b[0m\u001b[0;34m\u001b[0m\u001b[0;34m\u001b[0m\u001b[0m\n",
      "\u001b[0;31mModuleNotFoundError\u001b[0m: No module named 'ObsRealism_CANDELS'"
     ]
    }
   ],
   "source": [
    "from astropy.io import fits\n",
    "import numpy as np\n",
    "import os,sys\n",
    "from astropy.cosmology import Planck15\n",
    "sys.path.append('Images/RealSim/')\n",
    "from ObsRealism_CANDELS import *\n",
    "import hdf52_fits_MPhys_modified_26_10 as grabber\n",
    "from glob import glob\n",
    "import matplotlib.pyplot as plt"
   ]
  },
  {
   "cell_type": "code",
   "execution_count": 2,
   "id": "195ce65f",
   "metadata": {},
   "outputs": [],
   "source": [
    "FITS_dir = '/home/AstroPhysics-Shared/PROJECTS/MPhys_Villforth/DATA/IMG_dir/FITS_dir'\n",
    "\n",
    "common_args = [{ \n",
    "                                'redshift'      : None,   # mock observation redshift\n",
    "                                'rebin_to_CCD'  : True, # rebin to CCD angular scale\n",
    "                                'CCD_scale'     : 0.396, # CCD angular scale in [arcsec/pixel]\n",
    "                                'add_false_psf' : True, # convolve with gaussian psf\n",
    "                                'false_psf_fwhm': 1.0,   # gaussian psf FWHM [arcsec]\n",
    "                                'add_poisson'   : True, # add poisson noise to galaxy\n",
    "                                'add_CIB'       : False\n",
    "},{ \n",
    "                                'redshift'      : None,   # mock observation redshift\n",
    "                                'rebin_to_CCD'  : True, # rebin to CCD angular scale\n",
    "                                'CCD_scale'     : 0.396, # CCD angular scale in [arcsec/pixel]\n",
    "                                'add_false_psf' : True, # convolve with gaussian psf\n",
    "                                'false_psf_fwhm': 1.0,   # gaussian psf FWHM [arcsec]\n",
    "                                'add_poisson'   : True, # add poisson noise to galaxy\n",
    "                                'add_CIB'       : True\n",
    "}]\n",
    "#FITS_dir = '/home/AstroPhysics-Shared/PROJECTS/MPhys_Villforth/DATA/IMG_dir/FITS_dir'\n",
    "FITS_dir = '/mnt/jb2854-XDrive/Physics/StudentProjects/MPhys/2022-23/IllustrisTNG-Mergers/IMG_dir/FITS_dir'\n",
    "\n",
    "subhalos = [[16204, 33], [492113, 50],[0, 98],[373377, 93]]"
   ]
  },
  {
   "cell_type": "code",
   "execution_count": null,
   "id": "e3b903c8",
   "metadata": {},
   "outputs": [],
   "source": [
    "subhalos_33 = [16204, 96741, 7817, 116204]\n",
    "Mstar = [14.581811, 4.912210, 33.732471, 1.310141]\n",
    "\n",
    "import matplotlib.pyplot as plt\n",
    "\n",
    "for subhalo in subhalos_33:\n",
    "\n",
    "    _outName = '/mnt/jb2854-XDrive/Physics/StudentProjects/MPhys/2022-23/IllustrisTNG-Mergers/IMG_dir/Real_FITS_dir/SFID_%07d_SNAP_%02d_SemiReal.fits' %(subhalo, 33)\n",
    "    img = FITS_dir + 'SFID_%07d_SNAP_%02d.fits' %(subhalo, 33)\n",
    "    if not os.path.isfile(img):\n",
    "        print('File does not exist')\n",
    "        grabber.grabFITS(subhalo, 33, FITS_dir, bands = ['wfc3_ir_f160w'])\n",
    "        \n",
    "          \n",
    "    ObsRealism(img,_outName,bands=['wfc3_ir_f160w'], common_args = common_args[1])\n",
    "    print('Image size = {}'.format(fits.getheader(img)['imsize']))\n",
    "    \n",
    "    fig = plt.figure(figsize = (9,7))\n",
    "    ax = fig.subplots(1,1)\n",
    "\n",
    "\n",
    "    _outName = '/mnt/jb2854-XDrive/Physics/StudentProjects/MPhys/2022-23/IllustrisTNG-Mergers/IMG_dir/Real_FITS_dir/SFID_%07d_SNAP_%02d_SemiReal.fits' %(subhalo, 33)\n",
    "    galaxy_real = fits.open(_outName)\n",
    "    data = galaxy_real[1].data\n",
    "    ax.imshow(data, cmap = 'gist_gray_r')\n",
    "    ax.set_title('Subhalo ID = {}, Snapshot = {}'.format(subhalo, 33))\n",
    "    plt.tight_layout()"
   ]
  }
 ],
 "metadata": {},
 "nbformat": 4,
 "nbformat_minor": 5
}
