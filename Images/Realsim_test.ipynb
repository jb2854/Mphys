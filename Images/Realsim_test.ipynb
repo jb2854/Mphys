{
 "cells": [
  {
   "cell_type": "code",
   "execution_count": 1,
   "id": "17904759",
   "metadata": {},
   "outputs": [],
   "source": [
    "import sys\n",
    "sys.path.append('./RealSim/')\n",
    "from ObsRealism import *\n",
    "from astropy.io import fits\n",
    "import numpy as np\n",
    "import os"
   ]
  },
  {
   "cell_type": "code",
   "execution_count": 2,
   "id": "f9e8ad4d",
   "metadata": {},
   "outputs": [],
   "source": [
    "# base path to input images\n",
    "## img_base_path = '/u/e/jb2854/Mergers_Project/DF_dir/TNG_FITS_dir/'\n",
    "img_base_path = 'RealSim/Inputs/'\n",
    "\n",
    "# configuration path (SExtractor params, gim2d files, etc.)\n",
    "sdss_cfg_path = './RealSim/Sources/utils/sdss-cfg/'\n",
    "# application path (read_PSF, read_atlas, etc.)\n",
    "sdss_app_path = './RealSim/Sources/utils/sdss-apps/'\n",
    "# output directory path\n",
    "output_type = 'FullReal'\n",
    "output_path = 'RealSim/Outputs/'\n",
    "useSQL = False"
   ]
  },
  {
   "cell_type": "code",
   "execution_count": 3,
   "id": "224156d5",
   "metadata": {},
   "outputs": [],
   "source": [
    "field_info = np.load('./RealSim/Sources/Simard2011_Field_Info.npy')"
   ]
  },
  {
   "cell_type": "code",
   "execution_count": 4,
   "id": "15a5861f",
   "metadata": {},
   "outputs": [
    {
     "data": {
      "text/plain": [
       "array([[756,  44,   1, 372],\n",
       "       [756,  44,   3, 363],\n",
       "       [756,  44,   3, 363],\n",
       "       ...,\n",
       "       [756,  44,   6, 429],\n",
       "       [756,  44,   6, 493],\n",
       "       [756,  44,   6, 556]])"
      ]
     },
     "execution_count": 4,
     "metadata": {},
     "output_type": "execute_result"
    }
   ],
   "source": [
    "field_info"
   ]
  },
  {
   "cell_type": "code",
   "execution_count": 5,
   "id": "caf65803",
   "metadata": {},
   "outputs": [],
   "source": [
    "common_args = { \n",
    "                'redshift'      : 0.05,  # mock observation redshift\n",
    "                'rebin_to_CCD'  : True,  # rebin to CCD angular scale\n",
    "                'CCD_scale'     : 0.396, # CCD angular scale in [arcsec/pixel]\n",
    "                'add_false_sky' : False,  # add gaussian sky\n",
    "                'false_sky_sig' : 24.2,  # gaussian sky standard dev [AB mag/arcsec2]\n",
    "                'add_false_psf' : False,  # convolve with gaussian psf\n",
    "                'false_psf_fwhm': 1.1,   # gaussian psf FWHM [arcsec]\n",
    "                'add_poisson'   : True,  # add poisson noise to galaxy\n",
    "                'add_sdss_sky'  : True,  # insert into real SDSS sky (using sdss_args)\n",
    "                'add_sdss_psf'  : True, # convolve with real SDSS psf (using sdss_args)\n",
    "              }"
   ]
  },
  {
   "cell_type": "code",
   "execution_count": 6,
   "id": "9d0b5b0d",
   "metadata": {},
   "outputs": [],
   "source": [
    "from glob import glob\n",
    "# get image list for r-band images (will reformat for other bands in loop)\n",
    "## imgList = [img_base_path+'600113998.fits']\n",
    "imgList = list(sorted(glob(img_base_path+'/photo_r_CNN*.fits')))\n",
    "\n",
    "# bands in which to create images\n",
    "bands = ['g','r','i']"
   ]
  },
  {
   "cell_type": "code",
   "execution_count": 7,
   "id": "8d063c3f",
   "metadata": {},
   "outputs": [
    {
     "data": {
      "text/plain": [
       "['RealSim/Inputs/photo_r_CNN_G2G3_e-orbit_1_186_i0_total.fits',\n",
       " 'RealSim/Inputs/photo_r_CNN_G2G3_e-orbit_1_214_i0_total.fits',\n",
       " 'RealSim/Inputs/photo_r_CNN_G2G3_e-orbit_1_346_i0_total.fits']"
      ]
     },
     "execution_count": 7,
     "metadata": {},
     "output_type": "execute_result"
    }
   ],
   "source": [
    "imgList"
   ]
  },
  {
   "cell_type": "code",
   "execution_count": 8,
   "id": "9de76c2d",
   "metadata": {
    "scrolled": true
   },
   "outputs": [
    {
     "name": "stderr",
     "output_type": "stream",
     "text": [
      "--2022-10-22 12:13:55--  http://das.sdss.org/imaging/5314/40/corr/2/fpC-005314-r2-0300.fit.gz\n",
      "Resolving wwwproxy.bath.ac.uk (wwwproxy.bath.ac.uk)... 138.38.44.101\n",
      "Connecting to wwwproxy.bath.ac.uk (wwwproxy.bath.ac.uk)|138.38.44.101|:3128... connected.\n",
      "Proxy request sent, awaiting response... 200 OK\n",
      "Length: 2362897 (2.3M) [application/x-gzip]\n",
      "Saving to: ‘fpC-005314-r2-0300.fit.gz’\n",
      "\n",
      "     0K .......... .......... .......... .......... ..........  2%  192K 12s\n",
      "    50K .......... .......... .......... .......... ..........  4%  285K 10s\n",
      "   100K .......... .......... .......... .......... ..........  6%  565K 8s\n",
      "   150K .......... .......... .......... .......... ..........  8%  560K 6s\n",
      "   200K .......... .......... .......... .......... .......... 10%  565K 6s\n",
      "   250K .......... .......... .......... .......... .......... 13%  556K 5s\n",
      "   300K .......... .......... .......... .......... .......... 15%  557K 5s\n",
      "   350K .......... .......... .......... .......... .......... 17%  557K 5s\n",
      "   400K .......... .......... .......... .......... .......... 19%  558K 4s\n",
      "   450K .......... .......... .......... .......... .......... 21%  105M 4s\n",
      "   500K .......... .......... .......... .......... .......... 23%  557K 4s\n",
      "   550K .......... .......... .......... .......... .......... 26%  557K 4s\n",
      "   600K .......... .......... .......... .......... .......... 28%  558K 3s\n",
      "   650K .......... .......... .......... .......... .......... 30%  545K 3s\n",
      "   700K .......... .......... .......... .......... .......... 32% 89.2M 3s\n",
      "   750K .......... .......... .......... .......... .......... 34%  546K 3s\n",
      "   800K .......... .......... .......... .......... .......... 36% 95.2M 3s\n",
      "   850K .......... .......... .......... .......... .......... 39%  548K 3s\n",
      "   900K .......... .......... .......... .......... .......... 41%  109M 2s\n",
      "   950K .......... .......... .......... .......... .......... 43%  545K 2s\n",
      "  1000K .......... .......... .......... .......... .......... 45%  120M 2s\n",
      "  1050K .......... .......... .......... .......... .......... 47%  546K 2s\n",
      "  1100K .......... .......... .......... .......... .......... 49%  124M 2s\n",
      "  1150K .......... .......... .......... .......... .......... 52%  547K 2s\n",
      "  1200K .......... .......... .......... .......... .......... 54%  175M 2s\n",
      "  1250K .......... .......... .......... .......... .......... 56%  543K 2s\n",
      "  1300K .......... .......... .......... .......... .......... 58%  133M 1s\n",
      "  1350K .......... .......... .......... .......... .......... 60% 90.2K 2s\n",
      "  1400K .......... .......... .......... .......... .......... 62% 81.9M 1s\n",
      "  1450K .......... .......... .......... .......... .......... 65% 56.1K 2s\n",
      "  1500K .......... .......... .......... .......... .......... 67% 72.4K 2s\n",
      "  1550K .......... .......... .......... .......... .......... 69%  115K 2s\n",
      "  1600K .......... .......... .......... .......... .......... 71%  144K 2s\n",
      "  1650K .......... .......... .......... .......... .......... 73%  144K 2s\n",
      "  1700K .......... .......... .......... .......... .......... 75%  192K 2s\n",
      "  1750K .......... .......... .......... .......... .......... 78%  191K 2s\n",
      "  1800K .......... .......... .......... .......... .......... 80%  286K 1s\n",
      "  1850K .......... .......... .......... .......... .......... 82%  286K 1s\n",
      "  1900K .......... .......... .......... .......... .......... 84%  285K 1s\n",
      "  1950K .......... .......... .......... .......... .......... 86%  285K 1s\n",
      "  2000K .......... .......... .......... .......... .......... 88%  567K 1s\n",
      "  2050K .......... .......... .......... .......... .......... 91%  284K 1s\n",
      "  2100K .......... .......... .......... .......... .......... 93%  569K 0s\n",
      "  2150K .......... .......... .......... .......... .......... 95%  284K 0s\n",
      "  2200K .......... .......... .......... .......... .......... 97%  568K 0s\n",
      "  2250K .......... .......... .......... .......... .......... 99%  285K 0s\n",
      "  2300K .......                                               100% 96.1M=7.3s\n",
      "\n",
      "2022-10-22 12:14:04 (318 KB/s) - ‘fpC-005314-r2-0300.fit.gz’ saved [2362897/2362897]\n",
      "\n",
      "WARNING: FITSFixedWarning: RADECSYS= 'ICRS ' / International Celestial Ref. System \n",
      "the RADECSYS keyword is deprecated, use RADESYSa. [astropy.wcs.wcs]\n",
      "WARNING: FITSFixedWarning: 'datfix' made the change 'Set MJD-OBS to 53500.000000 from DATE-OBS'. [astropy.wcs.wcs]\n",
      "--2022-10-22 12:14:06--  http://das.sdss.org/imaging/5314/40/corr/2/fpC-005314-g2-0300.fit.gz\n",
      "Resolving wwwproxy.bath.ac.uk (wwwproxy.bath.ac.uk)... 138.38.44.101\n",
      "Connecting to wwwproxy.bath.ac.uk (wwwproxy.bath.ac.uk)|138.38.44.101|:3128... connected.\n",
      "Proxy request sent, awaiting response... 200 OK\n",
      "Length: 2203591 (2.1M) [application/x-gzip]\n",
      "Saving to: ‘fpC-005314-g2-0300.fit.gz’\n",
      "\n",
      "     0K .......... .......... .......... .......... ..........  2%  192K 11s\n",
      "    50K .......... .......... .......... .......... ..........  4%  285K 9s\n",
      "   100K .......... .......... .......... .......... ..........  6%  564K 7s\n",
      "   150K .......... .......... .......... .......... ..........  9%  561K 6s\n",
      "   200K .......... .......... .......... .......... .......... 11%  566K 5s\n",
      "   250K .......... .......... .......... .......... .......... 13%  553K 5s\n",
      "   300K .......... .......... .......... .......... .......... 16%  558K 5s\n",
      "   350K .......... .......... .......... .......... .......... 18%  556K 4s\n",
      "   400K .......... .......... .......... .......... .......... 20%  554K 4s\n",
      "   450K .......... .......... .......... .......... .......... 23%  121M 4s\n",
      "   500K .......... .......... .......... .......... .......... 25%  559K 3s\n",
      "   550K .......... .......... .......... .......... .......... 27%  555K 3s\n",
      "   600K .......... .......... .......... .......... .......... 30%  557K 3s\n",
      "   650K .......... .......... .......... .......... .......... 32%  557K 3s\n",
      "   700K .......... .......... .......... .......... .......... 34%  137M 3s\n",
      "   750K .......... .......... .......... .......... .......... 37%  553K 3s\n",
      "   800K .......... .......... .......... .......... .......... 39%  560K 2s\n",
      "   850K .......... .......... .......... .......... .......... 41%  545K 2s\n",
      "   900K .......... .......... .......... .......... .......... 44%  122M 2s\n",
      "   950K .......... .......... .......... .......... .......... 46%  545K 2s\n",
      "  1000K .......... .......... .......... .......... .......... 48%  138M 2s\n",
      "  1050K .......... .......... .......... .......... .......... 51%  546K 2s\n",
      "  1100K .......... .......... .......... .......... .......... 53% 24.7M 2s\n",
      "  1150K .......... .......... .......... .......... .......... 55%  555K 2s\n",
      "  1200K .......... .......... .......... .......... .......... 58%  158M 1s\n",
      "  1250K .......... .......... .......... .......... .......... 60%  541K 1s\n",
      "  1300K .......... .......... .......... .......... .......... 62%  149M 1s\n",
      "  1350K .......... .......... .......... .......... .......... 65%  543K 1s\n",
      "  1400K .......... .......... .......... .......... .......... 67%  567K 1s\n",
      "  1450K .......... .......... .......... .......... .......... 69%  565K 1s\n",
      "  1500K .......... .......... .......... .......... .......... 72%  650K 1s\n",
      "  1550K .......... .......... .......... .......... .......... 74% 4.11M 1s\n",
      "  1600K .......... .......... .......... .......... .......... 76%  570K 1s\n",
      "  1650K .......... .......... .......... .......... .......... 78%  570K 1s\n",
      "  1700K .......... .......... .......... .......... .......... 81%  653K 1s\n",
      "  1750K .......... .......... .......... .......... .......... 83%  569K 1s\n",
      "  1800K .......... .......... .......... .......... .......... 85%  569K 0s\n",
      "  1850K .......... .......... .......... .......... .......... 88% 4.27M 0s\n",
      "  1900K .......... .......... .......... .......... .......... 90%  569K 0s\n",
      "  1950K .......... .......... .......... .......... .......... 92%  654K 0s\n",
      "  2000K .......... .......... .......... .......... .......... 95% 3.51M 0s\n",
      "  2050K .......... .......... .......... .......... .......... 97%  563K 0s\n",
      "  2100K .......... .......... .......... .......... .......... 99%  130M 0s\n",
      "  2150K .                                                     100% 46.3M=3.1s\n",
      "\n",
      "2022-10-22 12:14:09 (688 KB/s) - ‘fpC-005314-g2-0300.fit.gz’ saved [2203591/2203591]\n",
      "\n",
      "--2022-10-22 12:14:10--  http://das.sdss.org/imaging/5314/40/objcs/2/psField-005314-2-0300.fit\n",
      "Resolving wwwproxy.bath.ac.uk (wwwproxy.bath.ac.uk)... 138.38.44.101\n",
      "Connecting to wwwproxy.bath.ac.uk (wwwproxy.bath.ac.uk)|138.38.44.101|:3128... connected.\n"
     ]
    },
    {
     "name": "stderr",
     "output_type": "stream",
     "text": [
      "Proxy request sent, awaiting response... 200 OK\n",
      "Length: 521280 (509K) [image/fits]\n",
      "Saving to: ‘psField-005314-2-0300.fit’\n",
      "\n",
      "     0K .......... .......... .......... .......... ..........  9%  193K 2s\n",
      "    50K .......... .......... .......... .......... .......... 19%  289K 2s\n",
      "   100K .......... .......... .......... .......... .......... 29%  577K 1s\n",
      "   150K .......... .......... .......... .......... .......... 39%  558K 1s\n",
      "   200K .......... .......... .......... .......... .......... 49%  288K 1s\n",
      "   250K .......... .......... .......... .......... .......... 58%  562K 1s\n",
      "   300K .......... .......... .......... .......... .......... 68%  576K 0s\n",
      "   350K .......... .......... .......... .......... .......... 78%  571K 0s\n",
      "   400K .......... .......... .......... .......... .......... 88%  575K 0s\n",
      "   450K .......... .......... .......... .......... .......... 98% 92.9M 0s\n",
      "   500K .........                                             100% 95.4M=1.1s\n",
      "\n",
      "2022-10-22 12:14:12 (449 KB/s) - ‘psField-005314-2-0300.fit’ saved [521280/521280]\n",
      "\n",
      "sh: 1: /u/e/jb2854/Mergers_Project/Images/RealSim/Sources/utils/sdss-apps/readAtlasImages-v5_4_11/read_PSF: Exec format error\n"
     ]
    },
    {
     "ename": "FileNotFoundError",
     "evalue": "[Errno 2] No such file or directory: 'psField-005314-2-0300.fit'",
     "output_type": "error",
     "traceback": [
      "\u001b[0;31m---------------------------------------------------------------------------\u001b[0m",
      "\u001b[0;31mFileNotFoundError\u001b[0m                         Traceback (most recent call last)",
      "\u001b[0;32m/tmp/ipykernel_59831/605396348.py\u001b[0m in \u001b[0;36m<module>\u001b[0;34m\u001b[0m\n\u001b[1;32m     12\u001b[0m         \u001b[0mimgName\u001b[0m \u001b[0;34m=\u001b[0m \u001b[0m_imgName\u001b[0m\u001b[0;34m.\u001b[0m\u001b[0mreplace\u001b[0m\u001b[0;34m(\u001b[0m\u001b[0;34m'photo_r'\u001b[0m\u001b[0;34m,\u001b[0m\u001b[0;34m'photo_{}'\u001b[0m\u001b[0;34m.\u001b[0m\u001b[0mformat\u001b[0m\u001b[0;34m(\u001b[0m\u001b[0mband\u001b[0m\u001b[0;34m)\u001b[0m\u001b[0;34m)\u001b[0m\u001b[0;34m\u001b[0m\u001b[0;34m\u001b[0m\u001b[0m\n\u001b[1;32m     13\u001b[0m         \u001b[0moutName\u001b[0m \u001b[0;34m=\u001b[0m \u001b[0m_outName\u001b[0m\u001b[0;34m.\u001b[0m\u001b[0mreplace\u001b[0m\u001b[0;34m(\u001b[0m\u001b[0;34m'photo_r'\u001b[0m\u001b[0;34m,\u001b[0m\u001b[0;34m'photo_{}'\u001b[0m\u001b[0;34m.\u001b[0m\u001b[0mformat\u001b[0m\u001b[0;34m(\u001b[0m\u001b[0mband\u001b[0m\u001b[0;34m)\u001b[0m\u001b[0;34m)\u001b[0m\u001b[0;34m\u001b[0m\u001b[0;34m\u001b[0m\u001b[0m\n\u001b[0;32m---> 14\u001b[0;31m         \u001b[0mObsRealism\u001b[0m\u001b[0;34m(\u001b[0m\u001b[0mimgName\u001b[0m\u001b[0;34m,\u001b[0m\u001b[0moutName\u001b[0m\u001b[0;34m,\u001b[0m\u001b[0mband\u001b[0m\u001b[0;34m=\u001b[0m\u001b[0mband\u001b[0m\u001b[0;34m,\u001b[0m\u001b[0mcommon_args\u001b[0m\u001b[0;34m=\u001b[0m\u001b[0mcommon_args\u001b[0m\u001b[0;34m,\u001b[0m\u001b[0msdss_args\u001b[0m\u001b[0;34m=\u001b[0m\u001b[0msdss_args\u001b[0m\u001b[0;34m)\u001b[0m\u001b[0;34m\u001b[0m\u001b[0;34m\u001b[0m\u001b[0m\n\u001b[0m",
      "\u001b[0;32m~/Mergers_Project/Images/RealSim/ObsRealism.py\u001b[0m in \u001b[0;36mObsRealism\u001b[0;34m(inputName, outputName, band, cosmo, common_args, sdss_args)\u001b[0m\n\u001b[1;32m    391\u001b[0m             \u001b[0;32mif\u001b[0m \u001b[0mos\u001b[0m\u001b[0;34m.\u001b[0m\u001b[0maccess\u001b[0m\u001b[0;34m(\u001b[0m\u001b[0mpsf_image_name\u001b[0m\u001b[0;34m,\u001b[0m\u001b[0;36m0\u001b[0m\u001b[0;34m)\u001b[0m\u001b[0;34m:\u001b[0m \u001b[0mos\u001b[0m\u001b[0;34m.\u001b[0m\u001b[0mremove\u001b[0m\u001b[0;34m(\u001b[0m\u001b[0mpsf_image_name\u001b[0m\u001b[0;34m)\u001b[0m\u001b[0;34m\u001b[0m\u001b[0;34m\u001b[0m\u001b[0m\n\u001b[1;32m    392\u001b[0m             \u001b[0;31m# remove softbias from PSF\u001b[0m\u001b[0;34m\u001b[0m\u001b[0;34m\u001b[0m\u001b[0;34m\u001b[0m\u001b[0m\n\u001b[0;32m--> 393\u001b[0;31m             \u001b[0mpsfdata\u001b[0m \u001b[0;34m=\u001b[0m \u001b[0mfits\u001b[0m\u001b[0;34m.\u001b[0m\u001b[0mgetdata\u001b[0m\u001b[0;34m(\u001b[0m\u001b[0mpsf_image_name\u001b[0m\u001b[0;34m)\u001b[0m\u001b[0;34m.\u001b[0m\u001b[0mastype\u001b[0m\u001b[0;34m(\u001b[0m\u001b[0mfloat\u001b[0m\u001b[0;34m)\u001b[0m\u001b[0;34m-\u001b[0m\u001b[0;36m1000.\u001b[0m\u001b[0;34m\u001b[0m\u001b[0;34m\u001b[0m\u001b[0m\n\u001b[0m\u001b[1;32m    394\u001b[0m             \u001b[0;31m# normalize for convolution with image in nanomaggies\u001b[0m\u001b[0;34m\u001b[0m\u001b[0;34m\u001b[0m\u001b[0;34m\u001b[0m\u001b[0m\n\u001b[1;32m    395\u001b[0m             \u001b[0mpsfdata\u001b[0m \u001b[0;34m/=\u001b[0m \u001b[0mnp\u001b[0m\u001b[0;34m.\u001b[0m\u001b[0msum\u001b[0m\u001b[0;34m(\u001b[0m\u001b[0mpsfdata\u001b[0m\u001b[0;34m)\u001b[0m\u001b[0;34m\u001b[0m\u001b[0;34m\u001b[0m\u001b[0m\n",
      "\u001b[0;32m/opt/anaconda3/envs/astroconda3/lib/python3.7/site-packages/astropy/io/fits/convenience.py\u001b[0m in \u001b[0;36mgetdata\u001b[0;34m(filename, header, lower, upper, view, *args, **kwargs)\u001b[0m\n\u001b[1;32m    207\u001b[0m                      extname is None and extver is None)\n\u001b[1;32m    208\u001b[0m \u001b[0;34m\u001b[0m\u001b[0m\n\u001b[0;32m--> 209\u001b[0;31m     \u001b[0mhdulist\u001b[0m\u001b[0;34m,\u001b[0m \u001b[0mextidx\u001b[0m \u001b[0;34m=\u001b[0m \u001b[0m_getext\u001b[0m\u001b[0;34m(\u001b[0m\u001b[0mfilename\u001b[0m\u001b[0;34m,\u001b[0m \u001b[0mmode\u001b[0m\u001b[0;34m,\u001b[0m \u001b[0;34m*\u001b[0m\u001b[0margs\u001b[0m\u001b[0;34m,\u001b[0m \u001b[0;34m**\u001b[0m\u001b[0mkwargs\u001b[0m\u001b[0;34m)\u001b[0m\u001b[0;34m\u001b[0m\u001b[0;34m\u001b[0m\u001b[0m\n\u001b[0m\u001b[1;32m    210\u001b[0m     \u001b[0;32mtry\u001b[0m\u001b[0;34m:\u001b[0m\u001b[0;34m\u001b[0m\u001b[0;34m\u001b[0m\u001b[0m\n\u001b[1;32m    211\u001b[0m         \u001b[0mhdu\u001b[0m \u001b[0;34m=\u001b[0m \u001b[0mhdulist\u001b[0m\u001b[0;34m[\u001b[0m\u001b[0mextidx\u001b[0m\u001b[0;34m]\u001b[0m\u001b[0;34m\u001b[0m\u001b[0;34m\u001b[0m\u001b[0m\n",
      "\u001b[0;32m/opt/anaconda3/envs/astroconda3/lib/python3.7/site-packages/astropy/io/fits/convenience.py\u001b[0m in \u001b[0;36m_getext\u001b[0;34m(filename, mode, ext, extname, extver, *args, **kwargs)\u001b[0m\n\u001b[1;32m   1088\u001b[0m         \u001b[0;32mraise\u001b[0m \u001b[0mTypeError\u001b[0m\u001b[0;34m(\u001b[0m\u001b[0;34m'extver alone cannot specify an extension.'\u001b[0m\u001b[0;34m)\u001b[0m\u001b[0;34m\u001b[0m\u001b[0;34m\u001b[0m\u001b[0m\n\u001b[1;32m   1089\u001b[0m \u001b[0;34m\u001b[0m\u001b[0m\n\u001b[0;32m-> 1090\u001b[0;31m     \u001b[0mhdulist\u001b[0m \u001b[0;34m=\u001b[0m \u001b[0mfitsopen\u001b[0m\u001b[0;34m(\u001b[0m\u001b[0mfilename\u001b[0m\u001b[0;34m,\u001b[0m \u001b[0mmode\u001b[0m\u001b[0;34m=\u001b[0m\u001b[0mmode\u001b[0m\u001b[0;34m,\u001b[0m \u001b[0;34m**\u001b[0m\u001b[0mkwargs\u001b[0m\u001b[0;34m)\u001b[0m\u001b[0;34m\u001b[0m\u001b[0;34m\u001b[0m\u001b[0m\n\u001b[0m\u001b[1;32m   1091\u001b[0m \u001b[0;34m\u001b[0m\u001b[0m\n\u001b[1;32m   1092\u001b[0m     \u001b[0;32mreturn\u001b[0m \u001b[0mhdulist\u001b[0m\u001b[0;34m,\u001b[0m \u001b[0mext\u001b[0m\u001b[0;34m\u001b[0m\u001b[0;34m\u001b[0m\u001b[0m\n",
      "\u001b[0;32m/opt/anaconda3/envs/astroconda3/lib/python3.7/site-packages/astropy/io/fits/hdu/hdulist.py\u001b[0m in \u001b[0;36mfitsopen\u001b[0;34m(name, mode, memmap, save_backup, cache, lazy_load_hdus, ignore_missing_simple, **kwargs)\u001b[0m\n\u001b[1;32m    172\u001b[0m \u001b[0;34m\u001b[0m\u001b[0m\n\u001b[1;32m    173\u001b[0m     return HDUList.fromfile(name, mode, memmap, save_backup, cache,\n\u001b[0;32m--> 174\u001b[0;31m                             lazy_load_hdus, ignore_missing_simple, **kwargs)\n\u001b[0m\u001b[1;32m    175\u001b[0m \u001b[0;34m\u001b[0m\u001b[0m\n\u001b[1;32m    176\u001b[0m \u001b[0;34m\u001b[0m\u001b[0m\n",
      "\u001b[0;32m/opt/anaconda3/envs/astroconda3/lib/python3.7/site-packages/astropy/io/fits/hdu/hdulist.py\u001b[0m in \u001b[0;36mfromfile\u001b[0;34m(cls, fileobj, mode, memmap, save_backup, cache, lazy_load_hdus, ignore_missing_simple, **kwargs)\u001b[0m\n\u001b[1;32m    409\u001b[0m                              \u001b[0msave_backup\u001b[0m\u001b[0;34m=\u001b[0m\u001b[0msave_backup\u001b[0m\u001b[0;34m,\u001b[0m \u001b[0mcache\u001b[0m\u001b[0;34m=\u001b[0m\u001b[0mcache\u001b[0m\u001b[0;34m,\u001b[0m\u001b[0;34m\u001b[0m\u001b[0;34m\u001b[0m\u001b[0m\n\u001b[1;32m    410\u001b[0m                              \u001b[0mignore_missing_simple\u001b[0m\u001b[0;34m=\u001b[0m\u001b[0mignore_missing_simple\u001b[0m\u001b[0;34m,\u001b[0m\u001b[0;34m\u001b[0m\u001b[0;34m\u001b[0m\u001b[0m\n\u001b[0;32m--> 411\u001b[0;31m                              lazy_load_hdus=lazy_load_hdus, **kwargs)\n\u001b[0m\u001b[1;32m    412\u001b[0m \u001b[0;34m\u001b[0m\u001b[0m\n\u001b[1;32m    413\u001b[0m     \u001b[0;34m@\u001b[0m\u001b[0mclassmethod\u001b[0m\u001b[0;34m\u001b[0m\u001b[0;34m\u001b[0m\u001b[0m\n",
      "\u001b[0;32m/opt/anaconda3/envs/astroconda3/lib/python3.7/site-packages/astropy/io/fits/hdu/hdulist.py\u001b[0m in \u001b[0;36m_readfrom\u001b[0;34m(cls, fileobj, data, mode, memmap, cache, lazy_load_hdus, ignore_missing_simple, **kwargs)\u001b[0m\n\u001b[1;32m   1062\u001b[0m             \u001b[0;32mif\u001b[0m \u001b[0;32mnot\u001b[0m \u001b[0misinstance\u001b[0m\u001b[0;34m(\u001b[0m\u001b[0mfileobj\u001b[0m\u001b[0;34m,\u001b[0m \u001b[0m_File\u001b[0m\u001b[0;34m)\u001b[0m\u001b[0;34m:\u001b[0m\u001b[0;34m\u001b[0m\u001b[0;34m\u001b[0m\u001b[0m\n\u001b[1;32m   1063\u001b[0m                 \u001b[0;31m# instantiate a FITS file object (ffo)\u001b[0m\u001b[0;34m\u001b[0m\u001b[0;34m\u001b[0m\u001b[0;34m\u001b[0m\u001b[0m\n\u001b[0;32m-> 1064\u001b[0;31m                 \u001b[0mfileobj\u001b[0m \u001b[0;34m=\u001b[0m \u001b[0m_File\u001b[0m\u001b[0;34m(\u001b[0m\u001b[0mfileobj\u001b[0m\u001b[0;34m,\u001b[0m \u001b[0mmode\u001b[0m\u001b[0;34m=\u001b[0m\u001b[0mmode\u001b[0m\u001b[0;34m,\u001b[0m \u001b[0mmemmap\u001b[0m\u001b[0;34m=\u001b[0m\u001b[0mmemmap\u001b[0m\u001b[0;34m,\u001b[0m \u001b[0mcache\u001b[0m\u001b[0;34m=\u001b[0m\u001b[0mcache\u001b[0m\u001b[0;34m)\u001b[0m\u001b[0;34m\u001b[0m\u001b[0;34m\u001b[0m\u001b[0m\n\u001b[0m\u001b[1;32m   1065\u001b[0m             \u001b[0;31m# The Astropy mode is determined by the _File initializer if the\u001b[0m\u001b[0;34m\u001b[0m\u001b[0;34m\u001b[0m\u001b[0;34m\u001b[0m\u001b[0m\n\u001b[1;32m   1066\u001b[0m             \u001b[0;31m# supplied mode was None\u001b[0m\u001b[0;34m\u001b[0m\u001b[0;34m\u001b[0m\u001b[0;34m\u001b[0m\u001b[0m\n",
      "\u001b[0;32m/opt/anaconda3/envs/astroconda3/lib/python3.7/site-packages/astropy/utils/decorators.py\u001b[0m in \u001b[0;36mwrapper\u001b[0;34m(*args, **kwargs)\u001b[0m\n\u001b[1;32m    534\u001b[0m                     \u001b[0mwarnings\u001b[0m\u001b[0;34m.\u001b[0m\u001b[0mwarn\u001b[0m\u001b[0;34m(\u001b[0m\u001b[0mmessage\u001b[0m\u001b[0;34m,\u001b[0m \u001b[0mwarning_type\u001b[0m\u001b[0;34m,\u001b[0m \u001b[0mstacklevel\u001b[0m\u001b[0;34m=\u001b[0m\u001b[0;36m2\u001b[0m\u001b[0;34m)\u001b[0m\u001b[0;34m\u001b[0m\u001b[0;34m\u001b[0m\u001b[0m\n\u001b[1;32m    535\u001b[0m \u001b[0;34m\u001b[0m\u001b[0m\n\u001b[0;32m--> 536\u001b[0;31m             \u001b[0;32mreturn\u001b[0m \u001b[0mfunction\u001b[0m\u001b[0;34m(\u001b[0m\u001b[0;34m*\u001b[0m\u001b[0margs\u001b[0m\u001b[0;34m,\u001b[0m \u001b[0;34m**\u001b[0m\u001b[0mkwargs\u001b[0m\u001b[0;34m)\u001b[0m\u001b[0;34m\u001b[0m\u001b[0;34m\u001b[0m\u001b[0m\n\u001b[0m\u001b[1;32m    537\u001b[0m \u001b[0;34m\u001b[0m\u001b[0m\n\u001b[1;32m    538\u001b[0m         \u001b[0;32mreturn\u001b[0m \u001b[0mwrapper\u001b[0m\u001b[0;34m\u001b[0m\u001b[0;34m\u001b[0m\u001b[0m\n",
      "\u001b[0;32m/opt/anaconda3/envs/astroconda3/lib/python3.7/site-packages/astropy/io/fits/file.py\u001b[0m in \u001b[0;36m__init__\u001b[0;34m(self, fileobj, mode, memmap, overwrite, cache)\u001b[0m\n\u001b[1;32m    168\u001b[0m             \u001b[0mself\u001b[0m\u001b[0;34m.\u001b[0m\u001b[0m_open_fileobj\u001b[0m\u001b[0;34m(\u001b[0m\u001b[0mfileobj\u001b[0m\u001b[0;34m,\u001b[0m \u001b[0mmode\u001b[0m\u001b[0;34m,\u001b[0m \u001b[0moverwrite\u001b[0m\u001b[0;34m)\u001b[0m\u001b[0;34m\u001b[0m\u001b[0;34m\u001b[0m\u001b[0m\n\u001b[1;32m    169\u001b[0m         \u001b[0;32melif\u001b[0m \u001b[0misinstance\u001b[0m\u001b[0;34m(\u001b[0m\u001b[0mfileobj\u001b[0m\u001b[0;34m,\u001b[0m \u001b[0;34m(\u001b[0m\u001b[0mstr\u001b[0m\u001b[0;34m,\u001b[0m \u001b[0mbytes\u001b[0m\u001b[0;34m)\u001b[0m\u001b[0;34m)\u001b[0m\u001b[0;34m:\u001b[0m\u001b[0;34m\u001b[0m\u001b[0;34m\u001b[0m\u001b[0m\n\u001b[0;32m--> 170\u001b[0;31m             \u001b[0mself\u001b[0m\u001b[0;34m.\u001b[0m\u001b[0m_open_filename\u001b[0m\u001b[0;34m(\u001b[0m\u001b[0mfileobj\u001b[0m\u001b[0;34m,\u001b[0m \u001b[0mmode\u001b[0m\u001b[0;34m,\u001b[0m \u001b[0moverwrite\u001b[0m\u001b[0;34m)\u001b[0m\u001b[0;34m\u001b[0m\u001b[0;34m\u001b[0m\u001b[0m\n\u001b[0m\u001b[1;32m    171\u001b[0m         \u001b[0;32melse\u001b[0m\u001b[0;34m:\u001b[0m\u001b[0;34m\u001b[0m\u001b[0;34m\u001b[0m\u001b[0m\n\u001b[1;32m    172\u001b[0m             \u001b[0mself\u001b[0m\u001b[0;34m.\u001b[0m\u001b[0m_open_filelike\u001b[0m\u001b[0;34m(\u001b[0m\u001b[0mfileobj\u001b[0m\u001b[0;34m,\u001b[0m \u001b[0mmode\u001b[0m\u001b[0;34m,\u001b[0m \u001b[0moverwrite\u001b[0m\u001b[0;34m)\u001b[0m\u001b[0;34m\u001b[0m\u001b[0;34m\u001b[0m\u001b[0m\n",
      "\u001b[0;32m/opt/anaconda3/envs/astroconda3/lib/python3.7/site-packages/astropy/io/fits/file.py\u001b[0m in \u001b[0;36m_open_filename\u001b[0;34m(self, filename, mode, overwrite)\u001b[0m\n\u001b[1;32m    556\u001b[0m \u001b[0;34m\u001b[0m\u001b[0m\n\u001b[1;32m    557\u001b[0m         \u001b[0;32mif\u001b[0m \u001b[0;32mnot\u001b[0m \u001b[0mself\u001b[0m\u001b[0;34m.\u001b[0m\u001b[0m_try_read_compressed\u001b[0m\u001b[0;34m(\u001b[0m\u001b[0mself\u001b[0m\u001b[0;34m.\u001b[0m\u001b[0mname\u001b[0m\u001b[0;34m,\u001b[0m \u001b[0mmagic\u001b[0m\u001b[0;34m,\u001b[0m \u001b[0mmode\u001b[0m\u001b[0;34m,\u001b[0m \u001b[0mext\u001b[0m\u001b[0;34m=\u001b[0m\u001b[0mext\u001b[0m\u001b[0;34m)\u001b[0m\u001b[0;34m:\u001b[0m\u001b[0;34m\u001b[0m\u001b[0;34m\u001b[0m\u001b[0m\n\u001b[0;32m--> 558\u001b[0;31m             \u001b[0mself\u001b[0m\u001b[0;34m.\u001b[0m\u001b[0m_file\u001b[0m \u001b[0;34m=\u001b[0m \u001b[0mfileobj_open\u001b[0m\u001b[0;34m(\u001b[0m\u001b[0mself\u001b[0m\u001b[0;34m.\u001b[0m\u001b[0mname\u001b[0m\u001b[0;34m,\u001b[0m \u001b[0mIO_FITS_MODES\u001b[0m\u001b[0;34m[\u001b[0m\u001b[0mmode\u001b[0m\u001b[0;34m]\u001b[0m\u001b[0;34m)\u001b[0m\u001b[0;34m\u001b[0m\u001b[0;34m\u001b[0m\u001b[0m\n\u001b[0m\u001b[1;32m    559\u001b[0m             \u001b[0mself\u001b[0m\u001b[0;34m.\u001b[0m\u001b[0mclose_on_error\u001b[0m \u001b[0;34m=\u001b[0m \u001b[0;32mTrue\u001b[0m\u001b[0;34m\u001b[0m\u001b[0;34m\u001b[0m\u001b[0m\n\u001b[1;32m    560\u001b[0m \u001b[0;34m\u001b[0m\u001b[0m\n",
      "\u001b[0;32m/opt/anaconda3/envs/astroconda3/lib/python3.7/site-packages/astropy/io/fits/util.py\u001b[0m in \u001b[0;36mfileobj_open\u001b[0;34m(filename, mode)\u001b[0m\n\u001b[1;32m    388\u001b[0m     \"\"\"\n\u001b[1;32m    389\u001b[0m \u001b[0;34m\u001b[0m\u001b[0m\n\u001b[0;32m--> 390\u001b[0;31m     \u001b[0;32mreturn\u001b[0m \u001b[0mopen\u001b[0m\u001b[0;34m(\u001b[0m\u001b[0mfilename\u001b[0m\u001b[0;34m,\u001b[0m \u001b[0mmode\u001b[0m\u001b[0;34m,\u001b[0m \u001b[0mbuffering\u001b[0m\u001b[0;34m=\u001b[0m\u001b[0;36m0\u001b[0m\u001b[0;34m)\u001b[0m\u001b[0;34m\u001b[0m\u001b[0;34m\u001b[0m\u001b[0m\n\u001b[0m\u001b[1;32m    391\u001b[0m \u001b[0;34m\u001b[0m\u001b[0m\n\u001b[1;32m    392\u001b[0m \u001b[0;34m\u001b[0m\u001b[0m\n",
      "\u001b[0;31mFileNotFoundError\u001b[0m: [Errno 2] No such file or directory: 'psField-005314-2-0300.fit'"
     ]
    }
   ],
   "source": [
    "for _imgName in imgList:\n",
    "    # get redshift from FITS header\n",
    "    common_args['redshift'] = fits.getheader(_imgName)['REDSHIFT']\n",
    "    # set holder for output names\n",
    "    _outName = _imgName.replace(img_base_path,output_path).replace('total.fits','FullReal.fits')\n",
    "    # skip image if output already exists\n",
    "    if os.access(_outName,0):continue\n",
    "    # draw SDSS field and select insertion point\n",
    "    sdss_args = make_sdss_args(field_info)\n",
    "    # loop over each band\n",
    "    for band in bands:\n",
    "        imgName = _imgName.replace('photo_r','photo_{}'.format(band))\n",
    "        outName = _outName.replace('photo_r','photo_{}'.format(band))\n",
    "        ObsRealism(imgName,outName,band=band,common_args=common_args,sdss_args=sdss_args)"
   ]
  },
  {
   "cell_type": "code",
   "execution_count": null,
   "id": "31157245",
   "metadata": {},
   "outputs": [],
   "source": []
  }
 ],
 "metadata": {
  "kernelspec": {
   "display_name": "Python 3 (ipykernel)",
   "language": "python",
   "name": "python3"
  },
  "language_info": {
   "codemirror_mode": {
    "name": "ipython",
    "version": 3
   },
   "file_extension": ".py",
   "mimetype": "text/x-python",
   "name": "python",
   "nbconvert_exporter": "python",
   "pygments_lexer": "ipython3",
   "version": "3.7.13"
  }
 },
 "nbformat": 4,
 "nbformat_minor": 5
}
